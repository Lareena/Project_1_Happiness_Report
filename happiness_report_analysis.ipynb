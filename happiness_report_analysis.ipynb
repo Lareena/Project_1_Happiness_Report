{
 "cells": [
  {
   "cell_type": "markdown",
   "metadata": {},
   "source": [
    "   # What Make Us Smile: World Happiness Data at a Glance"
   ]
  },
  {
   "cell_type": "markdown",
   "metadata": {},
   "source": [
    "What is the factor that most influence the level of happiness?\n",
    "\n",
    "  - **Hypothesis**: GDP is positively related to happiness level.\n",
    "  \n",
    "  - **Nullhypothesis**: GDP is not related to the happiness level."
   ]
  },
  {
   "cell_type": "markdown",
   "metadata": {},
   "source": [
    "*Bakground: The happiness score ranking use data from theGallup World Poll. The scores are based on answers to different factors including GDP, freedom,family, social support and others. There are over 150 countries in this dataset, ranging from 2015 to 2020. For our analysis, we only include 2018-2020 since these three years have similar traits.*\n",
    "\n",
    "source: https://www.kaggle.com/mathurinache/world-happiness-report?select=2015.csv"
   ]
  },
  {
   "cell_type": "markdown",
   "metadata": {},
   "source": [
    "### 1. Cleaning process"
   ]
  },
  {
   "cell_type": "code",
   "execution_count": 1,
   "metadata": {},
   "outputs": [],
   "source": [
    "# Dependencies\n",
    "import numpy as np\n",
    "import pandas as pd\n",
    "import matplotlib.pyplot as plt\n",
    "import scipy.stats as stats\n",
    "import os\n",
    "import csv"
   ]
  },
  {
   "cell_type": "code",
   "execution_count": 2,
   "metadata": {},
   "outputs": [],
   "source": [
    "#The path to the CSV file\n",
    "file_2018 = \"Resources/2018.csv\"\n",
    "file_2019 = \"Resources/2019.csv\"\n",
    "file_2020 = \"Resources/2020.csv\""
   ]
  },
  {
   "cell_type": "code",
   "execution_count": 3,
   "metadata": {},
   "outputs": [],
   "source": [
    "# Read the files\n",
    "df_2018 = pd.read_csv(file_2018)\n",
    "df_2019 = pd.read_csv(file_2019)\n",
    "df_2020 = pd.read_csv(file_2020)"
   ]
  },
  {
   "cell_type": "code",
   "execution_count": 4,
   "metadata": {},
   "outputs": [
    {
     "data": {
      "text/html": [
       "<div>\n",
       "<style scoped>\n",
       "    .dataframe tbody tr th:only-of-type {\n",
       "        vertical-align: middle;\n",
       "    }\n",
       "\n",
       "    .dataframe tbody tr th {\n",
       "        vertical-align: top;\n",
       "    }\n",
       "\n",
       "    .dataframe thead th {\n",
       "        text-align: right;\n",
       "    }\n",
       "</style>\n",
       "<table border=\"1\" class=\"dataframe\">\n",
       "  <thead>\n",
       "    <tr style=\"text-align: right;\">\n",
       "      <th></th>\n",
       "      <th>Country name</th>\n",
       "      <th>Regional indicator</th>\n",
       "      <th>Ladder score</th>\n",
       "      <th>Standard error of ladder score</th>\n",
       "      <th>upperwhisker</th>\n",
       "      <th>lowerwhisker</th>\n",
       "      <th>Logged GDP per capita</th>\n",
       "      <th>Social support</th>\n",
       "      <th>Healthy life expectancy</th>\n",
       "      <th>Freedom to make life choices</th>\n",
       "      <th>Generosity</th>\n",
       "      <th>Perceptions of corruption</th>\n",
       "      <th>Ladder score in Dystopia</th>\n",
       "      <th>Explained by: Log GDP per capita</th>\n",
       "      <th>Explained by: Social support</th>\n",
       "      <th>Explained by: Healthy life expectancy</th>\n",
       "      <th>Explained by: Freedom to make life choices</th>\n",
       "      <th>Explained by: Generosity</th>\n",
       "      <th>Explained by: Perceptions of corruption</th>\n",
       "      <th>Dystopia + residual</th>\n",
       "    </tr>\n",
       "  </thead>\n",
       "  <tbody>\n",
       "    <tr>\n",
       "      <th>0</th>\n",
       "      <td>Finland</td>\n",
       "      <td>Western Europe</td>\n",
       "      <td>7.8087</td>\n",
       "      <td>0.031156</td>\n",
       "      <td>7.869766</td>\n",
       "      <td>7.747634</td>\n",
       "      <td>10.639267</td>\n",
       "      <td>0.954330</td>\n",
       "      <td>71.900825</td>\n",
       "      <td>0.949172</td>\n",
       "      <td>-0.059482</td>\n",
       "      <td>0.195445</td>\n",
       "      <td>1.972317</td>\n",
       "      <td>1.285190</td>\n",
       "      <td>1.499526</td>\n",
       "      <td>0.961271</td>\n",
       "      <td>0.662317</td>\n",
       "      <td>0.159670</td>\n",
       "      <td>0.477857</td>\n",
       "      <td>2.762835</td>\n",
       "    </tr>\n",
       "    <tr>\n",
       "      <th>1</th>\n",
       "      <td>Denmark</td>\n",
       "      <td>Western Europe</td>\n",
       "      <td>7.6456</td>\n",
       "      <td>0.033492</td>\n",
       "      <td>7.711245</td>\n",
       "      <td>7.579955</td>\n",
       "      <td>10.774001</td>\n",
       "      <td>0.955991</td>\n",
       "      <td>72.402504</td>\n",
       "      <td>0.951444</td>\n",
       "      <td>0.066202</td>\n",
       "      <td>0.168489</td>\n",
       "      <td>1.972317</td>\n",
       "      <td>1.326949</td>\n",
       "      <td>1.503449</td>\n",
       "      <td>0.979333</td>\n",
       "      <td>0.665040</td>\n",
       "      <td>0.242793</td>\n",
       "      <td>0.495260</td>\n",
       "      <td>2.432741</td>\n",
       "    </tr>\n",
       "    <tr>\n",
       "      <th>2</th>\n",
       "      <td>Switzerland</td>\n",
       "      <td>Western Europe</td>\n",
       "      <td>7.5599</td>\n",
       "      <td>0.035014</td>\n",
       "      <td>7.628528</td>\n",
       "      <td>7.491272</td>\n",
       "      <td>10.979933</td>\n",
       "      <td>0.942847</td>\n",
       "      <td>74.102448</td>\n",
       "      <td>0.921337</td>\n",
       "      <td>0.105911</td>\n",
       "      <td>0.303728</td>\n",
       "      <td>1.972317</td>\n",
       "      <td>1.390774</td>\n",
       "      <td>1.472403</td>\n",
       "      <td>1.040533</td>\n",
       "      <td>0.628954</td>\n",
       "      <td>0.269056</td>\n",
       "      <td>0.407946</td>\n",
       "      <td>2.350267</td>\n",
       "    </tr>\n",
       "    <tr>\n",
       "      <th>3</th>\n",
       "      <td>Iceland</td>\n",
       "      <td>Western Europe</td>\n",
       "      <td>7.5045</td>\n",
       "      <td>0.059616</td>\n",
       "      <td>7.621347</td>\n",
       "      <td>7.387653</td>\n",
       "      <td>10.772559</td>\n",
       "      <td>0.974670</td>\n",
       "      <td>73.000000</td>\n",
       "      <td>0.948892</td>\n",
       "      <td>0.246944</td>\n",
       "      <td>0.711710</td>\n",
       "      <td>1.972317</td>\n",
       "      <td>1.326502</td>\n",
       "      <td>1.547567</td>\n",
       "      <td>1.000843</td>\n",
       "      <td>0.661981</td>\n",
       "      <td>0.362330</td>\n",
       "      <td>0.144541</td>\n",
       "      <td>2.460688</td>\n",
       "    </tr>\n",
       "    <tr>\n",
       "      <th>4</th>\n",
       "      <td>Norway</td>\n",
       "      <td>Western Europe</td>\n",
       "      <td>7.4880</td>\n",
       "      <td>0.034837</td>\n",
       "      <td>7.556281</td>\n",
       "      <td>7.419719</td>\n",
       "      <td>11.087804</td>\n",
       "      <td>0.952487</td>\n",
       "      <td>73.200783</td>\n",
       "      <td>0.955750</td>\n",
       "      <td>0.134533</td>\n",
       "      <td>0.263218</td>\n",
       "      <td>1.972317</td>\n",
       "      <td>1.424207</td>\n",
       "      <td>1.495173</td>\n",
       "      <td>1.008072</td>\n",
       "      <td>0.670201</td>\n",
       "      <td>0.287985</td>\n",
       "      <td>0.434101</td>\n",
       "      <td>2.168266</td>\n",
       "    </tr>\n",
       "  </tbody>\n",
       "</table>\n",
       "</div>"
      ],
      "text/plain": [
       "  Country name Regional indicator  Ladder score  \\\n",
       "0      Finland     Western Europe        7.8087   \n",
       "1      Denmark     Western Europe        7.6456   \n",
       "2  Switzerland     Western Europe        7.5599   \n",
       "3      Iceland     Western Europe        7.5045   \n",
       "4       Norway     Western Europe        7.4880   \n",
       "\n",
       "   Standard error of ladder score  upperwhisker  lowerwhisker  \\\n",
       "0                        0.031156      7.869766      7.747634   \n",
       "1                        0.033492      7.711245      7.579955   \n",
       "2                        0.035014      7.628528      7.491272   \n",
       "3                        0.059616      7.621347      7.387653   \n",
       "4                        0.034837      7.556281      7.419719   \n",
       "\n",
       "   Logged GDP per capita  Social support  Healthy life expectancy  \\\n",
       "0              10.639267        0.954330                71.900825   \n",
       "1              10.774001        0.955991                72.402504   \n",
       "2              10.979933        0.942847                74.102448   \n",
       "3              10.772559        0.974670                73.000000   \n",
       "4              11.087804        0.952487                73.200783   \n",
       "\n",
       "   Freedom to make life choices  Generosity  Perceptions of corruption  \\\n",
       "0                      0.949172   -0.059482                   0.195445   \n",
       "1                      0.951444    0.066202                   0.168489   \n",
       "2                      0.921337    0.105911                   0.303728   \n",
       "3                      0.948892    0.246944                   0.711710   \n",
       "4                      0.955750    0.134533                   0.263218   \n",
       "\n",
       "   Ladder score in Dystopia  Explained by: Log GDP per capita  \\\n",
       "0                  1.972317                          1.285190   \n",
       "1                  1.972317                          1.326949   \n",
       "2                  1.972317                          1.390774   \n",
       "3                  1.972317                          1.326502   \n",
       "4                  1.972317                          1.424207   \n",
       "\n",
       "   Explained by: Social support  Explained by: Healthy life expectancy  \\\n",
       "0                      1.499526                               0.961271   \n",
       "1                      1.503449                               0.979333   \n",
       "2                      1.472403                               1.040533   \n",
       "3                      1.547567                               1.000843   \n",
       "4                      1.495173                               1.008072   \n",
       "\n",
       "   Explained by: Freedom to make life choices  Explained by: Generosity  \\\n",
       "0                                    0.662317                  0.159670   \n",
       "1                                    0.665040                  0.242793   \n",
       "2                                    0.628954                  0.269056   \n",
       "3                                    0.661981                  0.362330   \n",
       "4                                    0.670201                  0.287985   \n",
       "\n",
       "   Explained by: Perceptions of corruption  Dystopia + residual  \n",
       "0                                 0.477857             2.762835  \n",
       "1                                 0.495260             2.432741  \n",
       "2                                 0.407946             2.350267  \n",
       "3                                 0.144541             2.460688  \n",
       "4                                 0.434101             2.168266  "
      ]
     },
     "execution_count": 4,
     "metadata": {},
     "output_type": "execute_result"
    }
   ],
   "source": [
    "# visualizate the data\n",
    "\n",
    "df_2020.head()"
   ]
  },
  {
   "cell_type": "code",
   "execution_count": 5,
   "metadata": {},
   "outputs": [],
   "source": [
    "# Rename ladder score column \n",
    "clean_df_2020 = df_2020.rename(columns={\"Ladder score\":\"Happiness Score\", \"Logged GDP per capita\":\"GDP per capita\"})\n",
    "\n",
    "# Drop unnecesary columns\n",
    "clean_df_2020 = clean_df_2020[[\"Country name\", \"Regional indicator\", \"Happiness Score\", \"GDP per capita\", \"Social support\", \"Healthy life expectancy\", \"Freedom to make life choices\", \"Generosity\"]]"
   ]
  },
  {
   "cell_type": "code",
   "execution_count": 6,
   "metadata": {},
   "outputs": [
    {
     "data": {
      "text/html": [
       "<div>\n",
       "<style scoped>\n",
       "    .dataframe tbody tr th:only-of-type {\n",
       "        vertical-align: middle;\n",
       "    }\n",
       "\n",
       "    .dataframe tbody tr th {\n",
       "        vertical-align: top;\n",
       "    }\n",
       "\n",
       "    .dataframe thead th {\n",
       "        text-align: right;\n",
       "    }\n",
       "</style>\n",
       "<table border=\"1\" class=\"dataframe\">\n",
       "  <thead>\n",
       "    <tr style=\"text-align: right;\">\n",
       "      <th></th>\n",
       "      <th>Country name</th>\n",
       "      <th>Regional indicator</th>\n",
       "      <th>Happiness Score</th>\n",
       "      <th>GDP per capita</th>\n",
       "      <th>Social support</th>\n",
       "      <th>Healthy life expectancy</th>\n",
       "      <th>Freedom to make life choices</th>\n",
       "      <th>Generosity</th>\n",
       "    </tr>\n",
       "  </thead>\n",
       "  <tbody>\n",
       "    <tr>\n",
       "      <th>0</th>\n",
       "      <td>Finland</td>\n",
       "      <td>Western Europe</td>\n",
       "      <td>7.8087</td>\n",
       "      <td>10.639267</td>\n",
       "      <td>0.954330</td>\n",
       "      <td>71.900825</td>\n",
       "      <td>0.949172</td>\n",
       "      <td>-0.059482</td>\n",
       "    </tr>\n",
       "    <tr>\n",
       "      <th>1</th>\n",
       "      <td>Denmark</td>\n",
       "      <td>Western Europe</td>\n",
       "      <td>7.6456</td>\n",
       "      <td>10.774001</td>\n",
       "      <td>0.955991</td>\n",
       "      <td>72.402504</td>\n",
       "      <td>0.951444</td>\n",
       "      <td>0.066202</td>\n",
       "    </tr>\n",
       "    <tr>\n",
       "      <th>2</th>\n",
       "      <td>Switzerland</td>\n",
       "      <td>Western Europe</td>\n",
       "      <td>7.5599</td>\n",
       "      <td>10.979933</td>\n",
       "      <td>0.942847</td>\n",
       "      <td>74.102448</td>\n",
       "      <td>0.921337</td>\n",
       "      <td>0.105911</td>\n",
       "    </tr>\n",
       "    <tr>\n",
       "      <th>3</th>\n",
       "      <td>Iceland</td>\n",
       "      <td>Western Europe</td>\n",
       "      <td>7.5045</td>\n",
       "      <td>10.772559</td>\n",
       "      <td>0.974670</td>\n",
       "      <td>73.000000</td>\n",
       "      <td>0.948892</td>\n",
       "      <td>0.246944</td>\n",
       "    </tr>\n",
       "    <tr>\n",
       "      <th>4</th>\n",
       "      <td>Norway</td>\n",
       "      <td>Western Europe</td>\n",
       "      <td>7.4880</td>\n",
       "      <td>11.087804</td>\n",
       "      <td>0.952487</td>\n",
       "      <td>73.200783</td>\n",
       "      <td>0.955750</td>\n",
       "      <td>0.134533</td>\n",
       "    </tr>\n",
       "    <tr>\n",
       "      <th>...</th>\n",
       "      <td>...</td>\n",
       "      <td>...</td>\n",
       "      <td>...</td>\n",
       "      <td>...</td>\n",
       "      <td>...</td>\n",
       "      <td>...</td>\n",
       "      <td>...</td>\n",
       "      <td>...</td>\n",
       "    </tr>\n",
       "    <tr>\n",
       "      <th>148</th>\n",
       "      <td>Central African Republic</td>\n",
       "      <td>Sub-Saharan Africa</td>\n",
       "      <td>3.4759</td>\n",
       "      <td>6.625160</td>\n",
       "      <td>0.319460</td>\n",
       "      <td>45.200001</td>\n",
       "      <td>0.640881</td>\n",
       "      <td>0.082410</td>\n",
       "    </tr>\n",
       "    <tr>\n",
       "      <th>149</th>\n",
       "      <td>Rwanda</td>\n",
       "      <td>Sub-Saharan Africa</td>\n",
       "      <td>3.3123</td>\n",
       "      <td>7.600104</td>\n",
       "      <td>0.540835</td>\n",
       "      <td>61.098846</td>\n",
       "      <td>0.900589</td>\n",
       "      <td>0.055484</td>\n",
       "    </tr>\n",
       "    <tr>\n",
       "      <th>150</th>\n",
       "      <td>Zimbabwe</td>\n",
       "      <td>Sub-Saharan Africa</td>\n",
       "      <td>3.2992</td>\n",
       "      <td>7.865712</td>\n",
       "      <td>0.763093</td>\n",
       "      <td>55.617260</td>\n",
       "      <td>0.711458</td>\n",
       "      <td>-0.072064</td>\n",
       "    </tr>\n",
       "    <tr>\n",
       "      <th>151</th>\n",
       "      <td>South Sudan</td>\n",
       "      <td>Sub-Saharan Africa</td>\n",
       "      <td>2.8166</td>\n",
       "      <td>7.425360</td>\n",
       "      <td>0.553707</td>\n",
       "      <td>51.000000</td>\n",
       "      <td>0.451314</td>\n",
       "      <td>0.016519</td>\n",
       "    </tr>\n",
       "    <tr>\n",
       "      <th>152</th>\n",
       "      <td>Afghanistan</td>\n",
       "      <td>South Asia</td>\n",
       "      <td>2.5669</td>\n",
       "      <td>7.462861</td>\n",
       "      <td>0.470367</td>\n",
       "      <td>52.590000</td>\n",
       "      <td>0.396573</td>\n",
       "      <td>-0.096429</td>\n",
       "    </tr>\n",
       "  </tbody>\n",
       "</table>\n",
       "<p>153 rows × 8 columns</p>\n",
       "</div>"
      ],
      "text/plain": [
       "                 Country name  Regional indicator  Happiness Score  \\\n",
       "0                     Finland      Western Europe           7.8087   \n",
       "1                     Denmark      Western Europe           7.6456   \n",
       "2                 Switzerland      Western Europe           7.5599   \n",
       "3                     Iceland      Western Europe           7.5045   \n",
       "4                      Norway      Western Europe           7.4880   \n",
       "..                        ...                 ...              ...   \n",
       "148  Central African Republic  Sub-Saharan Africa           3.4759   \n",
       "149                    Rwanda  Sub-Saharan Africa           3.3123   \n",
       "150                  Zimbabwe  Sub-Saharan Africa           3.2992   \n",
       "151               South Sudan  Sub-Saharan Africa           2.8166   \n",
       "152               Afghanistan          South Asia           2.5669   \n",
       "\n",
       "     GDP per capita  Social support  Healthy life expectancy  \\\n",
       "0         10.639267        0.954330                71.900825   \n",
       "1         10.774001        0.955991                72.402504   \n",
       "2         10.979933        0.942847                74.102448   \n",
       "3         10.772559        0.974670                73.000000   \n",
       "4         11.087804        0.952487                73.200783   \n",
       "..              ...             ...                      ...   \n",
       "148        6.625160        0.319460                45.200001   \n",
       "149        7.600104        0.540835                61.098846   \n",
       "150        7.865712        0.763093                55.617260   \n",
       "151        7.425360        0.553707                51.000000   \n",
       "152        7.462861        0.470367                52.590000   \n",
       "\n",
       "     Freedom to make life choices  Generosity  \n",
       "0                        0.949172   -0.059482  \n",
       "1                        0.951444    0.066202  \n",
       "2                        0.921337    0.105911  \n",
       "3                        0.948892    0.246944  \n",
       "4                        0.955750    0.134533  \n",
       "..                            ...         ...  \n",
       "148                      0.640881    0.082410  \n",
       "149                      0.900589    0.055484  \n",
       "150                      0.711458   -0.072064  \n",
       "151                      0.451314    0.016519  \n",
       "152                      0.396573   -0.096429  \n",
       "\n",
       "[153 rows x 8 columns]"
      ]
     },
     "execution_count": 6,
     "metadata": {},
     "output_type": "execute_result"
    }
   ],
   "source": [
    "clean_df_2020"
   ]
  },
  {
   "cell_type": "code",
   "execution_count": 7,
   "metadata": {},
   "outputs": [],
   "source": [
    "# Narrow down the range of countries (Western Europe vs Latin America and Caribbean)\n",
    "\n",
    "region_df_2020 = clean_df_2020.loc[(clean_df_2020[\"Regional indicator\"]==\"Western Europe\")|(clean_df_2020[\"Regional indicator\"]==\"Latin America and Caribbean\")|(clean_df_2020[\"Regional indicator\"]==\"Middle East and North Africa\")\n",
    "                |(clean_df_2020[\"Regional indicator\"]==\"Central and Eastern Europe\")|(clean_df_2020[\"Regional indicator\"]==\"North America and ANZ\")]\n",
    "\n",
    "# Reset the index\n",
    "region_df_2020 = region_df_2020.reset_index(drop=True)"
   ]
  },
  {
   "cell_type": "code",
   "execution_count": 8,
   "metadata": {},
   "outputs": [],
   "source": [
    "# Western Europe df\n",
    "we_df = region_df_2020.loc[(region_df_2020[\"Regional indicator\"]==\"Western Europe\")]"
   ]
  },
  {
   "cell_type": "code",
   "execution_count": 9,
   "metadata": {},
   "outputs": [],
   "source": [
    "# Latin American and Caribbean\n",
    "lac_df = clean_df_2020.loc[(clean_df_2020[\"Regional indicator\"]==\"Latin America and Caribbean\")]"
   ]
  },
  {
   "cell_type": "code",
   "execution_count": 10,
   "metadata": {},
   "outputs": [],
   "source": [
    "# Middle East and North Africa\n",
    "mena_df = region_df_2020.loc[(region_df_2020[\"Regional indicator\"]==\"Middle East and North Africa\")]"
   ]
  },
  {
   "cell_type": "code",
   "execution_count": 11,
   "metadata": {},
   "outputs": [],
   "source": [
    "# Central and Eastern Europe\n",
    "cee_df = region_df_2020.loc[(region_df_2020[\"Regional indicator\"]==\"Central and Eastern Europe\")]"
   ]
  },
  {
   "cell_type": "code",
   "execution_count": 12,
   "metadata": {},
   "outputs": [],
   "source": [
    "# North America and ANZ\n",
    "na_df = region_df_2020.loc[(region_df_2020[\"Regional indicator\"]==\"North America and ANZ\")]"
   ]
  },
  {
   "cell_type": "code",
   "execution_count": 13,
   "metadata": {},
   "outputs": [
    {
     "data": {
      "text/plain": [
       "Country name                    80\n",
       "Regional indicator              80\n",
       "Happiness Score                 80\n",
       "GDP per capita                  80\n",
       "Social support                  80\n",
       "Healthy life expectancy         80\n",
       "Freedom to make life choices    80\n",
       "Generosity                      80\n",
       "dtype: int64"
      ]
     },
     "execution_count": 13,
     "metadata": {},
     "output_type": "execute_result"
    }
   ],
   "source": [
    "# Look for null values\n",
    "region_df_2020.count()"
   ]
  },
  {
   "cell_type": "markdown",
   "metadata": {},
   "source": [
    "### 2. Data visualization"
   ]
  },
  {
   "cell_type": "code",
   "execution_count": 14,
   "metadata": {},
   "outputs": [
    {
     "data": {
      "image/png": "[encoded data removed]",
      "text/plain": [
       "<Figure size 432x288 with 1 Axes>"
      ]
     },
     "metadata": {
      "needs_background": "light"
     },
     "output_type": "display_data"
    }
   ],
   "source": [
    "#Distribution of the data\n",
    "\n",
    "happiness_rate = region_df_2020[\"Happiness Score\"]\n",
    "plt.hist(happiness_rate, color=\"gold\")\n",
    "plt.xlabel('Happiness Rate')\n",
    "plt.show()"
   ]
  },
  {
   "cell_type": "code",
   "execution_count": 15,
   "metadata": {},
   "outputs": [
    {
     "data": {
      "text/html": [
       "<div>\n",
       "<style scoped>\n",
       "    .dataframe tbody tr th:only-of-type {\n",
       "        vertical-align: middle;\n",
       "    }\n",
       "\n",
       "    .dataframe tbody tr th {\n",
       "        vertical-align: top;\n",
       "    }\n",
       "\n",
       "    .dataframe thead th {\n",
       "        text-align: right;\n",
       "    }\n",
       "</style>\n",
       "<table border=\"1\" class=\"dataframe\">\n",
       "  <thead>\n",
       "    <tr style=\"text-align: right;\">\n",
       "      <th></th>\n",
       "      <th>Happiness Score</th>\n",
       "      <th>GDP per capita</th>\n",
       "      <th>Social support</th>\n",
       "      <th>Healthy life expectancy</th>\n",
       "      <th>Freedom to make life choices</th>\n",
       "      <th>Generosity</th>\n",
       "    </tr>\n",
       "  </thead>\n",
       "  <tbody>\n",
       "    <tr>\n",
       "      <th>count</th>\n",
       "      <td>80.000000</td>\n",
       "      <td>80.000000</td>\n",
       "      <td>80.000000</td>\n",
       "      <td>80.000000</td>\n",
       "      <td>80.000000</td>\n",
       "      <td>80.000000</td>\n",
       "    </tr>\n",
       "    <tr>\n",
       "      <th>mean</th>\n",
       "      <td>6.101023</td>\n",
       "      <td>9.967232</td>\n",
       "      <td>0.866472</td>\n",
       "      <td>68.609640</td>\n",
       "      <td>0.802436</td>\n",
       "      <td>-0.040215</td>\n",
       "    </tr>\n",
       "    <tr>\n",
       "      <th>std</th>\n",
       "      <td>0.942664</td>\n",
       "      <td>0.801378</td>\n",
       "      <td>0.077730</td>\n",
       "      <td>3.900124</td>\n",
       "      <td>0.116720</td>\n",
       "      <td>0.145376</td>\n",
       "    </tr>\n",
       "    <tr>\n",
       "      <th>min</th>\n",
       "      <td>3.527400</td>\n",
       "      <td>7.411329</td>\n",
       "      <td>0.592628</td>\n",
       "      <td>55.598625</td>\n",
       "      <td>0.466611</td>\n",
       "      <td>-0.300907</td>\n",
       "    </tr>\n",
       "    <tr>\n",
       "      <th>25%</th>\n",
       "      <td>5.543450</td>\n",
       "      <td>9.456189</td>\n",
       "      <td>0.824956</td>\n",
       "      <td>66.791725</td>\n",
       "      <td>0.743382</td>\n",
       "      <td>-0.158610</td>\n",
       "    </tr>\n",
       "    <tr>\n",
       "      <th>50%</th>\n",
       "      <td>6.174850</td>\n",
       "      <td>10.118502</td>\n",
       "      <td>0.885515</td>\n",
       "      <td>68.399750</td>\n",
       "      <td>0.835462</td>\n",
       "      <td>-0.077146</td>\n",
       "    </tr>\n",
       "    <tr>\n",
       "      <th>75%</th>\n",
       "      <td>6.808975</td>\n",
       "      <td>10.588201</td>\n",
       "      <td>0.922573</td>\n",
       "      <td>72.300821</td>\n",
       "      <td>0.887424</td>\n",
       "      <td>0.085814</td>\n",
       "    </tr>\n",
       "    <tr>\n",
       "      <th>max</th>\n",
       "      <td>7.808700</td>\n",
       "      <td>11.450681</td>\n",
       "      <td>0.974670</td>\n",
       "      <td>74.402710</td>\n",
       "      <td>0.955750</td>\n",
       "      <td>0.400535</td>\n",
       "    </tr>\n",
       "  </tbody>\n",
       "</table>\n",
       "</div>"
      ],
      "text/plain": [
       "       Happiness Score  GDP per capita  Social support  \\\n",
       "count        80.000000       80.000000       80.000000   \n",
       "mean          6.101023        9.967232        0.866472   \n",
       "std           0.942664        0.801378        0.077730   \n",
       "min           3.527400        7.411329        0.592628   \n",
       "25%           5.543450        9.456189        0.824956   \n",
       "50%           6.174850       10.118502        0.885515   \n",
       "75%           6.808975       10.588201        0.922573   \n",
       "max           7.808700       11.450681        0.974670   \n",
       "\n",
       "       Healthy life expectancy  Freedom to make life choices  Generosity  \n",
       "count                80.000000                     80.000000   80.000000  \n",
       "mean                 68.609640                      0.802436   -0.040215  \n",
       "std                   3.900124                      0.116720    0.145376  \n",
       "min                  55.598625                      0.466611   -0.300907  \n",
       "25%                  66.791725                      0.743382   -0.158610  \n",
       "50%                  68.399750                      0.835462   -0.077146  \n",
       "75%                  72.300821                      0.887424    0.085814  \n",
       "max                  74.402710                      0.955750    0.400535  "
      ]
     },
     "execution_count": 15,
     "metadata": {},
     "output_type": "execute_result"
    }
   ],
   "source": [
    "# Describe the data\n",
    "region_df_2020.describe()"
   ]
  },
  {
   "cell_type": "markdown",
   "metadata": {},
   "source": [
    "### 1.1 Do the countries of the same region have the same level of happiness?"
   ]
  },
  {
   "cell_type": "code",
   "execution_count": 16,
   "metadata": {},
   "outputs": [],
   "source": [
    "# Create the variables for the plot\n",
    "\n",
    "# WE Region\n",
    "rate_we = we_df[\"Happiness Score\"].values\n",
    "country_name_we = we_df[\"Country name\"].values\n",
    "# LAC Region\n",
    "rate_lac = lac_df[\"Happiness Score\"].values\n",
    "country_name_lac = lac_df[\"Country name\"].values\n",
    "# MENA Region\n",
    "rate_mena = mena_df[\"Happiness Score\"].values\n",
    "country_name_mena = mena_df[\"Country name\"].values\n",
    "# CEE Region\n",
    "rate_cee = cee_df[\"Happiness Score\"].values\n",
    "country_name_cee = cee_df[\"Country name\"].values\n",
    "# NA REGION\n",
    "rate_na = na_df[\"Happiness Score\"].values\n",
    "country_name_na = na_df[\"Country name\"].values"
   ]
  },
  {
   "cell_type": "code",
   "execution_count": 17,
   "metadata": {},
   "outputs": [
    {
     "data": {
      "image/png": "[encoded data removed]",
      "text/plain": [
       "<Figure size 432x288 with 2 Axes>"
      ]
     },
     "metadata": {
      "needs_background": "light"
     },
     "output_type": "display_data"
    }
   ],
   "source": [
    "plt.subplot(1, 2, 1)\n",
    "happiness_we = plt.barh(country_name_we,rate_we ,color=\"steelblue\", linewidth=1)\n",
    "plt.subplot(1, 2, 2)\n",
    "happiness_lac = plt.barh(country_name_lac,rate_lac ,color=\"darkred\", linewidth=1)\n",
    "plt.tight_layout()\n"
   ]
  },
  {
   "cell_type": "code",
   "execution_count": 18,
   "metadata": {},
   "outputs": [
    {
     "data": {
      "image/png": "[encoded data removed]",
      "text/plain": [
       "<Figure size 432x288 with 2 Axes>"
      ]
     },
     "metadata": {
      "needs_background": "light"
     },
     "output_type": "display_data"
    }
   ],
   "source": [
    "plt.subplot(1, 2, 1)\n",
    "happiness_mena = plt.barh(country_name_mena,rate_mena ,color=\"teal\", linewidth=1)\n",
    "plt.subplot(1, 2, 2)\n",
    "happiness_cee = plt.barh(country_name_cee,rate_cee ,color=\"salmon\", linewidth=1)\n",
    "plt.tight_layout()"
   ]
  },
  {
   "cell_type": "code",
   "execution_count": 19,
   "metadata": {},
   "outputs": [
    {
     "data": {
      "image/png": "[encoded data removed]",
      "text/plain": [
       "<Figure size 432x288 with 1 Axes>"
      ]
     },
     "metadata": {
      "needs_background": "light"
     },
     "output_type": "display_data"
    }
   ],
   "source": [
    "happiness_we = plt.barh(country_name_we,rate_we ,color=\"steelblue\", linewidth=5)"
   ]
  },
  {
   "cell_type": "code",
   "execution_count": 20,
   "metadata": {},
   "outputs": [
    {
     "data": {
      "image/png": "[encoded data removed]",
      "text/plain": [
       "<Figure size 432x288 with 1 Axes>"
      ]
     },
     "metadata": {
      "needs_background": "light"
     },
     "output_type": "display_data"
    }
   ],
   "source": [
    "happiness_lac = plt.barh(country_name_lac,rate_lac ,color=\"darkred\", linewidth=1)"
   ]
  },
  {
   "cell_type": "code",
   "execution_count": 21,
   "metadata": {},
   "outputs": [
    {
     "data": {
      "image/png": "[encoded data removed]",
      "text/plain": [
       "<Figure size 432x288 with 1 Axes>"
      ]
     },
     "metadata": {
      "needs_background": "light"
     },
     "output_type": "display_data"
    }
   ],
   "source": [
    "happiness_mena = plt.barh(country_name_mena,rate_mena ,color=\"teal\", linewidth=1)"
   ]
  },
  {
   "cell_type": "code",
   "execution_count": 22,
   "metadata": {},
   "outputs": [
    {
     "data": {
      "image/png": "[encoded data removed]",
      "text/plain": [
       "<Figure size 432x288 with 1 Axes>"
      ]
     },
     "metadata": {
      "needs_background": "light"
     },
     "output_type": "display_data"
    }
   ],
   "source": [
    "happiness_cee = plt.barh(country_name_cee,rate_cee ,color=\"salmon\", linewidth=1)"
   ]
  },
  {
   "cell_type": "code",
   "execution_count": 23,
   "metadata": {},
   "outputs": [
    {
     "data": {
      "image/png": "[encoded data removed]",
      "text/plain": [
       "<Figure size 432x288 with 1 Axes>"
      ]
     },
     "metadata": {
      "needs_background": "light"
     },
     "output_type": "display_data"
    }
   ],
   "source": [
    "happiness_na = plt.barh(country_name_na,rate_na ,color=\"mediumseagreen\", linewidth=1)"
   ]
  },
  {
   "cell_type": "markdown",
   "metadata": {},
   "source": [
    "### 1.2 Do the variables have the same impact on the happiest countries?"
   ]
  },
  {
   "cell_type": "code",
   "execution_count": 24,
   "metadata": {},
   "outputs": [
    {
     "data": {
      "text/html": [
       "<style  type=\"text/css\" >\n",
       "    #T_1b16b440_0ed4_11eb_a3bd_acde48001122row0_col0 {\n",
       "            background-color:  #b40426;\n",
       "            color:  #f1f1f1;\n",
       "        }    #T_1b16b440_0ed4_11eb_a3bd_acde48001122row0_col1 {\n",
       "            background-color:  #ee8468;\n",
       "            color:  #000000;\n",
       "        }    #T_1b16b440_0ed4_11eb_a3bd_acde48001122row0_col2 {\n",
       "            background-color:  #ea7b60;\n",
       "            color:  #000000;\n",
       "        }    #T_1b16b440_0ed4_11eb_a3bd_acde48001122row0_col3 {\n",
       "            background-color:  #dd5f4b;\n",
       "            color:  #000000;\n",
       "        }    #T_1b16b440_0ed4_11eb_a3bd_acde48001122row0_col4 {\n",
       "            background-color:  #dd5f4b;\n",
       "            color:  #000000;\n",
       "        }    #T_1b16b440_0ed4_11eb_a3bd_acde48001122row0_col5 {\n",
       "            background-color:  #536edd;\n",
       "            color:  #000000;\n",
       "        }    #T_1b16b440_0ed4_11eb_a3bd_acde48001122row1_col0 {\n",
       "            background-color:  #ef886b;\n",
       "            color:  #000000;\n",
       "        }    #T_1b16b440_0ed4_11eb_a3bd_acde48001122row1_col1 {\n",
       "            background-color:  #b40426;\n",
       "            color:  #f1f1f1;\n",
       "        }    #T_1b16b440_0ed4_11eb_a3bd_acde48001122row1_col2 {\n",
       "            background-color:  #dc5d4a;\n",
       "            color:  #000000;\n",
       "        }    #T_1b16b440_0ed4_11eb_a3bd_acde48001122row1_col3 {\n",
       "            background-color:  #ec8165;\n",
       "            color:  #000000;\n",
       "        }    #T_1b16b440_0ed4_11eb_a3bd_acde48001122row1_col4 {\n",
       "            background-color:  #f6bda2;\n",
       "            color:  #000000;\n",
       "        }    #T_1b16b440_0ed4_11eb_a3bd_acde48001122row1_col5 {\n",
       "            background-color:  #465ecf;\n",
       "            color:  #f1f1f1;\n",
       "        }    #T_1b16b440_0ed4_11eb_a3bd_acde48001122row2_col0 {\n",
       "            background-color:  #ec8165;\n",
       "            color:  #000000;\n",
       "        }    #T_1b16b440_0ed4_11eb_a3bd_acde48001122row2_col1 {\n",
       "            background-color:  #dd5f4b;\n",
       "            color:  #000000;\n",
       "        }    #T_1b16b440_0ed4_11eb_a3bd_acde48001122row2_col2 {\n",
       "            background-color:  #b40426;\n",
       "            color:  #f1f1f1;\n",
       "        }    #T_1b16b440_0ed4_11eb_a3bd_acde48001122row2_col3 {\n",
       "            background-color:  #e0654f;\n",
       "            color:  #000000;\n",
       "        }    #T_1b16b440_0ed4_11eb_a3bd_acde48001122row2_col4 {\n",
       "            background-color:  #f7a889;\n",
       "            color:  #000000;\n",
       "        }    #T_1b16b440_0ed4_11eb_a3bd_acde48001122row2_col5 {\n",
       "            background-color:  #3f53c6;\n",
       "            color:  #f1f1f1;\n",
       "        }    #T_1b16b440_0ed4_11eb_a3bd_acde48001122row3_col0 {\n",
       "            background-color:  #df634e;\n",
       "            color:  #000000;\n",
       "        }    #T_1b16b440_0ed4_11eb_a3bd_acde48001122row3_col1 {\n",
       "            background-color:  #ee8468;\n",
       "            color:  #000000;\n",
       "        }    #T_1b16b440_0ed4_11eb_a3bd_acde48001122row3_col2 {\n",
       "            background-color:  #e16751;\n",
       "            color:  #000000;\n",
       "        }    #T_1b16b440_0ed4_11eb_a3bd_acde48001122row3_col3 {\n",
       "            background-color:  #b40426;\n",
       "            color:  #f1f1f1;\n",
       "        }    #T_1b16b440_0ed4_11eb_a3bd_acde48001122row3_col4 {\n",
       "            background-color:  #f7a688;\n",
       "            color:  #000000;\n",
       "        }    #T_1b16b440_0ed4_11eb_a3bd_acde48001122row3_col5 {\n",
       "            background-color:  #3b4cc0;\n",
       "            color:  #f1f1f1;\n",
       "        }    #T_1b16b440_0ed4_11eb_a3bd_acde48001122row4_col0 {\n",
       "            background-color:  #d95847;\n",
       "            color:  #000000;\n",
       "        }    #T_1b16b440_0ed4_11eb_a3bd_acde48001122row4_col1 {\n",
       "            background-color:  #f7af91;\n",
       "            color:  #000000;\n",
       "        }    #T_1b16b440_0ed4_11eb_a3bd_acde48001122row4_col2 {\n",
       "            background-color:  #f39778;\n",
       "            color:  #000000;\n",
       "        }    #T_1b16b440_0ed4_11eb_a3bd_acde48001122row4_col3 {\n",
       "            background-color:  #f39475;\n",
       "            color:  #000000;\n",
       "        }    #T_1b16b440_0ed4_11eb_a3bd_acde48001122row4_col4 {\n",
       "            background-color:  #b40426;\n",
       "            color:  #f1f1f1;\n",
       "        }    #T_1b16b440_0ed4_11eb_a3bd_acde48001122row4_col5 {\n",
       "            background-color:  #6c8ff1;\n",
       "            color:  #000000;\n",
       "        }    #T_1b16b440_0ed4_11eb_a3bd_acde48001122row5_col0 {\n",
       "            background-color:  #3b4cc0;\n",
       "            color:  #f1f1f1;\n",
       "        }    #T_1b16b440_0ed4_11eb_a3bd_acde48001122row5_col1 {\n",
       "            background-color:  #3b4cc0;\n",
       "            color:  #f1f1f1;\n",
       "        }    #T_1b16b440_0ed4_11eb_a3bd_acde48001122row5_col2 {\n",
       "            background-color:  #3b4cc0;\n",
       "            color:  #f1f1f1;\n",
       "        }    #T_1b16b440_0ed4_11eb_a3bd_acde48001122row5_col3 {\n",
       "            background-color:  #3b4cc0;\n",
       "            color:  #f1f1f1;\n",
       "        }    #T_1b16b440_0ed4_11eb_a3bd_acde48001122row5_col4 {\n",
       "            background-color:  #3b4cc0;\n",
       "            color:  #f1f1f1;\n",
       "        }    #T_1b16b440_0ed4_11eb_a3bd_acde48001122row5_col5 {\n",
       "            background-color:  #b40426;\n",
       "            color:  #f1f1f1;\n",
       "        }</style><table id=\"T_1b16b440_0ed4_11eb_a3bd_acde48001122\" ><thead>    <tr>        <th class=\"blank level0\" ></th>        <th class=\"col_heading level0 col0\" >Happiness Score</th>        <th class=\"col_heading level0 col1\" >GDP per capita</th>        <th class=\"col_heading level0 col2\" >Social support</th>        <th class=\"col_heading level0 col3\" >Healthy life expectancy</th>        <th class=\"col_heading level0 col4\" >Freedom to make life choices</th>        <th class=\"col_heading level0 col5\" >Generosity</th>    </tr></thead><tbody>\n",
       "                <tr>\n",
       "                        <th id=\"T_1b16b440_0ed4_11eb_a3bd_acde48001122level0_row0\" class=\"row_heading level0 row0\" >Happiness Score</th>\n",
       "                        <td id=\"T_1b16b440_0ed4_11eb_a3bd_acde48001122row0_col0\" class=\"data row0 col0\" >1.000000</td>\n",
       "                        <td id=\"T_1b16b440_0ed4_11eb_a3bd_acde48001122row0_col1\" class=\"data row0 col1\" >0.659859</td>\n",
       "                        <td id=\"T_1b16b440_0ed4_11eb_a3bd_acde48001122row0_col2\" class=\"data row0 col2\" >0.686113</td>\n",
       "                        <td id=\"T_1b16b440_0ed4_11eb_a3bd_acde48001122row0_col3\" class=\"data row0 col3\" >0.785693</td>\n",
       "                        <td id=\"T_1b16b440_0ed4_11eb_a3bd_acde48001122row0_col4\" class=\"data row0 col4\" >0.817212</td>\n",
       "                        <td id=\"T_1b16b440_0ed4_11eb_a3bd_acde48001122row0_col5\" class=\"data row0 col5\" >-0.628030</td>\n",
       "            </tr>\n",
       "            <tr>\n",
       "                        <th id=\"T_1b16b440_0ed4_11eb_a3bd_acde48001122level0_row1\" class=\"row_heading level0 row1\" >GDP per capita</th>\n",
       "                        <td id=\"T_1b16b440_0ed4_11eb_a3bd_acde48001122row1_col0\" class=\"data row1 col0\" >0.659859</td>\n",
       "                        <td id=\"T_1b16b440_0ed4_11eb_a3bd_acde48001122row1_col1\" class=\"data row1 col1\" >1.000000</td>\n",
       "                        <td id=\"T_1b16b440_0ed4_11eb_a3bd_acde48001122row1_col2\" class=\"data row1 col2\" >0.793414</td>\n",
       "                        <td id=\"T_1b16b440_0ed4_11eb_a3bd_acde48001122row1_col3\" class=\"data row1 col3\" >0.655924</td>\n",
       "                        <td id=\"T_1b16b440_0ed4_11eb_a3bd_acde48001122row1_col4\" class=\"data row1 col4\" >0.480838</td>\n",
       "                        <td id=\"T_1b16b440_0ed4_11eb_a3bd_acde48001122row1_col5\" class=\"data row1 col5\" >-0.696882</td>\n",
       "            </tr>\n",
       "            <tr>\n",
       "                        <th id=\"T_1b16b440_0ed4_11eb_a3bd_acde48001122level0_row2\" class=\"row_heading level0 row2\" >Social support</th>\n",
       "                        <td id=\"T_1b16b440_0ed4_11eb_a3bd_acde48001122row2_col0\" class=\"data row2 col0\" >0.686113</td>\n",
       "                        <td id=\"T_1b16b440_0ed4_11eb_a3bd_acde48001122row2_col1\" class=\"data row2 col1\" >0.793414</td>\n",
       "                        <td id=\"T_1b16b440_0ed4_11eb_a3bd_acde48001122row2_col2\" class=\"data row2 col2\" >1.000000</td>\n",
       "                        <td id=\"T_1b16b440_0ed4_11eb_a3bd_acde48001122row2_col3\" class=\"data row2 col3\" >0.759718</td>\n",
       "                        <td id=\"T_1b16b440_0ed4_11eb_a3bd_acde48001122row2_col4\" class=\"data row2 col4\" >0.575107</td>\n",
       "                        <td id=\"T_1b16b440_0ed4_11eb_a3bd_acde48001122row2_col5\" class=\"data row2 col5\" >-0.738101</td>\n",
       "            </tr>\n",
       "            <tr>\n",
       "                        <th id=\"T_1b16b440_0ed4_11eb_a3bd_acde48001122level0_row3\" class=\"row_heading level0 row3\" >Healthy life expectancy</th>\n",
       "                        <td id=\"T_1b16b440_0ed4_11eb_a3bd_acde48001122row3_col0\" class=\"data row3 col0\" >0.785693</td>\n",
       "                        <td id=\"T_1b16b440_0ed4_11eb_a3bd_acde48001122row3_col1\" class=\"data row3 col1\" >0.655924</td>\n",
       "                        <td id=\"T_1b16b440_0ed4_11eb_a3bd_acde48001122row3_col2\" class=\"data row3 col2\" >0.759718</td>\n",
       "                        <td id=\"T_1b16b440_0ed4_11eb_a3bd_acde48001122row3_col3\" class=\"data row3 col3\" >1.000000</td>\n",
       "                        <td id=\"T_1b16b440_0ed4_11eb_a3bd_acde48001122row3_col4\" class=\"data row3 col4\" >0.579839</td>\n",
       "                        <td id=\"T_1b16b440_0ed4_11eb_a3bd_acde48001122row3_col5\" class=\"data row3 col5\" >-0.766815</td>\n",
       "            </tr>\n",
       "            <tr>\n",
       "                        <th id=\"T_1b16b440_0ed4_11eb_a3bd_acde48001122level0_row4\" class=\"row_heading level0 row4\" >Freedom to make life choices</th>\n",
       "                        <td id=\"T_1b16b440_0ed4_11eb_a3bd_acde48001122row4_col0\" class=\"data row4 col0\" >0.817212</td>\n",
       "                        <td id=\"T_1b16b440_0ed4_11eb_a3bd_acde48001122row4_col1\" class=\"data row4 col1\" >0.480838</td>\n",
       "                        <td id=\"T_1b16b440_0ed4_11eb_a3bd_acde48001122row4_col2\" class=\"data row4 col2\" >0.575107</td>\n",
       "                        <td id=\"T_1b16b440_0ed4_11eb_a3bd_acde48001122row4_col3\" class=\"data row4 col3\" >0.579839</td>\n",
       "                        <td id=\"T_1b16b440_0ed4_11eb_a3bd_acde48001122row4_col4\" class=\"data row4 col4\" >1.000000</td>\n",
       "                        <td id=\"T_1b16b440_0ed4_11eb_a3bd_acde48001122row4_col5\" class=\"data row4 col5\" >-0.485188</td>\n",
       "            </tr>\n",
       "            <tr>\n",
       "                        <th id=\"T_1b16b440_0ed4_11eb_a3bd_acde48001122level0_row5\" class=\"row_heading level0 row5\" >Generosity</th>\n",
       "                        <td id=\"T_1b16b440_0ed4_11eb_a3bd_acde48001122row5_col0\" class=\"data row5 col0\" >-0.628030</td>\n",
       "                        <td id=\"T_1b16b440_0ed4_11eb_a3bd_acde48001122row5_col1\" class=\"data row5 col1\" >-0.696882</td>\n",
       "                        <td id=\"T_1b16b440_0ed4_11eb_a3bd_acde48001122row5_col2\" class=\"data row5 col2\" >-0.738101</td>\n",
       "                        <td id=\"T_1b16b440_0ed4_11eb_a3bd_acde48001122row5_col3\" class=\"data row5 col3\" >-0.766815</td>\n",
       "                        <td id=\"T_1b16b440_0ed4_11eb_a3bd_acde48001122row5_col4\" class=\"data row5 col4\" >-0.485188</td>\n",
       "                        <td id=\"T_1b16b440_0ed4_11eb_a3bd_acde48001122row5_col5\" class=\"data row5 col5\" >1.000000</td>\n",
       "            </tr>\n",
       "    </tbody></table>"
      ],
      "text/plain": [
       "<pandas.io.formats.style.Styler at 0x7f80b2848d90>"
      ]
     },
     "execution_count": 24,
     "metadata": {},
     "output_type": "execute_result"
    }
   ],
   "source": [
    "# Correlation for Latin American and Caribbean data frame\n",
    "\n",
    "corr_lac =lac_df.corr(method=\"pearson\", min_periods=21)\n",
    "corr_lac.style.background_gradient(cmap='coolwarm')"
   ]
  },
  {
   "cell_type": "code",
   "execution_count": 25,
   "metadata": {},
   "outputs": [
    {
     "data": {
      "text/html": [
       "<style  type=\"text/css\" >\n",
       "    #T_1b1a2ec2_0ed4_11eb_a3bd_acde48001122row0_col0 {\n",
       "            background-color:  #b40426;\n",
       "            color:  #f1f1f1;\n",
       "        }    #T_1b1a2ec2_0ed4_11eb_a3bd_acde48001122row0_col1 {\n",
       "            background-color:  #f59c7d;\n",
       "            color:  #000000;\n",
       "        }    #T_1b1a2ec2_0ed4_11eb_a3bd_acde48001122row0_col2 {\n",
       "            background-color:  #dc5d4a;\n",
       "            color:  #000000;\n",
       "        }    #T_1b1a2ec2_0ed4_11eb_a3bd_acde48001122row0_col3 {\n",
       "            background-color:  #3b4cc0;\n",
       "            color:  #f1f1f1;\n",
       "        }    #T_1b1a2ec2_0ed4_11eb_a3bd_acde48001122row0_col4 {\n",
       "            background-color:  #ea7b60;\n",
       "            color:  #000000;\n",
       "        }    #T_1b1a2ec2_0ed4_11eb_a3bd_acde48001122row0_col5 {\n",
       "            background-color:  #f7bca1;\n",
       "            color:  #000000;\n",
       "        }    #T_1b1a2ec2_0ed4_11eb_a3bd_acde48001122row1_col0 {\n",
       "            background-color:  #f18d6f;\n",
       "            color:  #000000;\n",
       "        }    #T_1b1a2ec2_0ed4_11eb_a3bd_acde48001122row1_col1 {\n",
       "            background-color:  #b40426;\n",
       "            color:  #f1f1f1;\n",
       "        }    #T_1b1a2ec2_0ed4_11eb_a3bd_acde48001122row1_col2 {\n",
       "            background-color:  #f5c1a9;\n",
       "            color:  #000000;\n",
       "        }    #T_1b1a2ec2_0ed4_11eb_a3bd_acde48001122row1_col3 {\n",
       "            background-color:  #6384eb;\n",
       "            color:  #000000;\n",
       "        }    #T_1b1a2ec2_0ed4_11eb_a3bd_acde48001122row1_col4 {\n",
       "            background-color:  #f7af91;\n",
       "            color:  #000000;\n",
       "        }    #T_1b1a2ec2_0ed4_11eb_a3bd_acde48001122row1_col5 {\n",
       "            background-color:  #e6d7cf;\n",
       "            color:  #000000;\n",
       "        }    #T_1b1a2ec2_0ed4_11eb_a3bd_acde48001122row2_col0 {\n",
       "            background-color:  #d95847;\n",
       "            color:  #000000;\n",
       "        }    #T_1b1a2ec2_0ed4_11eb_a3bd_acde48001122row2_col1 {\n",
       "            background-color:  #f2c9b4;\n",
       "            color:  #000000;\n",
       "        }    #T_1b1a2ec2_0ed4_11eb_a3bd_acde48001122row2_col2 {\n",
       "            background-color:  #b40426;\n",
       "            color:  #f1f1f1;\n",
       "        }    #T_1b1a2ec2_0ed4_11eb_a3bd_acde48001122row2_col3 {\n",
       "            background-color:  #4f69d9;\n",
       "            color:  #000000;\n",
       "        }    #T_1b1a2ec2_0ed4_11eb_a3bd_acde48001122row2_col4 {\n",
       "            background-color:  #f29072;\n",
       "            color:  #000000;\n",
       "        }    #T_1b1a2ec2_0ed4_11eb_a3bd_acde48001122row2_col5 {\n",
       "            background-color:  #edd2c3;\n",
       "            color:  #000000;\n",
       "        }    #T_1b1a2ec2_0ed4_11eb_a3bd_acde48001122row3_col0 {\n",
       "            background-color:  #3b4cc0;\n",
       "            color:  #f1f1f1;\n",
       "        }    #T_1b1a2ec2_0ed4_11eb_a3bd_acde48001122row3_col1 {\n",
       "            background-color:  #3b4cc0;\n",
       "            color:  #f1f1f1;\n",
       "        }    #T_1b1a2ec2_0ed4_11eb_a3bd_acde48001122row3_col2 {\n",
       "            background-color:  #3b4cc0;\n",
       "            color:  #f1f1f1;\n",
       "        }    #T_1b1a2ec2_0ed4_11eb_a3bd_acde48001122row3_col3 {\n",
       "            background-color:  #b40426;\n",
       "            color:  #f1f1f1;\n",
       "        }    #T_1b1a2ec2_0ed4_11eb_a3bd_acde48001122row3_col4 {\n",
       "            background-color:  #3b4cc0;\n",
       "            color:  #f1f1f1;\n",
       "        }    #T_1b1a2ec2_0ed4_11eb_a3bd_acde48001122row3_col5 {\n",
       "            background-color:  #3b4cc0;\n",
       "            color:  #f1f1f1;\n",
       "        }    #T_1b1a2ec2_0ed4_11eb_a3bd_acde48001122row4_col0 {\n",
       "            background-color:  #e97a5f;\n",
       "            color:  #000000;\n",
       "        }    #T_1b1a2ec2_0ed4_11eb_a3bd_acde48001122row4_col1 {\n",
       "            background-color:  #f7bca1;\n",
       "            color:  #000000;\n",
       "        }    #T_1b1a2ec2_0ed4_11eb_a3bd_acde48001122row4_col2 {\n",
       "            background-color:  #f39577;\n",
       "            color:  #000000;\n",
       "        }    #T_1b1a2ec2_0ed4_11eb_a3bd_acde48001122row4_col3 {\n",
       "            background-color:  #4055c8;\n",
       "            color:  #f1f1f1;\n",
       "        }    #T_1b1a2ec2_0ed4_11eb_a3bd_acde48001122row4_col4 {\n",
       "            background-color:  #b40426;\n",
       "            color:  #f1f1f1;\n",
       "        }    #T_1b1a2ec2_0ed4_11eb_a3bd_acde48001122row4_col5 {\n",
       "            background-color:  #f5c0a7;\n",
       "            color:  #000000;\n",
       "        }    #T_1b1a2ec2_0ed4_11eb_a3bd_acde48001122row5_col0 {\n",
       "            background-color:  #f7aa8c;\n",
       "            color:  #000000;\n",
       "        }    #T_1b1a2ec2_0ed4_11eb_a3bd_acde48001122row5_col1 {\n",
       "            background-color:  #e8d6cc;\n",
       "            color:  #000000;\n",
       "        }    #T_1b1a2ec2_0ed4_11eb_a3bd_acde48001122row5_col2 {\n",
       "            background-color:  #f2cab5;\n",
       "            color:  #000000;\n",
       "        }    #T_1b1a2ec2_0ed4_11eb_a3bd_acde48001122row5_col3 {\n",
       "            background-color:  #688aef;\n",
       "            color:  #000000;\n",
       "        }    #T_1b1a2ec2_0ed4_11eb_a3bd_acde48001122row5_col4 {\n",
       "            background-color:  #f7b194;\n",
       "            color:  #000000;\n",
       "        }    #T_1b1a2ec2_0ed4_11eb_a3bd_acde48001122row5_col5 {\n",
       "            background-color:  #b40426;\n",
       "            color:  #f1f1f1;\n",
       "        }</style><table id=\"T_1b1a2ec2_0ed4_11eb_a3bd_acde48001122\" ><thead>    <tr>        <th class=\"blank level0\" ></th>        <th class=\"col_heading level0 col0\" >Happiness Score</th>        <th class=\"col_heading level0 col1\" >GDP per capita</th>        <th class=\"col_heading level0 col2\" >Social support</th>        <th class=\"col_heading level0 col3\" >Healthy life expectancy</th>        <th class=\"col_heading level0 col4\" >Freedom to make life choices</th>        <th class=\"col_heading level0 col5\" >Generosity</th>    </tr></thead><tbody>\n",
       "                <tr>\n",
       "                        <th id=\"T_1b1a2ec2_0ed4_11eb_a3bd_acde48001122level0_row0\" class=\"row_heading level0 row0\" >Happiness Score</th>\n",
       "                        <td id=\"T_1b1a2ec2_0ed4_11eb_a3bd_acde48001122row0_col0\" class=\"data row0 col0\" >1.000000</td>\n",
       "                        <td id=\"T_1b1a2ec2_0ed4_11eb_a3bd_acde48001122row0_col1\" class=\"data row0 col1\" >0.716912</td>\n",
       "                        <td id=\"T_1b1a2ec2_0ed4_11eb_a3bd_acde48001122row0_col2\" class=\"data row0 col2\" >0.856354</td>\n",
       "                        <td id=\"T_1b1a2ec2_0ed4_11eb_a3bd_acde48001122row0_col3\" class=\"data row0 col3\" >-0.282501</td>\n",
       "                        <td id=\"T_1b1a2ec2_0ed4_11eb_a3bd_acde48001122row0_col4\" class=\"data row0 col4\" >0.772881</td>\n",
       "                        <td id=\"T_1b1a2ec2_0ed4_11eb_a3bd_acde48001122row0_col5\" class=\"data row0 col5\" >0.620260</td>\n",
       "            </tr>\n",
       "            <tr>\n",
       "                        <th id=\"T_1b1a2ec2_0ed4_11eb_a3bd_acde48001122level0_row1\" class=\"row_heading level0 row1\" >GDP per capita</th>\n",
       "                        <td id=\"T_1b1a2ec2_0ed4_11eb_a3bd_acde48001122row1_col0\" class=\"data row1 col0\" >0.716912</td>\n",
       "                        <td id=\"T_1b1a2ec2_0ed4_11eb_a3bd_acde48001122row1_col1\" class=\"data row1 col1\" >1.000000</td>\n",
       "                        <td id=\"T_1b1a2ec2_0ed4_11eb_a3bd_acde48001122row1_col2\" class=\"data row1 col2\" >0.564032</td>\n",
       "                        <td id=\"T_1b1a2ec2_0ed4_11eb_a3bd_acde48001122row1_col3\" class=\"data row1 col3\" >-0.113119</td>\n",
       "                        <td id=\"T_1b1a2ec2_0ed4_11eb_a3bd_acde48001122row1_col4\" class=\"data row1 col4\" >0.615023</td>\n",
       "                        <td id=\"T_1b1a2ec2_0ed4_11eb_a3bd_acde48001122row1_col5\" class=\"data row1 col5\" >0.492734</td>\n",
       "            </tr>\n",
       "            <tr>\n",
       "                        <th id=\"T_1b1a2ec2_0ed4_11eb_a3bd_acde48001122level0_row2\" class=\"row_heading level0 row2\" >Social support</th>\n",
       "                        <td id=\"T_1b1a2ec2_0ed4_11eb_a3bd_acde48001122row2_col0\" class=\"data row2 col0\" >0.856354</td>\n",
       "                        <td id=\"T_1b1a2ec2_0ed4_11eb_a3bd_acde48001122row2_col1\" class=\"data row2 col1\" >0.564032</td>\n",
       "                        <td id=\"T_1b1a2ec2_0ed4_11eb_a3bd_acde48001122row2_col2\" class=\"data row2 col2\" >1.000000</td>\n",
       "                        <td id=\"T_1b1a2ec2_0ed4_11eb_a3bd_acde48001122row2_col3\" class=\"data row2 col3\" >-0.196009</td>\n",
       "                        <td id=\"T_1b1a2ec2_0ed4_11eb_a3bd_acde48001122row2_col4\" class=\"data row2 col4\" >0.713431</td>\n",
       "                        <td id=\"T_1b1a2ec2_0ed4_11eb_a3bd_acde48001122row2_col5\" class=\"data row2 col5\" >0.525462</td>\n",
       "            </tr>\n",
       "            <tr>\n",
       "                        <th id=\"T_1b1a2ec2_0ed4_11eb_a3bd_acde48001122level0_row3\" class=\"row_heading level0 row3\" >Healthy life expectancy</th>\n",
       "                        <td id=\"T_1b1a2ec2_0ed4_11eb_a3bd_acde48001122row3_col0\" class=\"data row3 col0\" >-0.282501</td>\n",
       "                        <td id=\"T_1b1a2ec2_0ed4_11eb_a3bd_acde48001122row3_col1\" class=\"data row3 col1\" >-0.113119</td>\n",
       "                        <td id=\"T_1b1a2ec2_0ed4_11eb_a3bd_acde48001122row3_col2\" class=\"data row3 col2\" >-0.196009</td>\n",
       "                        <td id=\"T_1b1a2ec2_0ed4_11eb_a3bd_acde48001122row3_col3\" class=\"data row3 col3\" >1.000000</td>\n",
       "                        <td id=\"T_1b1a2ec2_0ed4_11eb_a3bd_acde48001122row3_col4\" class=\"data row3 col4\" >-0.256588</td>\n",
       "                        <td id=\"T_1b1a2ec2_0ed4_11eb_a3bd_acde48001122row3_col5\" class=\"data row3 col5\" >-0.094877</td>\n",
       "            </tr>\n",
       "            <tr>\n",
       "                        <th id=\"T_1b1a2ec2_0ed4_11eb_a3bd_acde48001122level0_row4\" class=\"row_heading level0 row4\" >Freedom to make life choices</th>\n",
       "                        <td id=\"T_1b1a2ec2_0ed4_11eb_a3bd_acde48001122row4_col0\" class=\"data row4 col0\" >0.772881</td>\n",
       "                        <td id=\"T_1b1a2ec2_0ed4_11eb_a3bd_acde48001122row4_col1\" class=\"data row4 col1\" >0.615023</td>\n",
       "                        <td id=\"T_1b1a2ec2_0ed4_11eb_a3bd_acde48001122row4_col2\" class=\"data row4 col2\" >0.713431</td>\n",
       "                        <td id=\"T_1b1a2ec2_0ed4_11eb_a3bd_acde48001122row4_col3\" class=\"data row4 col3\" >-0.256588</td>\n",
       "                        <td id=\"T_1b1a2ec2_0ed4_11eb_a3bd_acde48001122row4_col4\" class=\"data row4 col4\" >1.000000</td>\n",
       "                        <td id=\"T_1b1a2ec2_0ed4_11eb_a3bd_acde48001122row4_col5\" class=\"data row4 col5\" >0.603077</td>\n",
       "            </tr>\n",
       "            <tr>\n",
       "                        <th id=\"T_1b1a2ec2_0ed4_11eb_a3bd_acde48001122level0_row5\" class=\"row_heading level0 row5\" >Generosity</th>\n",
       "                        <td id=\"T_1b1a2ec2_0ed4_11eb_a3bd_acde48001122row5_col0\" class=\"data row5 col0\" >0.620260</td>\n",
       "                        <td id=\"T_1b1a2ec2_0ed4_11eb_a3bd_acde48001122row5_col1\" class=\"data row5 col1\" >0.492734</td>\n",
       "                        <td id=\"T_1b1a2ec2_0ed4_11eb_a3bd_acde48001122row5_col2\" class=\"data row5 col2\" >0.525462</td>\n",
       "                        <td id=\"T_1b1a2ec2_0ed4_11eb_a3bd_acde48001122row5_col3\" class=\"data row5 col3\" >-0.094877</td>\n",
       "                        <td id=\"T_1b1a2ec2_0ed4_11eb_a3bd_acde48001122row5_col4\" class=\"data row5 col4\" >0.603077</td>\n",
       "                        <td id=\"T_1b1a2ec2_0ed4_11eb_a3bd_acde48001122row5_col5\" class=\"data row5 col5\" >1.000000</td>\n",
       "            </tr>\n",
       "    </tbody></table>"
      ],
      "text/plain": [
       "<pandas.io.formats.style.Styler at 0x7f80b284f410>"
      ]
     },
     "execution_count": 25,
     "metadata": {},
     "output_type": "execute_result"
    }
   ],
   "source": [
    "# Correlation for Western Europe\n",
    "\n",
    "corr_we = we_df.corr()\n",
    "corr_we.style.background_gradient(cmap='coolwarm')"
   ]
  },
  {
   "cell_type": "code",
   "execution_count": 26,
   "metadata": {},
   "outputs": [
    {
     "data": {
      "text/html": [
       "<style  type=\"text/css\" >\n",
       "    #T_1b1e16cc_0ed4_11eb_a3bd_acde48001122row0_col0 {\n",
       "            background-color:  #b40426;\n",
       "            color:  #f1f1f1;\n",
       "        }    #T_1b1e16cc_0ed4_11eb_a3bd_acde48001122row0_col1 {\n",
       "            background-color:  #ee8468;\n",
       "            color:  #000000;\n",
       "        }    #T_1b1e16cc_0ed4_11eb_a3bd_acde48001122row0_col2 {\n",
       "            background-color:  #ea7b60;\n",
       "            color:  #000000;\n",
       "        }    #T_1b1e16cc_0ed4_11eb_a3bd_acde48001122row0_col3 {\n",
       "            background-color:  #dd5f4b;\n",
       "            color:  #000000;\n",
       "        }    #T_1b1e16cc_0ed4_11eb_a3bd_acde48001122row0_col4 {\n",
       "            background-color:  #dd5f4b;\n",
       "            color:  #000000;\n",
       "        }    #T_1b1e16cc_0ed4_11eb_a3bd_acde48001122row0_col5 {\n",
       "            background-color:  #536edd;\n",
       "            color:  #000000;\n",
       "        }    #T_1b1e16cc_0ed4_11eb_a3bd_acde48001122row1_col0 {\n",
       "            background-color:  #ef886b;\n",
       "            color:  #000000;\n",
       "        }    #T_1b1e16cc_0ed4_11eb_a3bd_acde48001122row1_col1 {\n",
       "            background-color:  #b40426;\n",
       "            color:  #f1f1f1;\n",
       "        }    #T_1b1e16cc_0ed4_11eb_a3bd_acde48001122row1_col2 {\n",
       "            background-color:  #dc5d4a;\n",
       "            color:  #000000;\n",
       "        }    #T_1b1e16cc_0ed4_11eb_a3bd_acde48001122row1_col3 {\n",
       "            background-color:  #ec8165;\n",
       "            color:  #000000;\n",
       "        }    #T_1b1e16cc_0ed4_11eb_a3bd_acde48001122row1_col4 {\n",
       "            background-color:  #f6bda2;\n",
       "            color:  #000000;\n",
       "        }    #T_1b1e16cc_0ed4_11eb_a3bd_acde48001122row1_col5 {\n",
       "            background-color:  #465ecf;\n",
       "            color:  #f1f1f1;\n",
       "        }    #T_1b1e16cc_0ed4_11eb_a3bd_acde48001122row2_col0 {\n",
       "            background-color:  #ec8165;\n",
       "            color:  #000000;\n",
       "        }    #T_1b1e16cc_0ed4_11eb_a3bd_acde48001122row2_col1 {\n",
       "            background-color:  #dd5f4b;\n",
       "            color:  #000000;\n",
       "        }    #T_1b1e16cc_0ed4_11eb_a3bd_acde48001122row2_col2 {\n",
       "            background-color:  #b40426;\n",
       "            color:  #f1f1f1;\n",
       "        }    #T_1b1e16cc_0ed4_11eb_a3bd_acde48001122row2_col3 {\n",
       "            background-color:  #e0654f;\n",
       "            color:  #000000;\n",
       "        }    #T_1b1e16cc_0ed4_11eb_a3bd_acde48001122row2_col4 {\n",
       "            background-color:  #f7a889;\n",
       "            color:  #000000;\n",
       "        }    #T_1b1e16cc_0ed4_11eb_a3bd_acde48001122row2_col5 {\n",
       "            background-color:  #3f53c6;\n",
       "            color:  #f1f1f1;\n",
       "        }    #T_1b1e16cc_0ed4_11eb_a3bd_acde48001122row3_col0 {\n",
       "            background-color:  #df634e;\n",
       "            color:  #000000;\n",
       "        }    #T_1b1e16cc_0ed4_11eb_a3bd_acde48001122row3_col1 {\n",
       "            background-color:  #ee8468;\n",
       "            color:  #000000;\n",
       "        }    #T_1b1e16cc_0ed4_11eb_a3bd_acde48001122row3_col2 {\n",
       "            background-color:  #e16751;\n",
       "            color:  #000000;\n",
       "        }    #T_1b1e16cc_0ed4_11eb_a3bd_acde48001122row3_col3 {\n",
       "            background-color:  #b40426;\n",
       "            color:  #f1f1f1;\n",
       "        }    #T_1b1e16cc_0ed4_11eb_a3bd_acde48001122row3_col4 {\n",
       "            background-color:  #f7a688;\n",
       "            color:  #000000;\n",
       "        }    #T_1b1e16cc_0ed4_11eb_a3bd_acde48001122row3_col5 {\n",
       "            background-color:  #3b4cc0;\n",
       "            color:  #f1f1f1;\n",
       "        }    #T_1b1e16cc_0ed4_11eb_a3bd_acde48001122row4_col0 {\n",
       "            background-color:  #d95847;\n",
       "            color:  #000000;\n",
       "        }    #T_1b1e16cc_0ed4_11eb_a3bd_acde48001122row4_col1 {\n",
       "            background-color:  #f7af91;\n",
       "            color:  #000000;\n",
       "        }    #T_1b1e16cc_0ed4_11eb_a3bd_acde48001122row4_col2 {\n",
       "            background-color:  #f39778;\n",
       "            color:  #000000;\n",
       "        }    #T_1b1e16cc_0ed4_11eb_a3bd_acde48001122row4_col3 {\n",
       "            background-color:  #f39475;\n",
       "            color:  #000000;\n",
       "        }    #T_1b1e16cc_0ed4_11eb_a3bd_acde48001122row4_col4 {\n",
       "            background-color:  #b40426;\n",
       "            color:  #f1f1f1;\n",
       "        }    #T_1b1e16cc_0ed4_11eb_a3bd_acde48001122row4_col5 {\n",
       "            background-color:  #6c8ff1;\n",
       "            color:  #000000;\n",
       "        }    #T_1b1e16cc_0ed4_11eb_a3bd_acde48001122row5_col0 {\n",
       "            background-color:  #3b4cc0;\n",
       "            color:  #f1f1f1;\n",
       "        }    #T_1b1e16cc_0ed4_11eb_a3bd_acde48001122row5_col1 {\n",
       "            background-color:  #3b4cc0;\n",
       "            color:  #f1f1f1;\n",
       "        }    #T_1b1e16cc_0ed4_11eb_a3bd_acde48001122row5_col2 {\n",
       "            background-color:  #3b4cc0;\n",
       "            color:  #f1f1f1;\n",
       "        }    #T_1b1e16cc_0ed4_11eb_a3bd_acde48001122row5_col3 {\n",
       "            background-color:  #3b4cc0;\n",
       "            color:  #f1f1f1;\n",
       "        }    #T_1b1e16cc_0ed4_11eb_a3bd_acde48001122row5_col4 {\n",
       "            background-color:  #3b4cc0;\n",
       "            color:  #f1f1f1;\n",
       "        }    #T_1b1e16cc_0ed4_11eb_a3bd_acde48001122row5_col5 {\n",
       "            background-color:  #b40426;\n",
       "            color:  #f1f1f1;\n",
       "        }</style><table id=\"T_1b1e16cc_0ed4_11eb_a3bd_acde48001122\" ><thead>    <tr>        <th class=\"blank level0\" ></th>        <th class=\"col_heading level0 col0\" >Happiness Score</th>        <th class=\"col_heading level0 col1\" >GDP per capita</th>        <th class=\"col_heading level0 col2\" >Social support</th>        <th class=\"col_heading level0 col3\" >Healthy life expectancy</th>        <th class=\"col_heading level0 col4\" >Freedom to make life choices</th>        <th class=\"col_heading level0 col5\" >Generosity</th>    </tr></thead><tbody>\n",
       "                <tr>\n",
       "                        <th id=\"T_1b1e16cc_0ed4_11eb_a3bd_acde48001122level0_row0\" class=\"row_heading level0 row0\" >Happiness Score</th>\n",
       "                        <td id=\"T_1b1e16cc_0ed4_11eb_a3bd_acde48001122row0_col0\" class=\"data row0 col0\" >1.000000</td>\n",
       "                        <td id=\"T_1b1e16cc_0ed4_11eb_a3bd_acde48001122row0_col1\" class=\"data row0 col1\" >0.659859</td>\n",
       "                        <td id=\"T_1b1e16cc_0ed4_11eb_a3bd_acde48001122row0_col2\" class=\"data row0 col2\" >0.686113</td>\n",
       "                        <td id=\"T_1b1e16cc_0ed4_11eb_a3bd_acde48001122row0_col3\" class=\"data row0 col3\" >0.785693</td>\n",
       "                        <td id=\"T_1b1e16cc_0ed4_11eb_a3bd_acde48001122row0_col4\" class=\"data row0 col4\" >0.817212</td>\n",
       "                        <td id=\"T_1b1e16cc_0ed4_11eb_a3bd_acde48001122row0_col5\" class=\"data row0 col5\" >-0.628030</td>\n",
       "            </tr>\n",
       "            <tr>\n",
       "                        <th id=\"T_1b1e16cc_0ed4_11eb_a3bd_acde48001122level0_row1\" class=\"row_heading level0 row1\" >GDP per capita</th>\n",
       "                        <td id=\"T_1b1e16cc_0ed4_11eb_a3bd_acde48001122row1_col0\" class=\"data row1 col0\" >0.659859</td>\n",
       "                        <td id=\"T_1b1e16cc_0ed4_11eb_a3bd_acde48001122row1_col1\" class=\"data row1 col1\" >1.000000</td>\n",
       "                        <td id=\"T_1b1e16cc_0ed4_11eb_a3bd_acde48001122row1_col2\" class=\"data row1 col2\" >0.793414</td>\n",
       "                        <td id=\"T_1b1e16cc_0ed4_11eb_a3bd_acde48001122row1_col3\" class=\"data row1 col3\" >0.655924</td>\n",
       "                        <td id=\"T_1b1e16cc_0ed4_11eb_a3bd_acde48001122row1_col4\" class=\"data row1 col4\" >0.480838</td>\n",
       "                        <td id=\"T_1b1e16cc_0ed4_11eb_a3bd_acde48001122row1_col5\" class=\"data row1 col5\" >-0.696882</td>\n",
       "            </tr>\n",
       "            <tr>\n",
       "                        <th id=\"T_1b1e16cc_0ed4_11eb_a3bd_acde48001122level0_row2\" class=\"row_heading level0 row2\" >Social support</th>\n",
       "                        <td id=\"T_1b1e16cc_0ed4_11eb_a3bd_acde48001122row2_col0\" class=\"data row2 col0\" >0.686113</td>\n",
       "                        <td id=\"T_1b1e16cc_0ed4_11eb_a3bd_acde48001122row2_col1\" class=\"data row2 col1\" >0.793414</td>\n",
       "                        <td id=\"T_1b1e16cc_0ed4_11eb_a3bd_acde48001122row2_col2\" class=\"data row2 col2\" >1.000000</td>\n",
       "                        <td id=\"T_1b1e16cc_0ed4_11eb_a3bd_acde48001122row2_col3\" class=\"data row2 col3\" >0.759718</td>\n",
       "                        <td id=\"T_1b1e16cc_0ed4_11eb_a3bd_acde48001122row2_col4\" class=\"data row2 col4\" >0.575107</td>\n",
       "                        <td id=\"T_1b1e16cc_0ed4_11eb_a3bd_acde48001122row2_col5\" class=\"data row2 col5\" >-0.738101</td>\n",
       "            </tr>\n",
       "            <tr>\n",
       "                        <th id=\"T_1b1e16cc_0ed4_11eb_a3bd_acde48001122level0_row3\" class=\"row_heading level0 row3\" >Healthy life expectancy</th>\n",
       "                        <td id=\"T_1b1e16cc_0ed4_11eb_a3bd_acde48001122row3_col0\" class=\"data row3 col0\" >0.785693</td>\n",
       "                        <td id=\"T_1b1e16cc_0ed4_11eb_a3bd_acde48001122row3_col1\" class=\"data row3 col1\" >0.655924</td>\n",
       "                        <td id=\"T_1b1e16cc_0ed4_11eb_a3bd_acde48001122row3_col2\" class=\"data row3 col2\" >0.759718</td>\n",
       "                        <td id=\"T_1b1e16cc_0ed4_11eb_a3bd_acde48001122row3_col3\" class=\"data row3 col3\" >1.000000</td>\n",
       "                        <td id=\"T_1b1e16cc_0ed4_11eb_a3bd_acde48001122row3_col4\" class=\"data row3 col4\" >0.579839</td>\n",
       "                        <td id=\"T_1b1e16cc_0ed4_11eb_a3bd_acde48001122row3_col5\" class=\"data row3 col5\" >-0.766815</td>\n",
       "            </tr>\n",
       "            <tr>\n",
       "                        <th id=\"T_1b1e16cc_0ed4_11eb_a3bd_acde48001122level0_row4\" class=\"row_heading level0 row4\" >Freedom to make life choices</th>\n",
       "                        <td id=\"T_1b1e16cc_0ed4_11eb_a3bd_acde48001122row4_col0\" class=\"data row4 col0\" >0.817212</td>\n",
       "                        <td id=\"T_1b1e16cc_0ed4_11eb_a3bd_acde48001122row4_col1\" class=\"data row4 col1\" >0.480838</td>\n",
       "                        <td id=\"T_1b1e16cc_0ed4_11eb_a3bd_acde48001122row4_col2\" class=\"data row4 col2\" >0.575107</td>\n",
       "                        <td id=\"T_1b1e16cc_0ed4_11eb_a3bd_acde48001122row4_col3\" class=\"data row4 col3\" >0.579839</td>\n",
       "                        <td id=\"T_1b1e16cc_0ed4_11eb_a3bd_acde48001122row4_col4\" class=\"data row4 col4\" >1.000000</td>\n",
       "                        <td id=\"T_1b1e16cc_0ed4_11eb_a3bd_acde48001122row4_col5\" class=\"data row4 col5\" >-0.485188</td>\n",
       "            </tr>\n",
       "            <tr>\n",
       "                        <th id=\"T_1b1e16cc_0ed4_11eb_a3bd_acde48001122level0_row5\" class=\"row_heading level0 row5\" >Generosity</th>\n",
       "                        <td id=\"T_1b1e16cc_0ed4_11eb_a3bd_acde48001122row5_col0\" class=\"data row5 col0\" >-0.628030</td>\n",
       "                        <td id=\"T_1b1e16cc_0ed4_11eb_a3bd_acde48001122row5_col1\" class=\"data row5 col1\" >-0.696882</td>\n",
       "                        <td id=\"T_1b1e16cc_0ed4_11eb_a3bd_acde48001122row5_col2\" class=\"data row5 col2\" >-0.738101</td>\n",
       "                        <td id=\"T_1b1e16cc_0ed4_11eb_a3bd_acde48001122row5_col3\" class=\"data row5 col3\" >-0.766815</td>\n",
       "                        <td id=\"T_1b1e16cc_0ed4_11eb_a3bd_acde48001122row5_col4\" class=\"data row5 col4\" >-0.485188</td>\n",
       "                        <td id=\"T_1b1e16cc_0ed4_11eb_a3bd_acde48001122row5_col5\" class=\"data row5 col5\" >1.000000</td>\n",
       "            </tr>\n",
       "    </tbody></table>"
      ],
      "text/plain": [
       "<pandas.io.formats.style.Styler at 0x7f80b1af4610>"
      ]
     },
     "execution_count": 26,
     "metadata": {},
     "output_type": "execute_result"
    }
   ],
   "source": [
    "# Correlation for Middle East and North Africa\n",
    "\n",
    "corr_mena =lac_df.corr(method=\"pearson\", min_periods=21)\n",
    "corr_mena.style.background_gradient(cmap='coolwarm')"
   ]
  },
  {
   "cell_type": "code",
   "execution_count": 27,
   "metadata": {},
   "outputs": [
    {
     "data": {
      "text/html": [
       "<style  type=\"text/css\" >\n",
       "    #T_1b21e7b6_0ed4_11eb_a3bd_acde48001122row0_col0 {\n",
       "            background-color:  #b40426;\n",
       "            color:  #f1f1f1;\n",
       "        }    #T_1b21e7b6_0ed4_11eb_a3bd_acde48001122row0_col1 {\n",
       "            background-color:  #ee8468;\n",
       "            color:  #000000;\n",
       "        }    #T_1b21e7b6_0ed4_11eb_a3bd_acde48001122row0_col2 {\n",
       "            background-color:  #ea7b60;\n",
       "            color:  #000000;\n",
       "        }    #T_1b21e7b6_0ed4_11eb_a3bd_acde48001122row0_col3 {\n",
       "            background-color:  #dd5f4b;\n",
       "            color:  #000000;\n",
       "        }    #T_1b21e7b6_0ed4_11eb_a3bd_acde48001122row0_col4 {\n",
       "            background-color:  #dd5f4b;\n",
       "            color:  #000000;\n",
       "        }    #T_1b21e7b6_0ed4_11eb_a3bd_acde48001122row0_col5 {\n",
       "            background-color:  #536edd;\n",
       "            color:  #000000;\n",
       "        }    #T_1b21e7b6_0ed4_11eb_a3bd_acde48001122row1_col0 {\n",
       "            background-color:  #ef886b;\n",
       "            color:  #000000;\n",
       "        }    #T_1b21e7b6_0ed4_11eb_a3bd_acde48001122row1_col1 {\n",
       "            background-color:  #b40426;\n",
       "            color:  #f1f1f1;\n",
       "        }    #T_1b21e7b6_0ed4_11eb_a3bd_acde48001122row1_col2 {\n",
       "            background-color:  #dc5d4a;\n",
       "            color:  #000000;\n",
       "        }    #T_1b21e7b6_0ed4_11eb_a3bd_acde48001122row1_col3 {\n",
       "            background-color:  #ec8165;\n",
       "            color:  #000000;\n",
       "        }    #T_1b21e7b6_0ed4_11eb_a3bd_acde48001122row1_col4 {\n",
       "            background-color:  #f6bda2;\n",
       "            color:  #000000;\n",
       "        }    #T_1b21e7b6_0ed4_11eb_a3bd_acde48001122row1_col5 {\n",
       "            background-color:  #465ecf;\n",
       "            color:  #f1f1f1;\n",
       "        }    #T_1b21e7b6_0ed4_11eb_a3bd_acde48001122row2_col0 {\n",
       "            background-color:  #ec8165;\n",
       "            color:  #000000;\n",
       "        }    #T_1b21e7b6_0ed4_11eb_a3bd_acde48001122row2_col1 {\n",
       "            background-color:  #dd5f4b;\n",
       "            color:  #000000;\n",
       "        }    #T_1b21e7b6_0ed4_11eb_a3bd_acde48001122row2_col2 {\n",
       "            background-color:  #b40426;\n",
       "            color:  #f1f1f1;\n",
       "        }    #T_1b21e7b6_0ed4_11eb_a3bd_acde48001122row2_col3 {\n",
       "            background-color:  #e0654f;\n",
       "            color:  #000000;\n",
       "        }    #T_1b21e7b6_0ed4_11eb_a3bd_acde48001122row2_col4 {\n",
       "            background-color:  #f7a889;\n",
       "            color:  #000000;\n",
       "        }    #T_1b21e7b6_0ed4_11eb_a3bd_acde48001122row2_col5 {\n",
       "            background-color:  #3f53c6;\n",
       "            color:  #f1f1f1;\n",
       "        }    #T_1b21e7b6_0ed4_11eb_a3bd_acde48001122row3_col0 {\n",
       "            background-color:  #df634e;\n",
       "            color:  #000000;\n",
       "        }    #T_1b21e7b6_0ed4_11eb_a3bd_acde48001122row3_col1 {\n",
       "            background-color:  #ee8468;\n",
       "            color:  #000000;\n",
       "        }    #T_1b21e7b6_0ed4_11eb_a3bd_acde48001122row3_col2 {\n",
       "            background-color:  #e16751;\n",
       "            color:  #000000;\n",
       "        }    #T_1b21e7b6_0ed4_11eb_a3bd_acde48001122row3_col3 {\n",
       "            background-color:  #b40426;\n",
       "            color:  #f1f1f1;\n",
       "        }    #T_1b21e7b6_0ed4_11eb_a3bd_acde48001122row3_col4 {\n",
       "            background-color:  #f7a688;\n",
       "            color:  #000000;\n",
       "        }    #T_1b21e7b6_0ed4_11eb_a3bd_acde48001122row3_col5 {\n",
       "            background-color:  #3b4cc0;\n",
       "            color:  #f1f1f1;\n",
       "        }    #T_1b21e7b6_0ed4_11eb_a3bd_acde48001122row4_col0 {\n",
       "            background-color:  #d95847;\n",
       "            color:  #000000;\n",
       "        }    #T_1b21e7b6_0ed4_11eb_a3bd_acde48001122row4_col1 {\n",
       "            background-color:  #f7af91;\n",
       "            color:  #000000;\n",
       "        }    #T_1b21e7b6_0ed4_11eb_a3bd_acde48001122row4_col2 {\n",
       "            background-color:  #f39778;\n",
       "            color:  #000000;\n",
       "        }    #T_1b21e7b6_0ed4_11eb_a3bd_acde48001122row4_col3 {\n",
       "            background-color:  #f39475;\n",
       "            color:  #000000;\n",
       "        }    #T_1b21e7b6_0ed4_11eb_a3bd_acde48001122row4_col4 {\n",
       "            background-color:  #b40426;\n",
       "            color:  #f1f1f1;\n",
       "        }    #T_1b21e7b6_0ed4_11eb_a3bd_acde48001122row4_col5 {\n",
       "            background-color:  #6c8ff1;\n",
       "            color:  #000000;\n",
       "        }    #T_1b21e7b6_0ed4_11eb_a3bd_acde48001122row5_col0 {\n",
       "            background-color:  #3b4cc0;\n",
       "            color:  #f1f1f1;\n",
       "        }    #T_1b21e7b6_0ed4_11eb_a3bd_acde48001122row5_col1 {\n",
       "            background-color:  #3b4cc0;\n",
       "            color:  #f1f1f1;\n",
       "        }    #T_1b21e7b6_0ed4_11eb_a3bd_acde48001122row5_col2 {\n",
       "            background-color:  #3b4cc0;\n",
       "            color:  #f1f1f1;\n",
       "        }    #T_1b21e7b6_0ed4_11eb_a3bd_acde48001122row5_col3 {\n",
       "            background-color:  #3b4cc0;\n",
       "            color:  #f1f1f1;\n",
       "        }    #T_1b21e7b6_0ed4_11eb_a3bd_acde48001122row5_col4 {\n",
       "            background-color:  #3b4cc0;\n",
       "            color:  #f1f1f1;\n",
       "        }    #T_1b21e7b6_0ed4_11eb_a3bd_acde48001122row5_col5 {\n",
       "            background-color:  #b40426;\n",
       "            color:  #f1f1f1;\n",
       "        }</style><table id=\"T_1b21e7b6_0ed4_11eb_a3bd_acde48001122\" ><thead>    <tr>        <th class=\"blank level0\" ></th>        <th class=\"col_heading level0 col0\" >Happiness Score</th>        <th class=\"col_heading level0 col1\" >GDP per capita</th>        <th class=\"col_heading level0 col2\" >Social support</th>        <th class=\"col_heading level0 col3\" >Healthy life expectancy</th>        <th class=\"col_heading level0 col4\" >Freedom to make life choices</th>        <th class=\"col_heading level0 col5\" >Generosity</th>    </tr></thead><tbody>\n",
       "                <tr>\n",
       "                        <th id=\"T_1b21e7b6_0ed4_11eb_a3bd_acde48001122level0_row0\" class=\"row_heading level0 row0\" >Happiness Score</th>\n",
       "                        <td id=\"T_1b21e7b6_0ed4_11eb_a3bd_acde48001122row0_col0\" class=\"data row0 col0\" >1.000000</td>\n",
       "                        <td id=\"T_1b21e7b6_0ed4_11eb_a3bd_acde48001122row0_col1\" class=\"data row0 col1\" >0.659859</td>\n",
       "                        <td id=\"T_1b21e7b6_0ed4_11eb_a3bd_acde48001122row0_col2\" class=\"data row0 col2\" >0.686113</td>\n",
       "                        <td id=\"T_1b21e7b6_0ed4_11eb_a3bd_acde48001122row0_col3\" class=\"data row0 col3\" >0.785693</td>\n",
       "                        <td id=\"T_1b21e7b6_0ed4_11eb_a3bd_acde48001122row0_col4\" class=\"data row0 col4\" >0.817212</td>\n",
       "                        <td id=\"T_1b21e7b6_0ed4_11eb_a3bd_acde48001122row0_col5\" class=\"data row0 col5\" >-0.628030</td>\n",
       "            </tr>\n",
       "            <tr>\n",
       "                        <th id=\"T_1b21e7b6_0ed4_11eb_a3bd_acde48001122level0_row1\" class=\"row_heading level0 row1\" >GDP per capita</th>\n",
       "                        <td id=\"T_1b21e7b6_0ed4_11eb_a3bd_acde48001122row1_col0\" class=\"data row1 col0\" >0.659859</td>\n",
       "                        <td id=\"T_1b21e7b6_0ed4_11eb_a3bd_acde48001122row1_col1\" class=\"data row1 col1\" >1.000000</td>\n",
       "                        <td id=\"T_1b21e7b6_0ed4_11eb_a3bd_acde48001122row1_col2\" class=\"data row1 col2\" >0.793414</td>\n",
       "                        <td id=\"T_1b21e7b6_0ed4_11eb_a3bd_acde48001122row1_col3\" class=\"data row1 col3\" >0.655924</td>\n",
       "                        <td id=\"T_1b21e7b6_0ed4_11eb_a3bd_acde48001122row1_col4\" class=\"data row1 col4\" >0.480838</td>\n",
       "                        <td id=\"T_1b21e7b6_0ed4_11eb_a3bd_acde48001122row1_col5\" class=\"data row1 col5\" >-0.696882</td>\n",
       "            </tr>\n",
       "            <tr>\n",
       "                        <th id=\"T_1b21e7b6_0ed4_11eb_a3bd_acde48001122level0_row2\" class=\"row_heading level0 row2\" >Social support</th>\n",
       "                        <td id=\"T_1b21e7b6_0ed4_11eb_a3bd_acde48001122row2_col0\" class=\"data row2 col0\" >0.686113</td>\n",
       "                        <td id=\"T_1b21e7b6_0ed4_11eb_a3bd_acde48001122row2_col1\" class=\"data row2 col1\" >0.793414</td>\n",
       "                        <td id=\"T_1b21e7b6_0ed4_11eb_a3bd_acde48001122row2_col2\" class=\"data row2 col2\" >1.000000</td>\n",
       "                        <td id=\"T_1b21e7b6_0ed4_11eb_a3bd_acde48001122row2_col3\" class=\"data row2 col3\" >0.759718</td>\n",
       "                        <td id=\"T_1b21e7b6_0ed4_11eb_a3bd_acde48001122row2_col4\" class=\"data row2 col4\" >0.575107</td>\n",
       "                        <td id=\"T_1b21e7b6_0ed4_11eb_a3bd_acde48001122row2_col5\" class=\"data row2 col5\" >-0.738101</td>\n",
       "            </tr>\n",
       "            <tr>\n",
       "                        <th id=\"T_1b21e7b6_0ed4_11eb_a3bd_acde48001122level0_row3\" class=\"row_heading level0 row3\" >Healthy life expectancy</th>\n",
       "                        <td id=\"T_1b21e7b6_0ed4_11eb_a3bd_acde48001122row3_col0\" class=\"data row3 col0\" >0.785693</td>\n",
       "                        <td id=\"T_1b21e7b6_0ed4_11eb_a3bd_acde48001122row3_col1\" class=\"data row3 col1\" >0.655924</td>\n",
       "                        <td id=\"T_1b21e7b6_0ed4_11eb_a3bd_acde48001122row3_col2\" class=\"data row3 col2\" >0.759718</td>\n",
       "                        <td id=\"T_1b21e7b6_0ed4_11eb_a3bd_acde48001122row3_col3\" class=\"data row3 col3\" >1.000000</td>\n",
       "                        <td id=\"T_1b21e7b6_0ed4_11eb_a3bd_acde48001122row3_col4\" class=\"data row3 col4\" >0.579839</td>\n",
       "                        <td id=\"T_1b21e7b6_0ed4_11eb_a3bd_acde48001122row3_col5\" class=\"data row3 col5\" >-0.766815</td>\n",
       "            </tr>\n",
       "            <tr>\n",
       "                        <th id=\"T_1b21e7b6_0ed4_11eb_a3bd_acde48001122level0_row4\" class=\"row_heading level0 row4\" >Freedom to make life choices</th>\n",
       "                        <td id=\"T_1b21e7b6_0ed4_11eb_a3bd_acde48001122row4_col0\" class=\"data row4 col0\" >0.817212</td>\n",
       "                        <td id=\"T_1b21e7b6_0ed4_11eb_a3bd_acde48001122row4_col1\" class=\"data row4 col1\" >0.480838</td>\n",
       "                        <td id=\"T_1b21e7b6_0ed4_11eb_a3bd_acde48001122row4_col2\" class=\"data row4 col2\" >0.575107</td>\n",
       "                        <td id=\"T_1b21e7b6_0ed4_11eb_a3bd_acde48001122row4_col3\" class=\"data row4 col3\" >0.579839</td>\n",
       "                        <td id=\"T_1b21e7b6_0ed4_11eb_a3bd_acde48001122row4_col4\" class=\"data row4 col4\" >1.000000</td>\n",
       "                        <td id=\"T_1b21e7b6_0ed4_11eb_a3bd_acde48001122row4_col5\" class=\"data row4 col5\" >-0.485188</td>\n",
       "            </tr>\n",
       "            <tr>\n",
       "                        <th id=\"T_1b21e7b6_0ed4_11eb_a3bd_acde48001122level0_row5\" class=\"row_heading level0 row5\" >Generosity</th>\n",
       "                        <td id=\"T_1b21e7b6_0ed4_11eb_a3bd_acde48001122row5_col0\" class=\"data row5 col0\" >-0.628030</td>\n",
       "                        <td id=\"T_1b21e7b6_0ed4_11eb_a3bd_acde48001122row5_col1\" class=\"data row5 col1\" >-0.696882</td>\n",
       "                        <td id=\"T_1b21e7b6_0ed4_11eb_a3bd_acde48001122row5_col2\" class=\"data row5 col2\" >-0.738101</td>\n",
       "                        <td id=\"T_1b21e7b6_0ed4_11eb_a3bd_acde48001122row5_col3\" class=\"data row5 col3\" >-0.766815</td>\n",
       "                        <td id=\"T_1b21e7b6_0ed4_11eb_a3bd_acde48001122row5_col4\" class=\"data row5 col4\" >-0.485188</td>\n",
       "                        <td id=\"T_1b21e7b6_0ed4_11eb_a3bd_acde48001122row5_col5\" class=\"data row5 col5\" >1.000000</td>\n",
       "            </tr>\n",
       "    </tbody></table>"
      ],
      "text/plain": [
       "<pandas.io.formats.style.Styler at 0x7f80b1a59350>"
      ]
     },
     "execution_count": 27,
     "metadata": {},
     "output_type": "execute_result"
    }
   ],
   "source": [
    "# Correlation for Central and Eastern Europe\n",
    "\n",
    "corr_cee =lac_df.corr(method=\"pearson\", min_periods=21)\n",
    "corr_cee.style.background_gradient(cmap='coolwarm')"
   ]
  },
  {
   "cell_type": "code",
   "execution_count": 28,
   "metadata": {},
   "outputs": [
    {
     "data": {
      "text/html": [
       "<style  type=\"text/css\" >\n",
       "    #T_1b259cc6_0ed4_11eb_a3bd_acde48001122row0_col0 {\n",
       "            background-color:  #b40426;\n",
       "            color:  #f1f1f1;\n",
       "        }    #T_1b259cc6_0ed4_11eb_a3bd_acde48001122row0_col1 {\n",
       "            background-color:  #3b4cc0;\n",
       "            color:  #f1f1f1;\n",
       "        }    #T_1b259cc6_0ed4_11eb_a3bd_acde48001122row0_col2 {\n",
       "            background-color:  #cf453c;\n",
       "            color:  #f1f1f1;\n",
       "        }    #T_1b259cc6_0ed4_11eb_a3bd_acde48001122row0_col3 {\n",
       "            background-color:  #bb1b2c;\n",
       "            color:  #f1f1f1;\n",
       "        }    #T_1b259cc6_0ed4_11eb_a3bd_acde48001122row0_col4 {\n",
       "            background-color:  #b70d28;\n",
       "            color:  #f1f1f1;\n",
       "        }    #T_1b259cc6_0ed4_11eb_a3bd_acde48001122row0_col5 {\n",
       "            background-color:  #edd2c3;\n",
       "            color:  #000000;\n",
       "        }    #T_1b259cc6_0ed4_11eb_a3bd_acde48001122row1_col0 {\n",
       "            background-color:  #3b4cc0;\n",
       "            color:  #f1f1f1;\n",
       "        }    #T_1b259cc6_0ed4_11eb_a3bd_acde48001122row1_col1 {\n",
       "            background-color:  #b40426;\n",
       "            color:  #f1f1f1;\n",
       "        }    #T_1b259cc6_0ed4_11eb_a3bd_acde48001122row1_col2 {\n",
       "            background-color:  #3b4cc0;\n",
       "            color:  #f1f1f1;\n",
       "        }    #T_1b259cc6_0ed4_11eb_a3bd_acde48001122row1_col3 {\n",
       "            background-color:  #3b4cc0;\n",
       "            color:  #f1f1f1;\n",
       "        }    #T_1b259cc6_0ed4_11eb_a3bd_acde48001122row1_col4 {\n",
       "            background-color:  #3b4cc0;\n",
       "            color:  #f1f1f1;\n",
       "        }    #T_1b259cc6_0ed4_11eb_a3bd_acde48001122row1_col5 {\n",
       "            background-color:  #3b4cc0;\n",
       "            color:  #f1f1f1;\n",
       "        }    #T_1b259cc6_0ed4_11eb_a3bd_acde48001122row2_col0 {\n",
       "            background-color:  #cd423b;\n",
       "            color:  #f1f1f1;\n",
       "        }    #T_1b259cc6_0ed4_11eb_a3bd_acde48001122row2_col1 {\n",
       "            background-color:  #465ecf;\n",
       "            color:  #f1f1f1;\n",
       "        }    #T_1b259cc6_0ed4_11eb_a3bd_acde48001122row2_col2 {\n",
       "            background-color:  #b40426;\n",
       "            color:  #f1f1f1;\n",
       "        }    #T_1b259cc6_0ed4_11eb_a3bd_acde48001122row2_col3 {\n",
       "            background-color:  #dd5f4b;\n",
       "            color:  #000000;\n",
       "        }    #T_1b259cc6_0ed4_11eb_a3bd_acde48001122row2_col4 {\n",
       "            background-color:  #de614d;\n",
       "            color:  #000000;\n",
       "        }    #T_1b259cc6_0ed4_11eb_a3bd_acde48001122row2_col5 {\n",
       "            background-color:  #e26952;\n",
       "            color:  #000000;\n",
       "        }    #T_1b259cc6_0ed4_11eb_a3bd_acde48001122row3_col0 {\n",
       "            background-color:  #bb1b2c;\n",
       "            color:  #f1f1f1;\n",
       "        }    #T_1b259cc6_0ed4_11eb_a3bd_acde48001122row3_col1 {\n",
       "            background-color:  #516ddb;\n",
       "            color:  #000000;\n",
       "        }    #T_1b259cc6_0ed4_11eb_a3bd_acde48001122row3_col2 {\n",
       "            background-color:  #dc5d4a;\n",
       "            color:  #000000;\n",
       "        }    #T_1b259cc6_0ed4_11eb_a3bd_acde48001122row3_col3 {\n",
       "            background-color:  #b40426;\n",
       "            color:  #f1f1f1;\n",
       "        }    #T_1b259cc6_0ed4_11eb_a3bd_acde48001122row3_col4 {\n",
       "            background-color:  #ba162b;\n",
       "            color:  #f1f1f1;\n",
       "        }    #T_1b259cc6_0ed4_11eb_a3bd_acde48001122row3_col5 {\n",
       "            background-color:  #dadce0;\n",
       "            color:  #000000;\n",
       "        }    #T_1b259cc6_0ed4_11eb_a3bd_acde48001122row4_col0 {\n",
       "            background-color:  #b50927;\n",
       "            color:  #f1f1f1;\n",
       "        }    #T_1b259cc6_0ed4_11eb_a3bd_acde48001122row4_col1 {\n",
       "            background-color:  #4055c8;\n",
       "            color:  #f1f1f1;\n",
       "        }    #T_1b259cc6_0ed4_11eb_a3bd_acde48001122row4_col2 {\n",
       "            background-color:  #de614d;\n",
       "            color:  #000000;\n",
       "        }    #T_1b259cc6_0ed4_11eb_a3bd_acde48001122row4_col3 {\n",
       "            background-color:  #ba162b;\n",
       "            color:  #f1f1f1;\n",
       "        }    #T_1b259cc6_0ed4_11eb_a3bd_acde48001122row4_col4 {\n",
       "            background-color:  #b40426;\n",
       "            color:  #f1f1f1;\n",
       "        }    #T_1b259cc6_0ed4_11eb_a3bd_acde48001122row4_col5 {\n",
       "            background-color:  #d1dae9;\n",
       "            color:  #000000;\n",
       "        }    #T_1b259cc6_0ed4_11eb_a3bd_acde48001122row5_col0 {\n",
       "            background-color:  #f7b599;\n",
       "            color:  #000000;\n",
       "        }    #T_1b259cc6_0ed4_11eb_a3bd_acde48001122row5_col1 {\n",
       "            background-color:  #8badfd;\n",
       "            color:  #000000;\n",
       "        }    #T_1b259cc6_0ed4_11eb_a3bd_acde48001122row5_col2 {\n",
       "            background-color:  #da5a49;\n",
       "            color:  #000000;\n",
       "        }    #T_1b259cc6_0ed4_11eb_a3bd_acde48001122row5_col3 {\n",
       "            background-color:  #efcebd;\n",
       "            color:  #000000;\n",
       "        }    #T_1b259cc6_0ed4_11eb_a3bd_acde48001122row5_col4 {\n",
       "            background-color:  #efcfbf;\n",
       "            color:  #000000;\n",
       "        }    #T_1b259cc6_0ed4_11eb_a3bd_acde48001122row5_col5 {\n",
       "            background-color:  #b40426;\n",
       "            color:  #f1f1f1;\n",
       "        }</style><table id=\"T_1b259cc6_0ed4_11eb_a3bd_acde48001122\" ><thead>    <tr>        <th class=\"blank level0\" ></th>        <th class=\"col_heading level0 col0\" >Happiness Score</th>        <th class=\"col_heading level0 col1\" >GDP per capita</th>        <th class=\"col_heading level0 col2\" >Social support</th>        <th class=\"col_heading level0 col3\" >Healthy life expectancy</th>        <th class=\"col_heading level0 col4\" >Freedom to make life choices</th>        <th class=\"col_heading level0 col5\" >Generosity</th>    </tr></thead><tbody>\n",
       "                <tr>\n",
       "                        <th id=\"T_1b259cc6_0ed4_11eb_a3bd_acde48001122level0_row0\" class=\"row_heading level0 row0\" >Happiness Score</th>\n",
       "                        <td id=\"T_1b259cc6_0ed4_11eb_a3bd_acde48001122row0_col0\" class=\"data row0 col0\" >1.000000</td>\n",
       "                        <td id=\"T_1b259cc6_0ed4_11eb_a3bd_acde48001122row0_col1\" class=\"data row0 col1\" >-0.928723</td>\n",
       "                        <td id=\"T_1b259cc6_0ed4_11eb_a3bd_acde48001122row0_col2\" class=\"data row0 col2\" >0.861139</td>\n",
       "                        <td id=\"T_1b259cc6_0ed4_11eb_a3bd_acde48001122row0_col3\" class=\"data row0 col3\" >0.958637</td>\n",
       "                        <td id=\"T_1b259cc6_0ed4_11eb_a3bd_acde48001122row0_col4\" class=\"data row0 col4\" >0.985085</td>\n",
       "                        <td id=\"T_1b259cc6_0ed4_11eb_a3bd_acde48001122row0_col5\" class=\"data row0 col5\" >0.369866</td>\n",
       "            </tr>\n",
       "            <tr>\n",
       "                        <th id=\"T_1b259cc6_0ed4_11eb_a3bd_acde48001122level0_row1\" class=\"row_heading level0 row1\" >GDP per capita</th>\n",
       "                        <td id=\"T_1b259cc6_0ed4_11eb_a3bd_acde48001122row1_col0\" class=\"data row1 col0\" >-0.928723</td>\n",
       "                        <td id=\"T_1b259cc6_0ed4_11eb_a3bd_acde48001122row1_col1\" class=\"data row1 col1\" >1.000000</td>\n",
       "                        <td id=\"T_1b259cc6_0ed4_11eb_a3bd_acde48001122row1_col2\" class=\"data row1 col2\" >-0.853059</td>\n",
       "                        <td id=\"T_1b259cc6_0ed4_11eb_a3bd_acde48001122row1_col3\" class=\"data row1 col3\" >-0.784850</td>\n",
       "                        <td id=\"T_1b259cc6_0ed4_11eb_a3bd_acde48001122row1_col4\" class=\"data row1 col4\" >-0.889304</td>\n",
       "                        <td id=\"T_1b259cc6_0ed4_11eb_a3bd_acde48001122row1_col5\" class=\"data row1 col5\" >-0.460349</td>\n",
       "            </tr>\n",
       "            <tr>\n",
       "                        <th id=\"T_1b259cc6_0ed4_11eb_a3bd_acde48001122level0_row2\" class=\"row_heading level0 row2\" >Social support</th>\n",
       "                        <td id=\"T_1b259cc6_0ed4_11eb_a3bd_acde48001122row2_col0\" class=\"data row2 col0\" >0.861139</td>\n",
       "                        <td id=\"T_1b259cc6_0ed4_11eb_a3bd_acde48001122row2_col1\" class=\"data row2 col1\" >-0.853059</td>\n",
       "                        <td id=\"T_1b259cc6_0ed4_11eb_a3bd_acde48001122row2_col2\" class=\"data row2 col2\" >1.000000</td>\n",
       "                        <td id=\"T_1b259cc6_0ed4_11eb_a3bd_acde48001122row2_col3\" class=\"data row2 col3\" >0.779405</td>\n",
       "                        <td id=\"T_1b259cc6_0ed4_11eb_a3bd_acde48001122row2_col4\" class=\"data row2 col4\" >0.761510</td>\n",
       "                        <td id=\"T_1b259cc6_0ed4_11eb_a3bd_acde48001122row2_col5\" class=\"data row2 col5\" >0.789991</td>\n",
       "            </tr>\n",
       "            <tr>\n",
       "                        <th id=\"T_1b259cc6_0ed4_11eb_a3bd_acde48001122level0_row3\" class=\"row_heading level0 row3\" >Healthy life expectancy</th>\n",
       "                        <td id=\"T_1b259cc6_0ed4_11eb_a3bd_acde48001122row3_col0\" class=\"data row3 col0\" >0.958637</td>\n",
       "                        <td id=\"T_1b259cc6_0ed4_11eb_a3bd_acde48001122row3_col1\" class=\"data row3 col1\" >-0.784850</td>\n",
       "                        <td id=\"T_1b259cc6_0ed4_11eb_a3bd_acde48001122row3_col2\" class=\"data row3 col2\" >0.779405</td>\n",
       "                        <td id=\"T_1b259cc6_0ed4_11eb_a3bd_acde48001122row3_col3\" class=\"data row3 col3\" >1.000000</td>\n",
       "                        <td id=\"T_1b259cc6_0ed4_11eb_a3bd_acde48001122row3_col4\" class=\"data row3 col4\" >0.965643</td>\n",
       "                        <td id=\"T_1b259cc6_0ed4_11eb_a3bd_acde48001122row3_col5\" class=\"data row3 col5\" >0.255559</td>\n",
       "            </tr>\n",
       "            <tr>\n",
       "                        <th id=\"T_1b259cc6_0ed4_11eb_a3bd_acde48001122level0_row4\" class=\"row_heading level0 row4\" >Freedom to make life choices</th>\n",
       "                        <td id=\"T_1b259cc6_0ed4_11eb_a3bd_acde48001122row4_col0\" class=\"data row4 col0\" >0.985085</td>\n",
       "                        <td id=\"T_1b259cc6_0ed4_11eb_a3bd_acde48001122row4_col1\" class=\"data row4 col1\" >-0.889304</td>\n",
       "                        <td id=\"T_1b259cc6_0ed4_11eb_a3bd_acde48001122row4_col2\" class=\"data row4 col2\" >0.761510</td>\n",
       "                        <td id=\"T_1b259cc6_0ed4_11eb_a3bd_acde48001122row4_col3\" class=\"data row4 col3\" >0.965643</td>\n",
       "                        <td id=\"T_1b259cc6_0ed4_11eb_a3bd_acde48001122row4_col4\" class=\"data row4 col4\" >1.000000</td>\n",
       "                        <td id=\"T_1b259cc6_0ed4_11eb_a3bd_acde48001122row4_col5\" class=\"data row4 col5\" >0.204832</td>\n",
       "            </tr>\n",
       "            <tr>\n",
       "                        <th id=\"T_1b259cc6_0ed4_11eb_a3bd_acde48001122level0_row5\" class=\"row_heading level0 row5\" >Generosity</th>\n",
       "                        <td id=\"T_1b259cc6_0ed4_11eb_a3bd_acde48001122row5_col0\" class=\"data row5 col0\" >0.369866</td>\n",
       "                        <td id=\"T_1b259cc6_0ed4_11eb_a3bd_acde48001122row5_col1\" class=\"data row5 col1\" >-0.460349</td>\n",
       "                        <td id=\"T_1b259cc6_0ed4_11eb_a3bd_acde48001122row5_col2\" class=\"data row5 col2\" >0.789991</td>\n",
       "                        <td id=\"T_1b259cc6_0ed4_11eb_a3bd_acde48001122row5_col3\" class=\"data row5 col3\" >0.255559</td>\n",
       "                        <td id=\"T_1b259cc6_0ed4_11eb_a3bd_acde48001122row5_col4\" class=\"data row5 col4\" >0.204832</td>\n",
       "                        <td id=\"T_1b259cc6_0ed4_11eb_a3bd_acde48001122row5_col5\" class=\"data row5 col5\" >1.000000</td>\n",
       "            </tr>\n",
       "    </tbody></table>"
      ],
      "text/plain": [
       "<pandas.io.formats.style.Styler at 0x7f80b1881210>"
      ]
     },
     "execution_count": 28,
     "metadata": {},
     "output_type": "execute_result"
    }
   ],
   "source": [
    "# Correlation for North America and ANZ\n",
    "corr_na =na_df.corr(method=\"pearson\", min_periods=4)\n",
    "corr_na.style.background_gradient(cmap='coolwarm')"
   ]
  },
  {
   "cell_type": "markdown",
   "metadata": {},
   "source": [
    "### GDP Per Capita"
   ]
  },
  {
   "cell_type": "markdown",
   "metadata": {},
   "source": [
    "#### **Independent T-test**"
   ]
  },
  {
   "cell_type": "code",
   "execution_count": 29,
   "metadata": {},
   "outputs": [
    {
     "data": {
      "text/plain": [
       "Ttest_indResult(statistic=8.607583083234514, pvalue=1.2098422060648664e-10)"
      ]
     },
     "execution_count": 29,
     "metadata": {},
     "output_type": "execute_result"
    }
   ],
   "source": [
    "#Independent t-test - GPD\n",
    "g1 = region_df_2020[region_df_2020['Regional indicator'] == 'Western Europe'][\"GDP per capita\"]\n",
    "g2 = region_df_2020[region_df_2020['Regional indicator'] == 'Latin America and Caribbean'][\"GDP per capita\"]\n",
    "stats.ttest_ind(g1,g2)"
   ]
  },
  {
   "cell_type": "code",
   "execution_count": 30,
   "metadata": {},
   "outputs": [
    {
     "data": {
      "text/plain": [
       "Ttest_indResult(statistic=1.0712632140461713, pvalue=0.2920645407772715)"
      ]
     },
     "execution_count": 30,
     "metadata": {},
     "output_type": "execute_result"
    }
   ],
   "source": [
    "#Independent t-test - GPD\n",
    "g3 = region_df_2020[region_df_2020['Regional indicator'] == 'Central and Eastern Europe'][\"GDP per capita\"]\n",
    "g4 = region_df_2020[region_df_2020['Regional indicator'] == 'Middle East and North Africa'][\"GDP per capita\"]\n",
    "stats.ttest_ind(g3,g4)"
   ]
  },
  {
   "cell_type": "code",
   "execution_count": 31,
   "metadata": {},
   "outputs": [
    {
     "data": {
      "text/plain": [
       "<matplotlib.axes._subplots.AxesSubplot at 0x7f80b1881ed0>"
      ]
     },
     "execution_count": 31,
     "metadata": {},
     "output_type": "execute_result"
    },
    {
     "data": {
      "image/png": "[encoded data removed]",
      "text/plain": [
       "<Figure size 1440x720 with 1 Axes>"
      ]
     },
     "metadata": {
      "needs_background": "light"
     },
     "output_type": "display_data"
    }
   ],
   "source": [
    "# Create a boxplot to compare means\n",
    "region_df_2020.boxplot(\"Happiness Score\", by=\"Regional indicator\", figsize=(20, 10))"
   ]
  },
  {
   "cell_type": "markdown",
   "metadata": {},
   "source": [
    "### ANOVA"
   ]
  },
  {
   "cell_type": "code",
   "execution_count": 32,
   "metadata": {},
   "outputs": [],
   "source": [
    "# Extract individual groups - Happiness Score\n",
    "group1 = region_df_2020[region_df_2020['Regional indicator'] == 'Western Europe'][\"Happiness Score\"]\n",
    "group2 = region_df_2020[region_df_2020['Regional indicator'] == 'Latin America and Caribbean'][\"Happiness Score\"]\n",
    "group3 = region_df_2020[region_df_2020['Regional indicator'] == 'Central and Eastern Europe'][\"Happiness Score\"]\n",
    "group4 = region_df_2020[region_df_2020['Regional indicator'] == 'Middle East and North Africa'][\"Happiness Score\"]\n",
    "group5 = region_df_2020[region_df_2020['Regional indicator'] == 'North America and ANZ'][\"Happiness Score\"]"
   ]
  },
  {
   "cell_type": "code",
   "execution_count": 33,
   "metadata": {},
   "outputs": [
    {
     "data": {
      "text/plain": [
       "F_onewayResult(statistic=15.763410271316431, pvalue=2.095752329095272e-09)"
      ]
     },
     "execution_count": 33,
     "metadata": {},
     "output_type": "execute_result"
    }
   ],
   "source": [
    "stats.f_oneway(group1, group2, group3,group4,group5)"
   ]
  },
  {
   "cell_type": "markdown",
   "metadata": {},
   "source": [
    "### Happines Score"
   ]
  },
  {
   "cell_type": "markdown",
   "metadata": {},
   "source": [
    "### **Independent T-test**"
   ]
  },
  {
   "cell_type": "code",
   "execution_count": 34,
   "metadata": {},
   "outputs": [
    {
     "data": {
      "text/plain": [
       "Ttest_indResult(statistic=4.4250908280324674, pvalue=7.23946909272924e-05)"
      ]
     },
     "execution_count": 34,
     "metadata": {},
     "output_type": "execute_result"
    }
   ],
   "source": [
    "#Independent t-test - Happiness\n",
    "g1 = region_df_2020[region_df_2020['Regional indicator'] == 'Western Europe'][\"Happiness Score\"]\n",
    "g2 = region_df_2020[region_df_2020['Regional indicator'] == 'Latin America and Caribbean'][\"Happiness Score\"]\n",
    "stats.ttest_ind(g1,g2)"
   ]
  },
  {
   "cell_type": "code",
   "execution_count": 35,
   "metadata": {},
   "outputs": [
    {
     "data": {
      "text/plain": [
       "Ttest_indResult(statistic=2.4211513991962854, pvalue=0.021319260714313337)"
      ]
     },
     "execution_count": 35,
     "metadata": {},
     "output_type": "execute_result"
    }
   ],
   "source": [
    "#Independent t-test - Happiness\n",
    "g3 = region_df_2020[region_df_2020['Regional indicator'] == 'Central and Eastern Europe'][\"Happiness Score\"]\n",
    "g4 = region_df_2020[region_df_2020['Regional indicator'] == 'Middle East and North Africa'][\"Happiness Score\"]\n",
    "stats.ttest_ind(g3,g4)"
   ]
  },
  {
   "cell_type": "code",
   "execution_count": 36,
   "metadata": {},
   "outputs": [
    {
     "data": {
      "text/plain": [
       "<matplotlib.axes._subplots.AxesSubplot at 0x7f80b20a5850>"
      ]
     },
     "execution_count": 36,
     "metadata": {},
     "output_type": "execute_result"
    },
    {
     "data": {
      "image/png": "[encoded data removed]",
      "text/plain": [
       "<Figure size 1440x720 with 1 Axes>"
      ]
     },
     "metadata": {
      "needs_background": "light"
     },
     "output_type": "display_data"
    }
   ],
   "source": [
    "# Create a boxplot to compare means - GDP \n",
    "region_df_2020.boxplot(\"GDP per capita\", by=\"Regional indicator\", figsize=(20, 10))"
   ]
  },
  {
   "cell_type": "markdown",
   "metadata": {},
   "source": [
    "### ANOVA"
   ]
  },
  {
   "cell_type": "code",
   "execution_count": 37,
   "metadata": {},
   "outputs": [],
   "source": [
    "# Extract individual groups - GDP Score\n",
    "group1 = region_df_2020[region_df_2020['Regional indicator'] == 'Western Europe'][\"GDP per capita\"]\n",
    "group2 = region_df_2020[region_df_2020['Regional indicator'] == 'Latin America and Caribbean'][\"GDP per capita\"]\n",
    "group3 = region_df_2020[region_df_2020['Regional indicator'] == 'Central and Eastern Europe'][\"GDP per capita\"]\n",
    "group4 = region_df_2020[region_df_2020['Regional indicator'] == 'Middle East and North Africa'][\"GDP per capita\"]\n",
    "group5 = region_df_2020[region_df_2020['Regional indicator'] == 'North America and ANZ'][\"GDP per capita\"]"
   ]
  },
  {
   "cell_type": "code",
   "execution_count": 38,
   "metadata": {},
   "outputs": [
    {
     "data": {
      "text/plain": [
       "F_onewayResult(statistic=16.162613217293092, pvalue=1.379088612056574e-09)"
      ]
     },
     "execution_count": 38,
     "metadata": {},
     "output_type": "execute_result"
    }
   ],
   "source": [
    "stats.f_oneway(group1, group2, group3,group4, group5)"
   ]
  },
  {
   "cell_type": "markdown",
   "metadata": {},
   "source": [
    "### Posthocs"
   ]
  },
  {
   "cell_type": "code",
   "execution_count": 39,
   "metadata": {},
   "outputs": [],
   "source": [
    "#Dependencies\n",
    "import statsmodels.api as sa\n",
    "import statsmodels.formula.api as sfa\n",
    "import scikit_posthocs as sp"
   ]
  },
  {
   "cell_type": "code",
   "execution_count": 42,
   "metadata": {},
   "outputs": [
    {
     "data": {
      "text/plain": [
       "Index(['Country name', 'Regional indicator', 'Happiness Score',\n",
       "       'GDP per capita', 'Social support', 'Healthy life expectancy',\n",
       "       'Freedom to make life choices', 'Generosity'],\n",
       "      dtype='object')"
      ]
     },
     "execution_count": 42,
     "metadata": {},
     "output_type": "execute_result"
    }
   ],
   "source": [
    "region_df_2020.columns"
   ]
  },
  {
   "cell_type": "code",
   "execution_count": 44,
   "metadata": {},
   "outputs": [
    {
     "name": "stdout",
     "output_type": "stream",
     "text": [
      "            df     sum_sq   mean_sq         F        PR(>F)\n",
      "Region     4.0  32.062949  8.015737  15.76341  2.095752e-09\n",
      "Residual  75.0  38.137705  0.508503       NaN           NaN\n"
     ]
    },
    {
     "data": {
      "text/html": [
       "<div>\n",
       "<style scoped>\n",
       "    .dataframe tbody tr th:only-of-type {\n",
       "        vertical-align: middle;\n",
       "    }\n",
       "\n",
       "    .dataframe tbody tr th {\n",
       "        vertical-align: top;\n",
       "    }\n",
       "\n",
       "    .dataframe thead th {\n",
       "        text-align: right;\n",
       "    }\n",
       "</style>\n",
       "<table border=\"1\" class=\"dataframe\">\n",
       "  <thead>\n",
       "    <tr style=\"text-align: right;\">\n",
       "      <th></th>\n",
       "      <th>Western Europe</th>\n",
       "      <th>North America and ANZ</th>\n",
       "      <th>Middle East and North Africa</th>\n",
       "      <th>Latin America and Caribbean</th>\n",
       "      <th>Central and Eastern Europe</th>\n",
       "    </tr>\n",
       "  </thead>\n",
       "  <tbody>\n",
       "    <tr>\n",
       "      <th>Western Europe</th>\n",
       "      <td>1.000000</td>\n",
       "      <td>0.879772</td>\n",
       "      <td>0.000004</td>\n",
       "      <td>0.000579</td>\n",
       "      <td>0.000119</td>\n",
       "    </tr>\n",
       "    <tr>\n",
       "      <th>North America and ANZ</th>\n",
       "      <td>0.879772</td>\n",
       "      <td>1.000000</td>\n",
       "      <td>0.006432</td>\n",
       "      <td>0.008899</td>\n",
       "      <td>0.000892</td>\n",
       "    </tr>\n",
       "    <tr>\n",
       "      <th>Middle East and North Africa</th>\n",
       "      <td>0.000004</td>\n",
       "      <td>0.006432</td>\n",
       "      <td>1.000000</td>\n",
       "      <td>0.031610</td>\n",
       "      <td>0.063958</td>\n",
       "    </tr>\n",
       "    <tr>\n",
       "      <th>Latin America and Caribbean</th>\n",
       "      <td>0.000579</td>\n",
       "      <td>0.008899</td>\n",
       "      <td>0.031610</td>\n",
       "      <td>1.000000</td>\n",
       "      <td>0.879772</td>\n",
       "    </tr>\n",
       "    <tr>\n",
       "      <th>Central and Eastern Europe</th>\n",
       "      <td>0.000119</td>\n",
       "      <td>0.000892</td>\n",
       "      <td>0.063958</td>\n",
       "      <td>0.879772</td>\n",
       "      <td>1.000000</td>\n",
       "    </tr>\n",
       "  </tbody>\n",
       "</table>\n",
       "</div>"
      ],
      "text/plain": [
       "                              Western Europe  North America and ANZ  \\\n",
       "Western Europe                      1.000000               0.879772   \n",
       "North America and ANZ               0.879772               1.000000   \n",
       "Middle East and North Africa        0.000004               0.006432   \n",
       "Latin America and Caribbean         0.000579               0.008899   \n",
       "Central and Eastern Europe          0.000119               0.000892   \n",
       "\n",
       "                              Middle East and North Africa  \\\n",
       "Western Europe                                    0.000004   \n",
       "North America and ANZ                             0.006432   \n",
       "Middle East and North Africa                      1.000000   \n",
       "Latin America and Caribbean                       0.031610   \n",
       "Central and Eastern Europe                        0.063958   \n",
       "\n",
       "                              Latin America and Caribbean  \\\n",
       "Western Europe                                   0.000579   \n",
       "North America and ANZ                            0.008899   \n",
       "Middle East and North Africa                     0.031610   \n",
       "Latin America and Caribbean                      1.000000   \n",
       "Central and Eastern Europe                       0.879772   \n",
       "\n",
       "                              Central and Eastern Europe  \n",
       "Western Europe                                  0.000119  \n",
       "North America and ANZ                           0.000892  \n",
       "Middle East and North Africa                    0.063958  \n",
       "Latin America and Caribbean                     0.879772  \n",
       "Central and Eastern Europe                      1.000000  "
      ]
     },
     "execution_count": 44,
     "metadata": {},
     "output_type": "execute_result"
    }
   ],
   "source": [
    "# Posthocs\n",
    "region_df_2020.columns=['Country', 'Region', 'Happiness', 'GDP', 'SSupport',\n",
    "       'Health', 'Freedom', 'Generosity']\n",
    "lm = sfa.ols('Happiness ~ Region',data=region_df_2020).fit()\n",
    "anova = sa.stats.anova_lm(lm)\n",
    "print(anova)\n",
    "sp.posthoc_ttest(region_df_2020, val_col='Happiness', group_col='Region', p_adjust='holm')"
   ]
  },
  {
   "cell_type": "code",
   "execution_count": 45,
   "metadata": {},
   "outputs": [],
   "source": [
    "# What is the correlation level between the variables and the happiness rank?\n",
    "def happiness(x_values, y_values):\n",
    "    (slope, intercept, rvalue, pvalue, stderr) = stats.linregress(x_values, y_values)\n",
    "    regress_values = x_values * slope + intercept\n",
    "    line_eq = \"y =\" + str(round(slope,2)) + \"x +\" + str(round(intercept,2))\n",
    "    plt.scatter(x_values, y_values, c=\"royalblue\", edgecolor=\"black\")\n",
    "    plt.plot(x_values, regress_values,\"springgreen\")\n",
    "    plt.xlabel(\"Happiness Score\")\n",
    "    plt.ylabel(y_values.name)\n",
    "    plt.show()\n",
    "    print(line_eq)\n",
    "    print(f\"The r-value is: {rvalue}\")"
   ]
  },
  {
   "cell_type": "code",
   "execution_count": 46,
   "metadata": {},
   "outputs": [
    {
     "data": {
      "text/plain": [
       "Index(['Country', 'Region', 'Happiness', 'GDP', 'SSupport', 'Health',\n",
       "       'Freedom', 'Generosity'],\n",
       "      dtype='object')"
      ]
     },
     "execution_count": 46,
     "metadata": {},
     "output_type": "execute_result"
    }
   ],
   "source": [
    "region_df_2020.columns"
   ]
  },
  {
   "cell_type": "code",
   "execution_count": 47,
   "metadata": {},
   "outputs": [
    {
     "data": {
      "image/png": "[encoded data removed]",
      "text/plain": [
       "<Figure size 432x288 with 1 Axes>"
      ]
     },
     "metadata": {
      "needs_background": "light"
     },
     "output_type": "display_data"
    },
    {
     "name": "stdout",
     "output_type": "stream",
     "text": [
      "y =0.63x +6.14\n",
      "The r-value is: 0.7370157041479967\n"
     ]
    }
   ],
   "source": [
    "happiness(region_df_2020[\"Happiness\"], region_df_2020[\"GDP\"])"
   ]
  },
  {
   "cell_type": "code",
   "execution_count": null,
   "metadata": {},
   "outputs": [],
   "source": []
  },
  {
   "cell_type": "markdown",
   "metadata": {},
   "source": [
    "### 3. Conclusions"
   ]
  },
  {
   "cell_type": "code",
   "execution_count": null,
   "metadata": {},
   "outputs": [],
   "source": []
  }
 ],
 "metadata": {
  "kernelspec": {
   "display_name": "Python 3",
   "language": "python",
   "name": "python3"
  },
  "language_info": {
   "codemirror_mode": {
    "name": "ipython",
    "version": 3
   },
   "file_extension": ".py",
   "mimetype": "text/x-python",
   "name": "python",
   "nbconvert_exporter": "python",
   "pygments_lexer": "ipython3",
   "version": "3.7.6"
  }
 },
 "nbformat": 4,
 "nbformat_minor": 4
}

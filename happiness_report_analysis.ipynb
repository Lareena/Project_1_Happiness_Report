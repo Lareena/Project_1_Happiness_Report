{
 "cells": [
  {
   "cell_type": "markdown",
   "metadata": {},
   "source": [
    "   # What Make Us Smile: World Happiness Data at a Glance"
   ]
  },
  {
   "cell_type": "markdown",
   "metadata": {},
   "source": [
    "What is the factor that most influence the level of happiness?\n",
    "\n",
    "  - **Hypothesis**: GDP is positively related to happiness level.\n",
    "  \n",
    "  - **Nullhypothesis**: GDP is not related to the happiness level."
   ]
  },
  {
   "cell_type": "markdown",
   "metadata": {},
   "source": [
    "*Bakground: The happiness score ranking use data from theGallup World Poll. The scores are based on answers to different factors including GDP, freedom,family, social support and others. There are over 150 countries in this dataset, ranging from 2015 to 2020. For our analysis, we only include 2018-2020 since these three years have similar traits.*\n",
    "\n",
    "source: https://www.kaggle.com/mathurinache/world-happiness-report?select=2015.csv"
   ]
  },
  {
   "cell_type": "markdown",
   "metadata": {},
   "source": [
    "### 1. Cleaning process"
   ]
  },
  {
   "cell_type": "code",
   "execution_count": 1,
   "metadata": {},
   "outputs": [],
   "source": [
    "# Dependencies\n",
    "import numpy as np\n",
    "import pandas as pd\n",
    "import matplotlib.pyplot as plt\n",
    "import scipy.stats as stats\n",
    "import os\n",
    "import csv\n",
    "import seaborn as sns"
   ]
  },
  {
   "cell_type": "code",
   "execution_count": 2,
   "metadata": {},
   "outputs": [],
   "source": [
    "#The path to the CSV file\n",
    "file_2020 = \"Resources/2020.csv\""
   ]
  },
  {
   "cell_type": "code",
   "execution_count": 3,
   "metadata": {},
   "outputs": [],
   "source": [
    "# Read the file\n",
    "df_2020 = pd.read_csv(file_2020)"
   ]
  },
  {
   "cell_type": "code",
   "execution_count": 4,
   "metadata": {},
   "outputs": [
    {
     "data": {
      "text/html": [
       "<div>\n",
       "<style scoped>\n",
       "    .dataframe tbody tr th:only-of-type {\n",
       "        vertical-align: middle;\n",
       "    }\n",
       "\n",
       "    .dataframe tbody tr th {\n",
       "        vertical-align: top;\n",
       "    }\n",
       "\n",
       "    .dataframe thead th {\n",
       "        text-align: right;\n",
       "    }\n",
       "</style>\n",
       "<table border=\"1\" class=\"dataframe\">\n",
       "  <thead>\n",
       "    <tr style=\"text-align: right;\">\n",
       "      <th></th>\n",
       "      <th>Country name</th>\n",
       "      <th>Regional indicator</th>\n",
       "      <th>Ladder score</th>\n",
       "      <th>Standard error of ladder score</th>\n",
       "      <th>upperwhisker</th>\n",
       "      <th>lowerwhisker</th>\n",
       "      <th>Logged GDP per capita</th>\n",
       "      <th>Social support</th>\n",
       "      <th>Healthy life expectancy</th>\n",
       "      <th>Freedom to make life choices</th>\n",
       "      <th>Generosity</th>\n",
       "      <th>Perceptions of corruption</th>\n",
       "      <th>Ladder score in Dystopia</th>\n",
       "      <th>Explained by: Log GDP per capita</th>\n",
       "      <th>Explained by: Social support</th>\n",
       "      <th>Explained by: Healthy life expectancy</th>\n",
       "      <th>Explained by: Freedom to make life choices</th>\n",
       "      <th>Explained by: Generosity</th>\n",
       "      <th>Explained by: Perceptions of corruption</th>\n",
       "      <th>Dystopia + residual</th>\n",
       "    </tr>\n",
       "  </thead>\n",
       "  <tbody>\n",
       "    <tr>\n",
       "      <th>0</th>\n",
       "      <td>Finland</td>\n",
       "      <td>Western Europe</td>\n",
       "      <td>7.8087</td>\n",
       "      <td>0.031156</td>\n",
       "      <td>7.869766</td>\n",
       "      <td>7.747634</td>\n",
       "      <td>10.639267</td>\n",
       "      <td>0.954330</td>\n",
       "      <td>71.900825</td>\n",
       "      <td>0.949172</td>\n",
       "      <td>-0.059482</td>\n",
       "      <td>0.195445</td>\n",
       "      <td>1.972317</td>\n",
       "      <td>1.285190</td>\n",
       "      <td>1.499526</td>\n",
       "      <td>0.961271</td>\n",
       "      <td>0.662317</td>\n",
       "      <td>0.159670</td>\n",
       "      <td>0.477857</td>\n",
       "      <td>2.762835</td>\n",
       "    </tr>\n",
       "    <tr>\n",
       "      <th>1</th>\n",
       "      <td>Denmark</td>\n",
       "      <td>Western Europe</td>\n",
       "      <td>7.6456</td>\n",
       "      <td>0.033492</td>\n",
       "      <td>7.711245</td>\n",
       "      <td>7.579955</td>\n",
       "      <td>10.774001</td>\n",
       "      <td>0.955991</td>\n",
       "      <td>72.402504</td>\n",
       "      <td>0.951444</td>\n",
       "      <td>0.066202</td>\n",
       "      <td>0.168489</td>\n",
       "      <td>1.972317</td>\n",
       "      <td>1.326949</td>\n",
       "      <td>1.503449</td>\n",
       "      <td>0.979333</td>\n",
       "      <td>0.665040</td>\n",
       "      <td>0.242793</td>\n",
       "      <td>0.495260</td>\n",
       "      <td>2.432741</td>\n",
       "    </tr>\n",
       "    <tr>\n",
       "      <th>2</th>\n",
       "      <td>Switzerland</td>\n",
       "      <td>Western Europe</td>\n",
       "      <td>7.5599</td>\n",
       "      <td>0.035014</td>\n",
       "      <td>7.628528</td>\n",
       "      <td>7.491272</td>\n",
       "      <td>10.979933</td>\n",
       "      <td>0.942847</td>\n",
       "      <td>74.102448</td>\n",
       "      <td>0.921337</td>\n",
       "      <td>0.105911</td>\n",
       "      <td>0.303728</td>\n",
       "      <td>1.972317</td>\n",
       "      <td>1.390774</td>\n",
       "      <td>1.472403</td>\n",
       "      <td>1.040533</td>\n",
       "      <td>0.628954</td>\n",
       "      <td>0.269056</td>\n",
       "      <td>0.407946</td>\n",
       "      <td>2.350267</td>\n",
       "    </tr>\n",
       "    <tr>\n",
       "      <th>3</th>\n",
       "      <td>Iceland</td>\n",
       "      <td>Western Europe</td>\n",
       "      <td>7.5045</td>\n",
       "      <td>0.059616</td>\n",
       "      <td>7.621347</td>\n",
       "      <td>7.387653</td>\n",
       "      <td>10.772559</td>\n",
       "      <td>0.974670</td>\n",
       "      <td>73.000000</td>\n",
       "      <td>0.948892</td>\n",
       "      <td>0.246944</td>\n",
       "      <td>0.711710</td>\n",
       "      <td>1.972317</td>\n",
       "      <td>1.326502</td>\n",
       "      <td>1.547567</td>\n",
       "      <td>1.000843</td>\n",
       "      <td>0.661981</td>\n",
       "      <td>0.362330</td>\n",
       "      <td>0.144541</td>\n",
       "      <td>2.460688</td>\n",
       "    </tr>\n",
       "    <tr>\n",
       "      <th>4</th>\n",
       "      <td>Norway</td>\n",
       "      <td>Western Europe</td>\n",
       "      <td>7.4880</td>\n",
       "      <td>0.034837</td>\n",
       "      <td>7.556281</td>\n",
       "      <td>7.419719</td>\n",
       "      <td>11.087804</td>\n",
       "      <td>0.952487</td>\n",
       "      <td>73.200783</td>\n",
       "      <td>0.955750</td>\n",
       "      <td>0.134533</td>\n",
       "      <td>0.263218</td>\n",
       "      <td>1.972317</td>\n",
       "      <td>1.424207</td>\n",
       "      <td>1.495173</td>\n",
       "      <td>1.008072</td>\n",
       "      <td>0.670201</td>\n",
       "      <td>0.287985</td>\n",
       "      <td>0.434101</td>\n",
       "      <td>2.168266</td>\n",
       "    </tr>\n",
       "  </tbody>\n",
       "</table>\n",
       "</div>"
      ],
      "text/plain": [
       "  Country name Regional indicator  Ladder score  \\\n",
       "0      Finland     Western Europe        7.8087   \n",
       "1      Denmark     Western Europe        7.6456   \n",
       "2  Switzerland     Western Europe        7.5599   \n",
       "3      Iceland     Western Europe        7.5045   \n",
       "4       Norway     Western Europe        7.4880   \n",
       "\n",
       "   Standard error of ladder score  upperwhisker  lowerwhisker  \\\n",
       "0                        0.031156      7.869766      7.747634   \n",
       "1                        0.033492      7.711245      7.579955   \n",
       "2                        0.035014      7.628528      7.491272   \n",
       "3                        0.059616      7.621347      7.387653   \n",
       "4                        0.034837      7.556281      7.419719   \n",
       "\n",
       "   Logged GDP per capita  Social support  Healthy life expectancy  \\\n",
       "0              10.639267        0.954330                71.900825   \n",
       "1              10.774001        0.955991                72.402504   \n",
       "2              10.979933        0.942847                74.102448   \n",
       "3              10.772559        0.974670                73.000000   \n",
       "4              11.087804        0.952487                73.200783   \n",
       "\n",
       "   Freedom to make life choices  Generosity  Perceptions of corruption  \\\n",
       "0                      0.949172   -0.059482                   0.195445   \n",
       "1                      0.951444    0.066202                   0.168489   \n",
       "2                      0.921337    0.105911                   0.303728   \n",
       "3                      0.948892    0.246944                   0.711710   \n",
       "4                      0.955750    0.134533                   0.263218   \n",
       "\n",
       "   Ladder score in Dystopia  Explained by: Log GDP per capita  \\\n",
       "0                  1.972317                          1.285190   \n",
       "1                  1.972317                          1.326949   \n",
       "2                  1.972317                          1.390774   \n",
       "3                  1.972317                          1.326502   \n",
       "4                  1.972317                          1.424207   \n",
       "\n",
       "   Explained by: Social support  Explained by: Healthy life expectancy  \\\n",
       "0                      1.499526                               0.961271   \n",
       "1                      1.503449                               0.979333   \n",
       "2                      1.472403                               1.040533   \n",
       "3                      1.547567                               1.000843   \n",
       "4                      1.495173                               1.008072   \n",
       "\n",
       "   Explained by: Freedom to make life choices  Explained by: Generosity  \\\n",
       "0                                    0.662317                  0.159670   \n",
       "1                                    0.665040                  0.242793   \n",
       "2                                    0.628954                  0.269056   \n",
       "3                                    0.661981                  0.362330   \n",
       "4                                    0.670201                  0.287985   \n",
       "\n",
       "   Explained by: Perceptions of corruption  Dystopia + residual  \n",
       "0                                 0.477857             2.762835  \n",
       "1                                 0.495260             2.432741  \n",
       "2                                 0.407946             2.350267  \n",
       "3                                 0.144541             2.460688  \n",
       "4                                 0.434101             2.168266  "
      ]
     },
     "execution_count": 4,
     "metadata": {},
     "output_type": "execute_result"
    }
   ],
   "source": [
    "# visualizate the data\n",
    "df_2020.head()"
   ]
  },
  {
   "cell_type": "code",
   "execution_count": 5,
   "metadata": {},
   "outputs": [],
   "source": [
    "# Rename ladder score column \n",
    "clean_df_2020 = df_2020.rename(columns={\"Ladder score\":\"Happiness Score\", \"Logged GDP per capita\":\"GDP per capita\"})\n",
    "\n",
    "# Drop unnecesary columns\n",
    "clean_df_2020 = clean_df_2020[[\"Country name\", \"Regional indicator\", \"Happiness Score\", \"GDP per capita\", \"Social support\", \"Healthy life expectancy\", \"Freedom to make life choices\", \"Generosity\"]]"
   ]
  },
  {
   "cell_type": "code",
   "execution_count": 6,
   "metadata": {},
   "outputs": [
    {
     "data": {
      "text/html": [
       "<div>\n",
       "<style scoped>\n",
       "    .dataframe tbody tr th:only-of-type {\n",
       "        vertical-align: middle;\n",
       "    }\n",
       "\n",
       "    .dataframe tbody tr th {\n",
       "        vertical-align: top;\n",
       "    }\n",
       "\n",
       "    .dataframe thead th {\n",
       "        text-align: right;\n",
       "    }\n",
       "</style>\n",
       "<table border=\"1\" class=\"dataframe\">\n",
       "  <thead>\n",
       "    <tr style=\"text-align: right;\">\n",
       "      <th></th>\n",
       "      <th>Country name</th>\n",
       "      <th>Regional indicator</th>\n",
       "      <th>Happiness Score</th>\n",
       "      <th>GDP per capita</th>\n",
       "      <th>Social support</th>\n",
       "      <th>Healthy life expectancy</th>\n",
       "      <th>Freedom to make life choices</th>\n",
       "      <th>Generosity</th>\n",
       "    </tr>\n",
       "  </thead>\n",
       "  <tbody>\n",
       "    <tr>\n",
       "      <th>0</th>\n",
       "      <td>Finland</td>\n",
       "      <td>Western Europe</td>\n",
       "      <td>7.8087</td>\n",
       "      <td>10.639267</td>\n",
       "      <td>0.954330</td>\n",
       "      <td>71.900825</td>\n",
       "      <td>0.949172</td>\n",
       "      <td>-0.059482</td>\n",
       "    </tr>\n",
       "    <tr>\n",
       "      <th>1</th>\n",
       "      <td>Denmark</td>\n",
       "      <td>Western Europe</td>\n",
       "      <td>7.6456</td>\n",
       "      <td>10.774001</td>\n",
       "      <td>0.955991</td>\n",
       "      <td>72.402504</td>\n",
       "      <td>0.951444</td>\n",
       "      <td>0.066202</td>\n",
       "    </tr>\n",
       "    <tr>\n",
       "      <th>2</th>\n",
       "      <td>Switzerland</td>\n",
       "      <td>Western Europe</td>\n",
       "      <td>7.5599</td>\n",
       "      <td>10.979933</td>\n",
       "      <td>0.942847</td>\n",
       "      <td>74.102448</td>\n",
       "      <td>0.921337</td>\n",
       "      <td>0.105911</td>\n",
       "    </tr>\n",
       "    <tr>\n",
       "      <th>3</th>\n",
       "      <td>Iceland</td>\n",
       "      <td>Western Europe</td>\n",
       "      <td>7.5045</td>\n",
       "      <td>10.772559</td>\n",
       "      <td>0.974670</td>\n",
       "      <td>73.000000</td>\n",
       "      <td>0.948892</td>\n",
       "      <td>0.246944</td>\n",
       "    </tr>\n",
       "    <tr>\n",
       "      <th>4</th>\n",
       "      <td>Norway</td>\n",
       "      <td>Western Europe</td>\n",
       "      <td>7.4880</td>\n",
       "      <td>11.087804</td>\n",
       "      <td>0.952487</td>\n",
       "      <td>73.200783</td>\n",
       "      <td>0.955750</td>\n",
       "      <td>0.134533</td>\n",
       "    </tr>\n",
       "    <tr>\n",
       "      <th>...</th>\n",
       "      <td>...</td>\n",
       "      <td>...</td>\n",
       "      <td>...</td>\n",
       "      <td>...</td>\n",
       "      <td>...</td>\n",
       "      <td>...</td>\n",
       "      <td>...</td>\n",
       "      <td>...</td>\n",
       "    </tr>\n",
       "    <tr>\n",
       "      <th>148</th>\n",
       "      <td>Central African Republic</td>\n",
       "      <td>Sub-Saharan Africa</td>\n",
       "      <td>3.4759</td>\n",
       "      <td>6.625160</td>\n",
       "      <td>0.319460</td>\n",
       "      <td>45.200001</td>\n",
       "      <td>0.640881</td>\n",
       "      <td>0.082410</td>\n",
       "    </tr>\n",
       "    <tr>\n",
       "      <th>149</th>\n",
       "      <td>Rwanda</td>\n",
       "      <td>Sub-Saharan Africa</td>\n",
       "      <td>3.3123</td>\n",
       "      <td>7.600104</td>\n",
       "      <td>0.540835</td>\n",
       "      <td>61.098846</td>\n",
       "      <td>0.900589</td>\n",
       "      <td>0.055484</td>\n",
       "    </tr>\n",
       "    <tr>\n",
       "      <th>150</th>\n",
       "      <td>Zimbabwe</td>\n",
       "      <td>Sub-Saharan Africa</td>\n",
       "      <td>3.2992</td>\n",
       "      <td>7.865712</td>\n",
       "      <td>0.763093</td>\n",
       "      <td>55.617260</td>\n",
       "      <td>0.711458</td>\n",
       "      <td>-0.072064</td>\n",
       "    </tr>\n",
       "    <tr>\n",
       "      <th>151</th>\n",
       "      <td>South Sudan</td>\n",
       "      <td>Sub-Saharan Africa</td>\n",
       "      <td>2.8166</td>\n",
       "      <td>7.425360</td>\n",
       "      <td>0.553707</td>\n",
       "      <td>51.000000</td>\n",
       "      <td>0.451314</td>\n",
       "      <td>0.016519</td>\n",
       "    </tr>\n",
       "    <tr>\n",
       "      <th>152</th>\n",
       "      <td>Afghanistan</td>\n",
       "      <td>South Asia</td>\n",
       "      <td>2.5669</td>\n",
       "      <td>7.462861</td>\n",
       "      <td>0.470367</td>\n",
       "      <td>52.590000</td>\n",
       "      <td>0.396573</td>\n",
       "      <td>-0.096429</td>\n",
       "    </tr>\n",
       "  </tbody>\n",
       "</table>\n",
       "<p>153 rows × 8 columns</p>\n",
       "</div>"
      ],
      "text/plain": [
       "                 Country name  Regional indicator  Happiness Score  \\\n",
       "0                     Finland      Western Europe           7.8087   \n",
       "1                     Denmark      Western Europe           7.6456   \n",
       "2                 Switzerland      Western Europe           7.5599   \n",
       "3                     Iceland      Western Europe           7.5045   \n",
       "4                      Norway      Western Europe           7.4880   \n",
       "..                        ...                 ...              ...   \n",
       "148  Central African Republic  Sub-Saharan Africa           3.4759   \n",
       "149                    Rwanda  Sub-Saharan Africa           3.3123   \n",
       "150                  Zimbabwe  Sub-Saharan Africa           3.2992   \n",
       "151               South Sudan  Sub-Saharan Africa           2.8166   \n",
       "152               Afghanistan          South Asia           2.5669   \n",
       "\n",
       "     GDP per capita  Social support  Healthy life expectancy  \\\n",
       "0         10.639267        0.954330                71.900825   \n",
       "1         10.774001        0.955991                72.402504   \n",
       "2         10.979933        0.942847                74.102448   \n",
       "3         10.772559        0.974670                73.000000   \n",
       "4         11.087804        0.952487                73.200783   \n",
       "..              ...             ...                      ...   \n",
       "148        6.625160        0.319460                45.200001   \n",
       "149        7.600104        0.540835                61.098846   \n",
       "150        7.865712        0.763093                55.617260   \n",
       "151        7.425360        0.553707                51.000000   \n",
       "152        7.462861        0.470367                52.590000   \n",
       "\n",
       "     Freedom to make life choices  Generosity  \n",
       "0                        0.949172   -0.059482  \n",
       "1                        0.951444    0.066202  \n",
       "2                        0.921337    0.105911  \n",
       "3                        0.948892    0.246944  \n",
       "4                        0.955750    0.134533  \n",
       "..                            ...         ...  \n",
       "148                      0.640881    0.082410  \n",
       "149                      0.900589    0.055484  \n",
       "150                      0.711458   -0.072064  \n",
       "151                      0.451314    0.016519  \n",
       "152                      0.396573   -0.096429  \n",
       "\n",
       "[153 rows x 8 columns]"
      ]
     },
     "execution_count": 6,
     "metadata": {},
     "output_type": "execute_result"
    }
   ],
   "source": [
    "clean_df_2020"
   ]
  },
  {
   "cell_type": "code",
   "execution_count": 7,
   "metadata": {},
   "outputs": [],
   "source": [
    "# Narrow down the range of countries (Western Europe vs Latin America and Caribbean)\n",
    "\n",
    "region_df_2020 = clean_df_2020.loc[(clean_df_2020[\"Regional indicator\"]==\"Western Europe\")|(clean_df_2020[\"Regional indicator\"]==\"Latin America and Caribbean\")|(clean_df_2020[\"Regional indicator\"]==\"Middle East and North Africa\")\n",
    "                |(clean_df_2020[\"Regional indicator\"]==\"Central and Eastern Europe\")|(clean_df_2020[\"Regional indicator\"]==\"North America and ANZ\")]\n",
    "\n",
    "# Reset the index\n",
    "region_df_2020 = region_df_2020.reset_index(drop=True)"
   ]
  },
  {
   "cell_type": "code",
   "execution_count": 8,
   "metadata": {},
   "outputs": [],
   "source": [
    "# Western Europe df\n",
    "we_df = region_df_2020.loc[(region_df_2020[\"Regional indicator\"]==\"Western Europe\")]"
   ]
  },
  {
   "cell_type": "code",
   "execution_count": 9,
   "metadata": {},
   "outputs": [],
   "source": [
    "# Latin American and Caribbean\n",
    "lac_df = clean_df_2020.loc[(clean_df_2020[\"Regional indicator\"]==\"Latin America and Caribbean\")]"
   ]
  },
  {
   "cell_type": "code",
   "execution_count": 10,
   "metadata": {},
   "outputs": [],
   "source": [
    "# Middle East and North Africa\n",
    "mena_df = region_df_2020.loc[(region_df_2020[\"Regional indicator\"]==\"Middle East and North Africa\")]"
   ]
  },
  {
   "cell_type": "code",
   "execution_count": 11,
   "metadata": {},
   "outputs": [],
   "source": [
    "# Central and Eastern Europe\n",
    "cee_df = region_df_2020.loc[(region_df_2020[\"Regional indicator\"]==\"Central and Eastern Europe\")]"
   ]
  },
  {
   "cell_type": "code",
   "execution_count": 12,
   "metadata": {},
   "outputs": [],
   "source": [
    "# North America and ANZ\n",
    "na_df = region_df_2020.loc[(region_df_2020[\"Regional indicator\"]==\"North America and ANZ\")]"
   ]
  },
  {
   "cell_type": "code",
   "execution_count": 13,
   "metadata": {},
   "outputs": [
    {
     "data": {
      "text/plain": [
       "Country name                    80\n",
       "Regional indicator              80\n",
       "Happiness Score                 80\n",
       "GDP per capita                  80\n",
       "Social support                  80\n",
       "Healthy life expectancy         80\n",
       "Freedom to make life choices    80\n",
       "Generosity                      80\n",
       "dtype: int64"
      ]
     },
     "execution_count": 13,
     "metadata": {},
     "output_type": "execute_result"
    }
   ],
   "source": [
    "# Look for null values\n",
    "region_df_2020.count()"
   ]
  },
  {
   "cell_type": "markdown",
   "metadata": {},
   "source": [
    "### 2. Data visualization"
   ]
  },
  {
   "cell_type": "code",
   "execution_count": 14,
   "metadata": {},
   "outputs": [
    {
     "data": {
      "image/png": "[encoded data removed]",
      "text/plain": [
       "<Figure size 432x288 with 1 Axes>"
      ]
     },
     "metadata": {
      "needs_background": "light"
     },
     "output_type": "display_data"
    }
   ],
   "source": [
    "#Distribution of the data\n",
    "\n",
    "happiness_rate = region_df_2020[\"Happiness Score\"]\n",
    "plt.hist(happiness_rate, color=\"gold\")\n",
    "plt.xlabel('Happiness Rate')\n",
    "plt.show()"
   ]
  },
  {
   "cell_type": "code",
   "execution_count": 15,
   "metadata": {},
   "outputs": [
    {
     "data": {
      "text/html": [
       "<div>\n",
       "<style scoped>\n",
       "    .dataframe tbody tr th:only-of-type {\n",
       "        vertical-align: middle;\n",
       "    }\n",
       "\n",
       "    .dataframe tbody tr th {\n",
       "        vertical-align: top;\n",
       "    }\n",
       "\n",
       "    .dataframe thead th {\n",
       "        text-align: right;\n",
       "    }\n",
       "</style>\n",
       "<table border=\"1\" class=\"dataframe\">\n",
       "  <thead>\n",
       "    <tr style=\"text-align: right;\">\n",
       "      <th></th>\n",
       "      <th>Happiness Score</th>\n",
       "      <th>GDP per capita</th>\n",
       "      <th>Social support</th>\n",
       "      <th>Healthy life expectancy</th>\n",
       "      <th>Freedom to make life choices</th>\n",
       "      <th>Generosity</th>\n",
       "    </tr>\n",
       "  </thead>\n",
       "  <tbody>\n",
       "    <tr>\n",
       "      <th>count</th>\n",
       "      <td>80.000000</td>\n",
       "      <td>80.000000</td>\n",
       "      <td>80.000000</td>\n",
       "      <td>80.000000</td>\n",
       "      <td>80.000000</td>\n",
       "      <td>80.000000</td>\n",
       "    </tr>\n",
       "    <tr>\n",
       "      <th>mean</th>\n",
       "      <td>6.101023</td>\n",
       "      <td>9.967232</td>\n",
       "      <td>0.866472</td>\n",
       "      <td>68.609640</td>\n",
       "      <td>0.802436</td>\n",
       "      <td>-0.040215</td>\n",
       "    </tr>\n",
       "    <tr>\n",
       "      <th>std</th>\n",
       "      <td>0.942664</td>\n",
       "      <td>0.801378</td>\n",
       "      <td>0.077730</td>\n",
       "      <td>3.900124</td>\n",
       "      <td>0.116720</td>\n",
       "      <td>0.145376</td>\n",
       "    </tr>\n",
       "    <tr>\n",
       "      <th>min</th>\n",
       "      <td>3.527400</td>\n",
       "      <td>7.411329</td>\n",
       "      <td>0.592628</td>\n",
       "      <td>55.598625</td>\n",
       "      <td>0.466611</td>\n",
       "      <td>-0.300907</td>\n",
       "    </tr>\n",
       "    <tr>\n",
       "      <th>25%</th>\n",
       "      <td>5.543450</td>\n",
       "      <td>9.456189</td>\n",
       "      <td>0.824956</td>\n",
       "      <td>66.791725</td>\n",
       "      <td>0.743382</td>\n",
       "      <td>-0.158610</td>\n",
       "    </tr>\n",
       "    <tr>\n",
       "      <th>50%</th>\n",
       "      <td>6.174850</td>\n",
       "      <td>10.118502</td>\n",
       "      <td>0.885515</td>\n",
       "      <td>68.399750</td>\n",
       "      <td>0.835462</td>\n",
       "      <td>-0.077146</td>\n",
       "    </tr>\n",
       "    <tr>\n",
       "      <th>75%</th>\n",
       "      <td>6.808975</td>\n",
       "      <td>10.588201</td>\n",
       "      <td>0.922573</td>\n",
       "      <td>72.300821</td>\n",
       "      <td>0.887424</td>\n",
       "      <td>0.085814</td>\n",
       "    </tr>\n",
       "    <tr>\n",
       "      <th>max</th>\n",
       "      <td>7.808700</td>\n",
       "      <td>11.450681</td>\n",
       "      <td>0.974670</td>\n",
       "      <td>74.402710</td>\n",
       "      <td>0.955750</td>\n",
       "      <td>0.400535</td>\n",
       "    </tr>\n",
       "  </tbody>\n",
       "</table>\n",
       "</div>"
      ],
      "text/plain": [
       "       Happiness Score  GDP per capita  Social support  \\\n",
       "count        80.000000       80.000000       80.000000   \n",
       "mean          6.101023        9.967232        0.866472   \n",
       "std           0.942664        0.801378        0.077730   \n",
       "min           3.527400        7.411329        0.592628   \n",
       "25%           5.543450        9.456189        0.824956   \n",
       "50%           6.174850       10.118502        0.885515   \n",
       "75%           6.808975       10.588201        0.922573   \n",
       "max           7.808700       11.450681        0.974670   \n",
       "\n",
       "       Healthy life expectancy  Freedom to make life choices  Generosity  \n",
       "count                80.000000                     80.000000   80.000000  \n",
       "mean                 68.609640                      0.802436   -0.040215  \n",
       "std                   3.900124                      0.116720    0.145376  \n",
       "min                  55.598625                      0.466611   -0.300907  \n",
       "25%                  66.791725                      0.743382   -0.158610  \n",
       "50%                  68.399750                      0.835462   -0.077146  \n",
       "75%                  72.300821                      0.887424    0.085814  \n",
       "max                  74.402710                      0.955750    0.400535  "
      ]
     },
     "execution_count": 15,
     "metadata": {},
     "output_type": "execute_result"
    }
   ],
   "source": [
    "# Describe the data\n",
    "region_df_2020.describe()"
   ]
  },
  {
   "cell_type": "code",
   "execution_count": 16,
   "metadata": {},
   "outputs": [
    {
     "data": {
      "text/html": [
       "<div>\n",
       "<style scoped>\n",
       "    .dataframe tbody tr th:only-of-type {\n",
       "        vertical-align: middle;\n",
       "    }\n",
       "\n",
       "    .dataframe tbody tr th {\n",
       "        vertical-align: top;\n",
       "    }\n",
       "\n",
       "    .dataframe thead th {\n",
       "        text-align: right;\n",
       "    }\n",
       "</style>\n",
       "<table border=\"1\" class=\"dataframe\">\n",
       "  <thead>\n",
       "    <tr style=\"text-align: right;\">\n",
       "      <th></th>\n",
       "      <th>Happiness Score</th>\n",
       "      <th>GDP per capita</th>\n",
       "      <th>Social support</th>\n",
       "      <th>Healthy life expectancy</th>\n",
       "      <th>Freedom to make life choices</th>\n",
       "      <th>Generosity</th>\n",
       "    </tr>\n",
       "  </thead>\n",
       "  <tbody>\n",
       "    <tr>\n",
       "      <th>count</th>\n",
       "      <td>21.000000</td>\n",
       "      <td>21.000000</td>\n",
       "      <td>21.000000</td>\n",
       "      <td>21.000000</td>\n",
       "      <td>21.000000</td>\n",
       "      <td>21.000000</td>\n",
       "    </tr>\n",
       "    <tr>\n",
       "      <th>mean</th>\n",
       "      <td>6.899219</td>\n",
       "      <td>10.688402</td>\n",
       "      <td>0.913134</td>\n",
       "      <td>72.863565</td>\n",
       "      <td>0.854993</td>\n",
       "      <td>0.038923</td>\n",
       "    </tr>\n",
       "    <tr>\n",
       "      <th>std</th>\n",
       "      <td>0.683212</td>\n",
       "      <td>0.306327</td>\n",
       "      <td>0.047160</td>\n",
       "      <td>0.746943</td>\n",
       "      <td>0.105049</td>\n",
       "      <td>0.148602</td>\n",
       "    </tr>\n",
       "    <tr>\n",
       "      <th>min</th>\n",
       "      <td>5.515000</td>\n",
       "      <td>10.132326</td>\n",
       "      <td>0.805996</td>\n",
       "      <td>71.900825</td>\n",
       "      <td>0.541345</td>\n",
       "      <td>-0.300907</td>\n",
       "    </tr>\n",
       "    <tr>\n",
       "      <th>25%</th>\n",
       "      <td>6.400900</td>\n",
       "      <td>10.481836</td>\n",
       "      <td>0.898874</td>\n",
       "      <td>72.300919</td>\n",
       "      <td>0.813582</td>\n",
       "      <td>-0.050962</td>\n",
       "    </tr>\n",
       "    <tr>\n",
       "      <th>50%</th>\n",
       "      <td>7.093700</td>\n",
       "      <td>10.673639</td>\n",
       "      <td>0.928046</td>\n",
       "      <td>72.599998</td>\n",
       "      <td>0.888748</td>\n",
       "      <td>0.066202</td>\n",
       "    </tr>\n",
       "    <tr>\n",
       "      <th>75%</th>\n",
       "      <td>7.448900</td>\n",
       "      <td>10.774001</td>\n",
       "      <td>0.942082</td>\n",
       "      <td>73.601685</td>\n",
       "      <td>0.924911</td>\n",
       "      <td>0.134533</td>\n",
       "    </tr>\n",
       "    <tr>\n",
       "      <th>max</th>\n",
       "      <td>7.808700</td>\n",
       "      <td>11.450681</td>\n",
       "      <td>0.974670</td>\n",
       "      <td>74.402710</td>\n",
       "      <td>0.955750</td>\n",
       "      <td>0.263732</td>\n",
       "    </tr>\n",
       "  </tbody>\n",
       "</table>\n",
       "</div>"
      ],
      "text/plain": [
       "       Happiness Score  GDP per capita  Social support  \\\n",
       "count        21.000000       21.000000       21.000000   \n",
       "mean          6.899219       10.688402        0.913134   \n",
       "std           0.683212        0.306327        0.047160   \n",
       "min           5.515000       10.132326        0.805996   \n",
       "25%           6.400900       10.481836        0.898874   \n",
       "50%           7.093700       10.673639        0.928046   \n",
       "75%           7.448900       10.774001        0.942082   \n",
       "max           7.808700       11.450681        0.974670   \n",
       "\n",
       "       Healthy life expectancy  Freedom to make life choices  Generosity  \n",
       "count                21.000000                     21.000000   21.000000  \n",
       "mean                 72.863565                      0.854993    0.038923  \n",
       "std                   0.746943                      0.105049    0.148602  \n",
       "min                  71.900825                      0.541345   -0.300907  \n",
       "25%                  72.300919                      0.813582   -0.050962  \n",
       "50%                  72.599998                      0.888748    0.066202  \n",
       "75%                  73.601685                      0.924911    0.134533  \n",
       "max                  74.402710                      0.955750    0.263732  "
      ]
     },
     "execution_count": 16,
     "metadata": {},
     "output_type": "execute_result"
    }
   ],
   "source": [
    "# Western Europe\n",
    "we_df.describe()"
   ]
  },
  {
   "cell_type": "code",
   "execution_count": 17,
   "metadata": {},
   "outputs": [
    {
     "data": {
      "text/html": [
       "<div>\n",
       "<style scoped>\n",
       "    .dataframe tbody tr th:only-of-type {\n",
       "        vertical-align: middle;\n",
       "    }\n",
       "\n",
       "    .dataframe tbody tr th {\n",
       "        vertical-align: top;\n",
       "    }\n",
       "\n",
       "    .dataframe thead th {\n",
       "        text-align: right;\n",
       "    }\n",
       "</style>\n",
       "<table border=\"1\" class=\"dataframe\">\n",
       "  <thead>\n",
       "    <tr style=\"text-align: right;\">\n",
       "      <th></th>\n",
       "      <th>Happiness Score</th>\n",
       "      <th>GDP per capita</th>\n",
       "      <th>Social support</th>\n",
       "      <th>Healthy life expectancy</th>\n",
       "      <th>Freedom to make life choices</th>\n",
       "      <th>Generosity</th>\n",
       "    </tr>\n",
       "  </thead>\n",
       "  <tbody>\n",
       "    <tr>\n",
       "      <th>count</th>\n",
       "      <td>21.000000</td>\n",
       "      <td>21.000000</td>\n",
       "      <td>21.000000</td>\n",
       "      <td>21.000000</td>\n",
       "      <td>21.000000</td>\n",
       "      <td>21.000000</td>\n",
       "    </tr>\n",
       "    <tr>\n",
       "      <th>mean</th>\n",
       "      <td>5.981786</td>\n",
       "      <td>9.303024</td>\n",
       "      <td>0.856891</td>\n",
       "      <td>66.717328</td>\n",
       "      <td>0.830684</td>\n",
       "      <td>-0.071901</td>\n",
       "    </tr>\n",
       "    <tr>\n",
       "      <th>std</th>\n",
       "      <td>0.660213</td>\n",
       "      <td>0.670937</td>\n",
       "      <td>0.071688</td>\n",
       "      <td>3.227917</td>\n",
       "      <td>0.092859</td>\n",
       "      <td>0.130883</td>\n",
       "    </tr>\n",
       "    <tr>\n",
       "      <th>min</th>\n",
       "      <td>3.720800</td>\n",
       "      <td>7.411329</td>\n",
       "      <td>0.593248</td>\n",
       "      <td>55.598625</td>\n",
       "      <td>0.537825</td>\n",
       "      <td>-0.194914</td>\n",
       "    </tr>\n",
       "    <tr>\n",
       "      <th>25%</th>\n",
       "      <td>5.796800</td>\n",
       "      <td>8.924806</td>\n",
       "      <td>0.831075</td>\n",
       "      <td>65.807487</td>\n",
       "      <td>0.831132</td>\n",
       "      <td>-0.153928</td>\n",
       "    </tr>\n",
       "    <tr>\n",
       "      <th>50%</th>\n",
       "      <td>6.137100</td>\n",
       "      <td>9.456313</td>\n",
       "      <td>0.882085</td>\n",
       "      <td>67.198769</td>\n",
       "      <td>0.858709</td>\n",
       "      <td>-0.102430</td>\n",
       "    </tr>\n",
       "    <tr>\n",
       "      <th>75%</th>\n",
       "      <td>6.348300</td>\n",
       "      <td>9.797797</td>\n",
       "      <td>0.900568</td>\n",
       "      <td>68.500038</td>\n",
       "      <td>0.875873</td>\n",
       "      <td>-0.042939</td>\n",
       "    </tr>\n",
       "    <tr>\n",
       "      <th>max</th>\n",
       "      <td>7.121400</td>\n",
       "      <td>10.260002</td>\n",
       "      <td>0.922811</td>\n",
       "      <td>71.299850</td>\n",
       "      <td>0.934739</td>\n",
       "      <td>0.400535</td>\n",
       "    </tr>\n",
       "  </tbody>\n",
       "</table>\n",
       "</div>"
      ],
      "text/plain": [
       "       Happiness Score  GDP per capita  Social support  \\\n",
       "count        21.000000       21.000000       21.000000   \n",
       "mean          5.981786        9.303024        0.856891   \n",
       "std           0.660213        0.670937        0.071688   \n",
       "min           3.720800        7.411329        0.593248   \n",
       "25%           5.796800        8.924806        0.831075   \n",
       "50%           6.137100        9.456313        0.882085   \n",
       "75%           6.348300        9.797797        0.900568   \n",
       "max           7.121400       10.260002        0.922811   \n",
       "\n",
       "       Healthy life expectancy  Freedom to make life choices  Generosity  \n",
       "count                21.000000                     21.000000   21.000000  \n",
       "mean                 66.717328                      0.830684   -0.071901  \n",
       "std                   3.227917                      0.092859    0.130883  \n",
       "min                  55.598625                      0.537825   -0.194914  \n",
       "25%                  65.807487                      0.831132   -0.153928  \n",
       "50%                  67.198769                      0.858709   -0.102430  \n",
       "75%                  68.500038                      0.875873   -0.042939  \n",
       "max                  71.299850                      0.934739    0.400535  "
      ]
     },
     "execution_count": 17,
     "metadata": {},
     "output_type": "execute_result"
    }
   ],
   "source": [
    "# Latin American and Caribbean\n",
    "lac_df.describe()"
   ]
  },
  {
   "cell_type": "code",
   "execution_count": 18,
   "metadata": {},
   "outputs": [
    {
     "data": {
      "text/html": [
       "<div>\n",
       "<style scoped>\n",
       "    .dataframe tbody tr th:only-of-type {\n",
       "        vertical-align: middle;\n",
       "    }\n",
       "\n",
       "    .dataframe tbody tr th {\n",
       "        vertical-align: top;\n",
       "    }\n",
       "\n",
       "    .dataframe thead th {\n",
       "        text-align: right;\n",
       "    }\n",
       "</style>\n",
       "<table border=\"1\" class=\"dataframe\">\n",
       "  <thead>\n",
       "    <tr style=\"text-align: right;\">\n",
       "      <th></th>\n",
       "      <th>Happiness Score</th>\n",
       "      <th>GDP per capita</th>\n",
       "      <th>Social support</th>\n",
       "      <th>Healthy life expectancy</th>\n",
       "      <th>Freedom to make life choices</th>\n",
       "      <th>Generosity</th>\n",
       "    </tr>\n",
       "  </thead>\n",
       "  <tbody>\n",
       "    <tr>\n",
       "      <th>count</th>\n",
       "      <td>17.000000</td>\n",
       "      <td>17.000000</td>\n",
       "      <td>17.000000</td>\n",
       "      <td>17.000000</td>\n",
       "      <td>17.000000</td>\n",
       "      <td>17.000000</td>\n",
       "    </tr>\n",
       "    <tr>\n",
       "      <th>mean</th>\n",
       "      <td>5.227159</td>\n",
       "      <td>9.713648</td>\n",
       "      <td>0.796720</td>\n",
       "      <td>65.313611</td>\n",
       "      <td>0.710171</td>\n",
       "      <td>-0.084426</td>\n",
       "    </tr>\n",
       "    <tr>\n",
       "      <th>std</th>\n",
       "      <td>0.988163</td>\n",
       "      <td>0.926929</td>\n",
       "      <td>0.080980</td>\n",
       "      <td>3.742944</td>\n",
       "      <td>0.133281</td>\n",
       "      <td>0.126384</td>\n",
       "    </tr>\n",
       "    <tr>\n",
       "      <th>min</th>\n",
       "      <td>3.527400</td>\n",
       "      <td>7.759683</td>\n",
       "      <td>0.592628</td>\n",
       "      <td>56.727283</td>\n",
       "      <td>0.466611</td>\n",
       "      <td>-0.240377</td>\n",
       "    </tr>\n",
       "    <tr>\n",
       "      <th>25%</th>\n",
       "      <td>4.633400</td>\n",
       "      <td>9.314973</td>\n",
       "      <td>0.747695</td>\n",
       "      <td>62.299999</td>\n",
       "      <td>0.608830</td>\n",
       "      <td>-0.168695</td>\n",
       "    </tr>\n",
       "    <tr>\n",
       "      <th>50%</th>\n",
       "      <td>5.005100</td>\n",
       "      <td>9.661096</td>\n",
       "      <td>0.824338</td>\n",
       "      <td>66.305145</td>\n",
       "      <td>0.708354</td>\n",
       "      <td>-0.121105</td>\n",
       "    </tr>\n",
       "    <tr>\n",
       "      <th>75%</th>\n",
       "      <td>6.102100</td>\n",
       "      <td>10.417525</td>\n",
       "      <td>0.846475</td>\n",
       "      <td>66.902817</td>\n",
       "      <td>0.773157</td>\n",
       "      <td>-0.061215</td>\n",
       "    </tr>\n",
       "    <tr>\n",
       "      <th>max</th>\n",
       "      <td>7.128600</td>\n",
       "      <td>11.109999</td>\n",
       "      <td>0.913571</td>\n",
       "      <td>73.200256</td>\n",
       "      <td>0.941346</td>\n",
       "      <td>0.133729</td>\n",
       "    </tr>\n",
       "  </tbody>\n",
       "</table>\n",
       "</div>"
      ],
      "text/plain": [
       "       Happiness Score  GDP per capita  Social support  \\\n",
       "count        17.000000       17.000000       17.000000   \n",
       "mean          5.227159        9.713648        0.796720   \n",
       "std           0.988163        0.926929        0.080980   \n",
       "min           3.527400        7.759683        0.592628   \n",
       "25%           4.633400        9.314973        0.747695   \n",
       "50%           5.005100        9.661096        0.824338   \n",
       "75%           6.102100       10.417525        0.846475   \n",
       "max           7.128600       11.109999        0.913571   \n",
       "\n",
       "       Healthy life expectancy  Freedom to make life choices  Generosity  \n",
       "count                17.000000                     17.000000   17.000000  \n",
       "mean                 65.313611                      0.710171   -0.084426  \n",
       "std                   3.742944                      0.133281    0.126384  \n",
       "min                  56.727283                      0.466611   -0.240377  \n",
       "25%                  62.299999                      0.608830   -0.168695  \n",
       "50%                  66.305145                      0.708354   -0.121105  \n",
       "75%                  66.902817                      0.773157   -0.061215  \n",
       "max                  73.200256                      0.941346    0.133729  "
      ]
     },
     "execution_count": 18,
     "metadata": {},
     "output_type": "execute_result"
    }
   ],
   "source": [
    "# Middle East and North Africa\n",
    "mena_df.describe()"
   ]
  },
  {
   "cell_type": "code",
   "execution_count": 19,
   "metadata": {},
   "outputs": [
    {
     "data": {
      "text/html": [
       "<div>\n",
       "<style scoped>\n",
       "    .dataframe tbody tr th:only-of-type {\n",
       "        vertical-align: middle;\n",
       "    }\n",
       "\n",
       "    .dataframe tbody tr th {\n",
       "        vertical-align: top;\n",
       "    }\n",
       "\n",
       "    .dataframe thead th {\n",
       "        text-align: right;\n",
       "    }\n",
       "</style>\n",
       "<table border=\"1\" class=\"dataframe\">\n",
       "  <thead>\n",
       "    <tr style=\"text-align: right;\">\n",
       "      <th></th>\n",
       "      <th>Happiness Score</th>\n",
       "      <th>GDP per capita</th>\n",
       "      <th>Social support</th>\n",
       "      <th>Healthy life expectancy</th>\n",
       "      <th>Freedom to make life choices</th>\n",
       "      <th>Generosity</th>\n",
       "    </tr>\n",
       "  </thead>\n",
       "  <tbody>\n",
       "    <tr>\n",
       "      <th>count</th>\n",
       "      <td>17.000000</td>\n",
       "      <td>17.000000</td>\n",
       "      <td>17.000000</td>\n",
       "      <td>17.000000</td>\n",
       "      <td>17.000000</td>\n",
       "      <td>17.000000</td>\n",
       "    </tr>\n",
       "    <tr>\n",
       "      <th>mean</th>\n",
       "      <td>5.883818</td>\n",
       "      <td>9.975703</td>\n",
       "      <td>0.874566</td>\n",
       "      <td>68.148988</td>\n",
       "      <td>0.770271</td>\n",
       "      <td>-0.102712</td>\n",
       "    </tr>\n",
       "    <tr>\n",
       "      <th>std</th>\n",
       "      <td>0.523486</td>\n",
       "      <td>0.397603</td>\n",
       "      <td>0.068332</td>\n",
       "      <td>1.646989</td>\n",
       "      <td>0.083754</td>\n",
       "      <td>0.113807</td>\n",
       "    </tr>\n",
       "    <tr>\n",
       "      <th>min</th>\n",
       "      <td>4.882700</td>\n",
       "      <td>9.204430</td>\n",
       "      <td>0.671070</td>\n",
       "      <td>63.885555</td>\n",
       "      <td>0.649566</td>\n",
       "      <td>-0.230862</td>\n",
       "    </tr>\n",
       "    <tr>\n",
       "      <th>25%</th>\n",
       "      <td>5.546100</td>\n",
       "      <td>9.680981</td>\n",
       "      <td>0.829204</td>\n",
       "      <td>67.294075</td>\n",
       "      <td>0.718965</td>\n",
       "      <td>-0.194323</td>\n",
       "    </tr>\n",
       "    <tr>\n",
       "      <th>50%</th>\n",
       "      <td>6.000400</td>\n",
       "      <td>10.107584</td>\n",
       "      <td>0.881476</td>\n",
       "      <td>68.210205</td>\n",
       "      <td>0.747381</td>\n",
       "      <td>-0.124409</td>\n",
       "    </tr>\n",
       "    <tr>\n",
       "      <th>75%</th>\n",
       "      <td>6.215500</td>\n",
       "      <td>10.340017</td>\n",
       "      <td>0.922494</td>\n",
       "      <td>68.906342</td>\n",
       "      <td>0.842823</td>\n",
       "      <td>-0.073676</td>\n",
       "    </tr>\n",
       "    <tr>\n",
       "      <th>max</th>\n",
       "      <td>6.910900</td>\n",
       "      <td>10.404163</td>\n",
       "      <td>0.939576</td>\n",
       "      <td>71.102989</td>\n",
       "      <td>0.936143</td>\n",
       "      <td>0.190934</td>\n",
       "    </tr>\n",
       "  </tbody>\n",
       "</table>\n",
       "</div>"
      ],
      "text/plain": [
       "       Happiness Score  GDP per capita  Social support  \\\n",
       "count        17.000000       17.000000       17.000000   \n",
       "mean          5.883818        9.975703        0.874566   \n",
       "std           0.523486        0.397603        0.068332   \n",
       "min           4.882700        9.204430        0.671070   \n",
       "25%           5.546100        9.680981        0.829204   \n",
       "50%           6.000400       10.107584        0.881476   \n",
       "75%           6.215500       10.340017        0.922494   \n",
       "max           6.910900       10.404163        0.939576   \n",
       "\n",
       "       Healthy life expectancy  Freedom to make life choices  Generosity  \n",
       "count                17.000000                     17.000000   17.000000  \n",
       "mean                 68.148988                      0.770271   -0.102712  \n",
       "std                   1.646989                      0.083754    0.113807  \n",
       "min                  63.885555                      0.649566   -0.230862  \n",
       "25%                  67.294075                      0.718965   -0.194323  \n",
       "50%                  68.210205                      0.747381   -0.124409  \n",
       "75%                  68.906342                      0.842823   -0.073676  \n",
       "max                  71.102989                      0.936143    0.190934  "
      ]
     },
     "execution_count": 19,
     "metadata": {},
     "output_type": "execute_result"
    }
   ],
   "source": [
    "# Central and Eastern Europe\n",
    "cee_df.describe()"
   ]
  },
  {
   "cell_type": "code",
   "execution_count": 20,
   "metadata": {},
   "outputs": [
    {
     "data": {
      "text/html": [
       "<div>\n",
       "<style scoped>\n",
       "    .dataframe tbody tr th:only-of-type {\n",
       "        vertical-align: middle;\n",
       "    }\n",
       "\n",
       "    .dataframe tbody tr th {\n",
       "        vertical-align: top;\n",
       "    }\n",
       "\n",
       "    .dataframe thead th {\n",
       "        text-align: right;\n",
       "    }\n",
       "</style>\n",
       "<table border=\"1\" class=\"dataframe\">\n",
       "  <thead>\n",
       "    <tr style=\"text-align: right;\">\n",
       "      <th></th>\n",
       "      <th>Happiness Score</th>\n",
       "      <th>GDP per capita</th>\n",
       "      <th>Social support</th>\n",
       "      <th>Healthy life expectancy</th>\n",
       "      <th>Freedom to make life choices</th>\n",
       "      <th>Generosity</th>\n",
       "    </tr>\n",
       "  </thead>\n",
       "  <tbody>\n",
       "    <tr>\n",
       "      <th>count</th>\n",
       "      <td>4.000000</td>\n",
       "      <td>4.000000</td>\n",
       "      <td>4.000000</td>\n",
       "      <td>4.000000</td>\n",
       "      <td>4.000000</td>\n",
       "      <td>4.000000</td>\n",
       "    </tr>\n",
       "    <tr>\n",
       "      <th>mean</th>\n",
       "      <td>7.173525</td>\n",
       "      <td>10.709919</td>\n",
       "      <td>0.933842</td>\n",
       "      <td>72.177067</td>\n",
       "      <td>0.907045</td>\n",
       "      <td>0.164180</td>\n",
       "    </tr>\n",
       "    <tr>\n",
       "      <th>std</th>\n",
       "      <td>0.159661</td>\n",
       "      <td>0.173862</td>\n",
       "      <td>0.016167</td>\n",
       "      <td>2.591928</td>\n",
       "      <td>0.043947</td>\n",
       "      <td>0.032658</td>\n",
       "    </tr>\n",
       "    <tr>\n",
       "      <th>min</th>\n",
       "      <td>6.939600</td>\n",
       "      <td>10.500943</td>\n",
       "      <td>0.914219</td>\n",
       "      <td>68.299500</td>\n",
       "      <td>0.842620</td>\n",
       "      <td>0.124771</td>\n",
       "    </tr>\n",
       "    <tr>\n",
       "      <th>25%</th>\n",
       "      <td>7.152000</td>\n",
       "      <td>10.644512</td>\n",
       "      <td>0.923937</td>\n",
       "      <td>71.976847</td>\n",
       "      <td>0.897229</td>\n",
       "      <td>0.143611</td>\n",
       "    </tr>\n",
       "    <tr>\n",
       "      <th>50%</th>\n",
       "      <td>7.227450</td>\n",
       "      <td>10.706482</td>\n",
       "      <td>0.936016</td>\n",
       "      <td>73.402115</td>\n",
       "      <td>0.924672</td>\n",
       "      <td>0.170176</td>\n",
       "    </tr>\n",
       "    <tr>\n",
       "      <th>75%</th>\n",
       "      <td>7.248975</td>\n",
       "      <td>10.771889</td>\n",
       "      <td>0.945921</td>\n",
       "      <td>73.602335</td>\n",
       "      <td>0.934489</td>\n",
       "      <td>0.190745</td>\n",
       "    </tr>\n",
       "    <tr>\n",
       "      <th>max</th>\n",
       "      <td>7.299600</td>\n",
       "      <td>10.925769</td>\n",
       "      <td>0.949119</td>\n",
       "      <td>73.604538</td>\n",
       "      <td>0.936217</td>\n",
       "      <td>0.191598</td>\n",
       "    </tr>\n",
       "  </tbody>\n",
       "</table>\n",
       "</div>"
      ],
      "text/plain": [
       "       Happiness Score  GDP per capita  Social support  \\\n",
       "count         4.000000        4.000000        4.000000   \n",
       "mean          7.173525       10.709919        0.933842   \n",
       "std           0.159661        0.173862        0.016167   \n",
       "min           6.939600       10.500943        0.914219   \n",
       "25%           7.152000       10.644512        0.923937   \n",
       "50%           7.227450       10.706482        0.936016   \n",
       "75%           7.248975       10.771889        0.945921   \n",
       "max           7.299600       10.925769        0.949119   \n",
       "\n",
       "       Healthy life expectancy  Freedom to make life choices  Generosity  \n",
       "count                 4.000000                      4.000000    4.000000  \n",
       "mean                 72.177067                      0.907045    0.164180  \n",
       "std                   2.591928                      0.043947    0.032658  \n",
       "min                  68.299500                      0.842620    0.124771  \n",
       "25%                  71.976847                      0.897229    0.143611  \n",
       "50%                  73.402115                      0.924672    0.170176  \n",
       "75%                  73.602335                      0.934489    0.190745  \n",
       "max                  73.604538                      0.936217    0.191598  "
      ]
     },
     "execution_count": 20,
     "metadata": {},
     "output_type": "execute_result"
    }
   ],
   "source": [
    "# North America and ANZ\n",
    "na_df.describe()"
   ]
  },
  {
   "cell_type": "markdown",
   "metadata": {},
   "source": [
    "### 1. Do the countries of the same region have the same level of happiness?"
   ]
  },
  {
   "cell_type": "markdown",
   "metadata": {},
   "source": [
    "Using bar graphs for each region, we were able to compare the happiness scores for each country. Based on the data that we found, happiness level varies between countries within regions. We did however find that some regions have larger variations between countries than others; Latin America and Caribbean as well as Central and Eastern Europe have multiple countries with similar happiness levels. By contrast, Western Europe as well as Middle East and North Africa each either have very few countries with similar levels of happiness."
   ]
  },
  {
   "cell_type": "code",
   "execution_count": 21,
   "metadata": {},
   "outputs": [],
   "source": [
    "# Create the variables for the plot\n",
    "\n",
    "# WE Region\n",
    "rate_we = we_df[\"Happiness Score\"].values\n",
    "country_name_we = we_df[\"Country name\"].values\n",
    "# LAC Region\n",
    "rate_lac = lac_df[\"Happiness Score\"].values\n",
    "country_name_lac = lac_df[\"Country name\"].values\n",
    "# MENA Region\n",
    "rate_mena = mena_df[\"Happiness Score\"].values\n",
    "country_name_mena = mena_df[\"Country name\"].values\n",
    "# CEE Region\n",
    "rate_cee = cee_df[\"Happiness Score\"].values\n",
    "country_name_cee = cee_df[\"Country name\"].values\n",
    "# NA REGION\n",
    "rate_na = na_df[\"Happiness Score\"].values\n",
    "country_name_na = na_df[\"Country name\"].values"
   ]
  },
  {
   "cell_type": "code",
   "execution_count": 22,
   "metadata": {},
   "outputs": [
    {
     "data": {
      "image/png": "[encoded data removed]",
      "text/plain": [
       "<Figure size 432x288 with 2 Axes>"
      ]
     },
     "metadata": {
      "needs_background": "light"
     },
     "output_type": "display_data"
    }
   ],
   "source": [
    "# Western Europe vs Latin American and Caribbean\n",
    "plt.subplot(1, 2, 1)\n",
    "happiness_we = plt.barh(country_name_we,rate_we ,color=\"steelblue\", linewidth=1)\n",
    "plt.title(\"Western Europe\")\n",
    "plt.subplot(1, 2, 2)\n",
    "happiness_lac = plt.barh(country_name_lac,rate_lac ,color=\"darkred\", linewidth=1)\n",
    "plt.title(\"Latin American and Caribbean\")\n",
    "plt.tight_layout()\n",
    "plt.savefig(\"Images/we_vs_lac.png\")"
   ]
  },
  {
   "cell_type": "markdown",
   "metadata": {},
   "source": [
    "The happiness score is different among the countries in each region."
   ]
  },
  {
   "cell_type": "code",
   "execution_count": 23,
   "metadata": {},
   "outputs": [
    {
     "data": {
      "image/png": "[encoded data removed]",
      "text/plain": [
       "<Figure size 432x288 with 2 Axes>"
      ]
     },
     "metadata": {
      "needs_background": "light"
     },
     "output_type": "display_data"
    }
   ],
   "source": [
    "# Middle East and North Africa vs Central and Eastern Europe\n",
    "plt.subplot(1, 2, 1)\n",
    "happiness_mena = plt.barh(country_name_mena,rate_mena ,color=\"teal\", linewidth=1)\n",
    "plt.title(\"Middle East and North Africa\")\n",
    "plt.subplot(1, 2, 2)\n",
    "happiness_cee = plt.barh(country_name_cee,rate_cee ,color=\"salmon\", linewidth=1)\n",
    "plt.title(\"Central and Eastern Europe\")\n",
    "plt.tight_layout()\n",
    "plt.savefig(\"Images/mena_vs_cee.png\")"
   ]
  },
  {
   "cell_type": "code",
   "execution_count": 24,
   "metadata": {},
   "outputs": [
    {
     "data": {
      "image/png": "[encoded data removed]",
      "text/plain": [
       "<Figure size 432x288 with 1 Axes>"
      ]
     },
     "metadata": {
      "needs_background": "light"
     },
     "output_type": "display_data"
    }
   ],
   "source": [
    "# Western Europe\n",
    "happiness_we = plt.barh(country_name_we,rate_we ,color=\"steelblue\", linewidth=5)\n",
    "plt.title(\"Western Europe\")\n",
    "plt.xlabel(\"Happinnes Score\")\n",
    "plt.savefig(\"Images/we_happinnes_score.png\")"
   ]
  },
  {
   "cell_type": "code",
   "execution_count": 25,
   "metadata": {},
   "outputs": [
    {
     "data": {
      "image/png": "[encoded data removed]",
      "text/plain": [
       "<Figure size 432x288 with 1 Axes>"
      ]
     },
     "metadata": {
      "needs_background": "light"
     },
     "output_type": "display_data"
    }
   ],
   "source": [
    "# Latin American and Caribbean\n",
    "happiness_lac = plt.barh(country_name_lac,rate_lac ,color=\"darkred\", linewidth=1)\n",
    "plt.title(\"Latin American and Caribbean\")\n",
    "plt.xlabel(\"Happinnes Score\")\n",
    "plt.savefig(\"Images/lac_happinnes_score.png\")"
   ]
  },
  {
   "cell_type": "code",
   "execution_count": 26,
   "metadata": {},
   "outputs": [
    {
     "data": {
      "image/png": "[encoded data removed]",
      "text/plain": [
       "<Figure size 432x288 with 1 Axes>"
      ]
     },
     "metadata": {
      "needs_background": "light"
     },
     "output_type": "display_data"
    }
   ],
   "source": [
    "# Middle East and North Africa\n",
    "happiness_mena = plt.barh(country_name_mena,rate_mena ,color=\"teal\", linewidth=1)\n",
    "plt.title(\"Middle East and North Africa\")\n",
    "plt.xlabel(\"Happinnes Score\")\n",
    "plt.savefig(\"Images/mena_happinnes_score.png\")"
   ]
  },
  {
   "cell_type": "code",
   "execution_count": 27,
   "metadata": {},
   "outputs": [
    {
     "data": {
      "image/png": "[encoded data removed]",
      "text/plain": [
       "<Figure size 432x288 with 1 Axes>"
      ]
     },
     "metadata": {
      "needs_background": "light"
     },
     "output_type": "display_data"
    }
   ],
   "source": [
    "# Central and Eastern Europe\n",
    "happiness_cee = plt.barh(country_name_cee,rate_cee ,color=\"salmon\", linewidth=1)\n",
    "plt.title(\"Central and Eastern Europe\")\n",
    "plt.xlabel(\"Happinnes Score\")\n",
    "plt.savefig(\"Images/cee_happinnes_score.png\")"
   ]
  },
  {
   "cell_type": "code",
   "execution_count": 28,
   "metadata": {},
   "outputs": [
    {
     "data": {
      "image/png": "[encoded data removed]",
      "text/plain": [
       "<Figure size 432x288 with 1 Axes>"
      ]
     },
     "metadata": {
      "needs_background": "light"
     },
     "output_type": "display_data"
    }
   ],
   "source": [
    "# North America and ANZ\n",
    "happiness_na = plt.barh(country_name_na,rate_na ,color=\"mediumseagreen\", linewidth=1)\n",
    "plt.title(\"North America and ANZ\")\n",
    "plt.xlabel(\"Happinnes Score\")\n",
    "plt.savefig(\"Images/na_happinnes_score.png\")"
   ]
  },
  {
   "cell_type": "markdown",
   "metadata": {},
   "source": [
    "### 2. Do all of the variables have an equal effect on the happiness level of regions?"
   ]
  },
  {
   "cell_type": "markdown",
   "metadata": {},
   "source": [
    "We used heat maps to show the correlation between the variables (GDP, social support, health life expectancy, freedom to make choices, and generosity) and the overall happiness level. The first heat map, which encompassed every region together, showed a positive and overall similar correlation between happiness level and four of the variables. Generosity however showed a very weak correlation to happiness level.\n",
    "\n",
    "\n",
    "Breaking down region by region shows interesting variances. In two of our regions (Latin America and Caribbean as well as Central and Eastern Europe) we found a negative correlation between generosity and happiness level. We also found that these two regions had the lowest GDP correlations out of the regions we measured. We also noticed that North America and ANZ had a strong negative correlation between happiness level and GDP."
   ]
  },
  {
   "cell_type": "code",
   "execution_count": 29,
   "metadata": {},
   "outputs": [
    {
     "data": {
      "image/png": "[encoded data removed]",
      "text/plain": [
       "<Figure size 432x288 with 2 Axes>"
      ]
     },
     "metadata": {
      "needs_background": "light"
     },
     "output_type": "display_data"
    }
   ],
   "source": [
    "# All regions\n",
    "corr_world =region_df_2020.corr(method=\"pearson\", min_periods=80)\n",
    "sns.heatmap(corr_world, annot=True, cmap ='RdBu', vmin=-1, vmax=1)\n",
    "plt.title(\"Variables vs Happiness Rate (All Regions)\")\n",
    "plt.savefig(\"Images/correlation_all_regions.png\")"
   ]
  },
  {
   "cell_type": "code",
   "execution_count": 30,
   "metadata": {},
   "outputs": [
    {
     "data": {
      "image/png": "[encoded data removed]",
      "text/plain": [
       "<Figure size 432x288 with 2 Axes>"
      ]
     },
     "metadata": {
      "needs_background": "light"
     },
     "output_type": "display_data"
    }
   ],
   "source": [
    "# Correlation for Western Europe\n",
    "corr_we = we_df.corr()\n",
    "sns.heatmap(corr_we, annot=True, cmap ='RdBu', vmin=-1, vmax=1)\n",
    "plt.title(\"Variables vs Happiness Rate (WE)\")\n",
    "plt.savefig(\"Images/correlation_we.png\")"
   ]
  },
  {
   "cell_type": "code",
   "execution_count": 31,
   "metadata": {},
   "outputs": [
    {
     "data": {
      "image/png": "[encoded data removed]",
      "text/plain": [
       "<Figure size 432x288 with 2 Axes>"
      ]
     },
     "metadata": {
      "needs_background": "light"
     },
     "output_type": "display_data"
    }
   ],
   "source": [
    "# Correlation for Latin American and Caribbean data frame\n",
    "corr_lac =lac_df.corr(method=\"pearson\", min_periods=21)\n",
    "sns.heatmap(lac_df.corr(), annot=True, cmap ='RdBu', vmin=-1, vmax=1)\n",
    "plt.title(\"Variables vs Happiness Rate (LAC)\")\n",
    "plt.savefig(\"Images/correlation_lac.png\");"
   ]
  },
  {
   "cell_type": "code",
   "execution_count": 32,
   "metadata": {},
   "outputs": [
    {
     "data": {
      "image/png": "[encoded data removed]",
      "text/plain": [
       "<Figure size 432x288 with 2 Axes>"
      ]
     },
     "metadata": {
      "needs_background": "light"
     },
     "output_type": "display_data"
    }
   ],
   "source": [
    "# Correlation for Middle East and North Africa\n",
    "corr_mena =mena_df.corr(method=\"pearson\", min_periods=17)\n",
    "sns.heatmap(corr_mena, annot=True, cmap ='RdBu', vmin=-1, vmax=1)\n",
    "plt.title(\"Variables vs Happiness Rate (MENA)\")\n",
    "plt.savefig(\"Images/correlation_mena.png\");"
   ]
  },
  {
   "cell_type": "code",
   "execution_count": 34,
   "metadata": {},
   "outputs": [
    {
     "data": {
      "image/png": "[encoded data removed]",
      "text/plain": [
       "<Figure size 432x288 with 2 Axes>"
      ]
     },
     "metadata": {
      "needs_background": "light"
     },
     "output_type": "display_data"
    }
   ],
   "source": [
    "# Correlation for Central and Eastern Europe\n",
    "corr_cee =cee_df.corr(method=\"pearson\", min_periods=17)\n",
    "sns.heatmap(corr_cee, annot=True, cmap ='RdBu', vmin=-1, vmax=1)\n",
    "plt.title(\"Variables vs Happiness Rate (CEE)\")\n",
    "plt.savefig(\"Images/correlation_cee.png\");"
   ]
  },
  {
   "cell_type": "code",
   "execution_count": 35,
   "metadata": {},
   "outputs": [
    {
     "data": {
      "image/png": "[encoded data removed]",
      "text/plain": [
       "<Figure size 432x288 with 2 Axes>"
      ]
     },
     "metadata": {
      "needs_background": "light"
     },
     "output_type": "display_data"
    }
   ],
   "source": [
    "# Correlation for North America and ANZ\n",
    "corr_na =na_df.corr(method=\"pearson\", min_periods=4)\n",
    "sns.heatmap(corr_na, annot=True, cmap ='RdBu', vmin=-1, vmax=1)\n",
    "plt.title(\"Variables vs Happiness Rate (NA)\")\n",
    "plt.savefig(\"Images/correlation_na.png\");"
   ]
  },
  {
   "cell_type": "markdown",
   "metadata": {},
   "source": [
    "### 3. How do the countries with the highest GDP compare in terms of happiness level versus the countries with the lowest GDP?"
   ]
  },
  {
   "cell_type": "markdown",
   "metadata": {},
   "source": [
    "We used a box plot to compare the happiness level of higher-GDP countries to the happiness level of lower-GDP countries. We found that countries with the highest GDP levels have a significantly higher level of happiness than countries with the lowest GDP levels. The difference was so significant that approximately 75% of countries with the lowest GDPs had happiness levels lower than what would be considered an outlier on the low side of the highest-GDP countries."
   ]
  },
  {
   "cell_type": "code",
   "execution_count": 36,
   "metadata": {},
   "outputs": [
    {
     "data": {
      "text/html": [
       "<div>\n",
       "<style scoped>\n",
       "    .dataframe tbody tr th:only-of-type {\n",
       "        vertical-align: middle;\n",
       "    }\n",
       "\n",
       "    .dataframe tbody tr th {\n",
       "        vertical-align: top;\n",
       "    }\n",
       "\n",
       "    .dataframe thead th {\n",
       "        text-align: right;\n",
       "    }\n",
       "</style>\n",
       "<table border=\"1\" class=\"dataframe\">\n",
       "  <thead>\n",
       "    <tr style=\"text-align: right;\">\n",
       "      <th></th>\n",
       "      <th>Country name</th>\n",
       "      <th>Regional indicator</th>\n",
       "      <th>Happiness Score</th>\n",
       "      <th>GDP per capita</th>\n",
       "      <th>Social support</th>\n",
       "      <th>Healthy life expectancy</th>\n",
       "      <th>Freedom to make life choices</th>\n",
       "      <th>Generosity</th>\n",
       "    </tr>\n",
       "  </thead>\n",
       "  <tbody>\n",
       "    <tr>\n",
       "      <th>9</th>\n",
       "      <td>Luxembourg</td>\n",
       "      <td>Western Europe</td>\n",
       "      <td>7.2375</td>\n",
       "      <td>11.450681</td>\n",
       "      <td>0.906912</td>\n",
       "      <td>72.599998</td>\n",
       "      <td>0.905636</td>\n",
       "      <td>-0.004621</td>\n",
       "    </tr>\n",
       "    <tr>\n",
       "      <th>15</th>\n",
       "      <td>Ireland</td>\n",
       "      <td>Western Europe</td>\n",
       "      <td>7.0937</td>\n",
       "      <td>11.160978</td>\n",
       "      <td>0.942082</td>\n",
       "      <td>72.300789</td>\n",
       "      <td>0.886983</td>\n",
       "      <td>0.145785</td>\n",
       "    </tr>\n",
       "    <tr>\n",
       "      <th>20</th>\n",
       "      <td>United Arab Emirates</td>\n",
       "      <td>Middle East and North Africa</td>\n",
       "      <td>6.7908</td>\n",
       "      <td>11.109999</td>\n",
       "      <td>0.849181</td>\n",
       "      <td>67.082787</td>\n",
       "      <td>0.941346</td>\n",
       "      <td>0.123451</td>\n",
       "    </tr>\n",
       "    <tr>\n",
       "      <th>44</th>\n",
       "      <td>Kuwait</td>\n",
       "      <td>Middle East and North Africa</td>\n",
       "      <td>6.1021</td>\n",
       "      <td>11.089825</td>\n",
       "      <td>0.846475</td>\n",
       "      <td>66.767647</td>\n",
       "      <td>0.872366</td>\n",
       "      <td>-0.100185</td>\n",
       "    </tr>\n",
       "    <tr>\n",
       "      <th>4</th>\n",
       "      <td>Norway</td>\n",
       "      <td>Western Europe</td>\n",
       "      <td>7.4880</td>\n",
       "      <td>11.087804</td>\n",
       "      <td>0.952487</td>\n",
       "      <td>73.200783</td>\n",
       "      <td>0.955750</td>\n",
       "      <td>0.134533</td>\n",
       "    </tr>\n",
       "    <tr>\n",
       "      <th>2</th>\n",
       "      <td>Switzerland</td>\n",
       "      <td>Western Europe</td>\n",
       "      <td>7.5599</td>\n",
       "      <td>10.979933</td>\n",
       "      <td>0.942847</td>\n",
       "      <td>74.102448</td>\n",
       "      <td>0.921337</td>\n",
       "      <td>0.105911</td>\n",
       "    </tr>\n",
       "    <tr>\n",
       "      <th>17</th>\n",
       "      <td>United States</td>\n",
       "      <td>North America and ANZ</td>\n",
       "      <td>6.9396</td>\n",
       "      <td>10.925769</td>\n",
       "      <td>0.914219</td>\n",
       "      <td>68.299500</td>\n",
       "      <td>0.842620</td>\n",
       "      <td>0.149892</td>\n",
       "    </tr>\n",
       "    <tr>\n",
       "      <th>5</th>\n",
       "      <td>Netherlands</td>\n",
       "      <td>Western Europe</td>\n",
       "      <td>7.4489</td>\n",
       "      <td>10.812712</td>\n",
       "      <td>0.939139</td>\n",
       "      <td>72.300919</td>\n",
       "      <td>0.908548</td>\n",
       "      <td>0.207612</td>\n",
       "    </tr>\n",
       "    <tr>\n",
       "      <th>25</th>\n",
       "      <td>Saudi Arabia</td>\n",
       "      <td>Middle East and North Africa</td>\n",
       "      <td>6.4065</td>\n",
       "      <td>10.797812</td>\n",
       "      <td>0.874067</td>\n",
       "      <td>66.305145</td>\n",
       "      <td>0.854191</td>\n",
       "      <td>-0.168695</td>\n",
       "    </tr>\n",
       "    <tr>\n",
       "      <th>1</th>\n",
       "      <td>Denmark</td>\n",
       "      <td>Western Europe</td>\n",
       "      <td>7.6456</td>\n",
       "      <td>10.774001</td>\n",
       "      <td>0.955991</td>\n",
       "      <td>72.402504</td>\n",
       "      <td>0.951444</td>\n",
       "      <td>0.066202</td>\n",
       "    </tr>\n",
       "  </tbody>\n",
       "</table>\n",
       "</div>"
      ],
      "text/plain": [
       "            Country name            Regional indicator  Happiness Score  \\\n",
       "9             Luxembourg                Western Europe           7.2375   \n",
       "15               Ireland                Western Europe           7.0937   \n",
       "20  United Arab Emirates  Middle East and North Africa           6.7908   \n",
       "44                Kuwait  Middle East and North Africa           6.1021   \n",
       "4                 Norway                Western Europe           7.4880   \n",
       "2            Switzerland                Western Europe           7.5599   \n",
       "17         United States         North America and ANZ           6.9396   \n",
       "5            Netherlands                Western Europe           7.4489   \n",
       "25          Saudi Arabia  Middle East and North Africa           6.4065   \n",
       "1                Denmark                Western Europe           7.6456   \n",
       "\n",
       "    GDP per capita  Social support  Healthy life expectancy  \\\n",
       "9        11.450681        0.906912                72.599998   \n",
       "15       11.160978        0.942082                72.300789   \n",
       "20       11.109999        0.849181                67.082787   \n",
       "44       11.089825        0.846475                66.767647   \n",
       "4        11.087804        0.952487                73.200783   \n",
       "2        10.979933        0.942847                74.102448   \n",
       "17       10.925769        0.914219                68.299500   \n",
       "5        10.812712        0.939139                72.300919   \n",
       "25       10.797812        0.874067                66.305145   \n",
       "1        10.774001        0.955991                72.402504   \n",
       "\n",
       "    Freedom to make life choices  Generosity  \n",
       "9                       0.905636   -0.004621  \n",
       "15                      0.886983    0.145785  \n",
       "20                      0.941346    0.123451  \n",
       "44                      0.872366   -0.100185  \n",
       "4                       0.955750    0.134533  \n",
       "2                       0.921337    0.105911  \n",
       "17                      0.842620    0.149892  \n",
       "5                       0.908548    0.207612  \n",
       "25                      0.854191   -0.168695  \n",
       "1                       0.951444    0.066202  "
      ]
     },
     "execution_count": 36,
     "metadata": {},
     "output_type": "execute_result"
    }
   ],
   "source": [
    "# Select ten countries with the highest GDP in all regions \n",
    "highest_gdp = region_df_2020.sort_values(\"GDP per capita\", ascending=False)\n",
    "highest_gdp = highest_gdp.head(10)\n",
    "highest_gdp"
   ]
  },
  {
   "cell_type": "code",
   "execution_count": 37,
   "metadata": {},
   "outputs": [
    {
     "data": {
      "text/html": [
       "<div>\n",
       "<style scoped>\n",
       "    .dataframe tbody tr th:only-of-type {\n",
       "        vertical-align: middle;\n",
       "    }\n",
       "\n",
       "    .dataframe tbody tr th {\n",
       "        vertical-align: top;\n",
       "    }\n",
       "\n",
       "    .dataframe thead th {\n",
       "        text-align: right;\n",
       "    }\n",
       "</style>\n",
       "<table border=\"1\" class=\"dataframe\">\n",
       "  <thead>\n",
       "    <tr style=\"text-align: right;\">\n",
       "      <th></th>\n",
       "      <th>Country name</th>\n",
       "      <th>Regional indicator</th>\n",
       "      <th>Happiness Score</th>\n",
       "      <th>GDP per capita</th>\n",
       "      <th>Social support</th>\n",
       "      <th>Healthy life expectancy</th>\n",
       "      <th>Freedom to make life choices</th>\n",
       "      <th>Generosity</th>\n",
       "    </tr>\n",
       "  </thead>\n",
       "  <tbody>\n",
       "    <tr>\n",
       "      <th>78</th>\n",
       "      <td>Haiti</td>\n",
       "      <td>Latin America and Caribbean</td>\n",
       "      <td>3.7208</td>\n",
       "      <td>7.411329</td>\n",
       "      <td>0.593248</td>\n",
       "      <td>55.598625</td>\n",
       "      <td>0.537825</td>\n",
       "      <td>0.400535</td>\n",
       "    </tr>\n",
       "    <tr>\n",
       "      <th>79</th>\n",
       "      <td>Yemen</td>\n",
       "      <td>Middle East and North Africa</td>\n",
       "      <td>3.5274</td>\n",
       "      <td>7.759683</td>\n",
       "      <td>0.817981</td>\n",
       "      <td>56.727283</td>\n",
       "      <td>0.599920</td>\n",
       "      <td>-0.157735</td>\n",
       "    </tr>\n",
       "    <tr>\n",
       "      <th>75</th>\n",
       "      <td>Palestinian Territories</td>\n",
       "      <td>Middle East and North Africa</td>\n",
       "      <td>4.5528</td>\n",
       "      <td>8.389223</td>\n",
       "      <td>0.825296</td>\n",
       "      <td>62.250000</td>\n",
       "      <td>0.645792</td>\n",
       "      <td>-0.162079</td>\n",
       "    </tr>\n",
       "    <tr>\n",
       "      <th>48</th>\n",
       "      <td>Honduras</td>\n",
       "      <td>Latin America and Caribbean</td>\n",
       "      <td>5.9532</td>\n",
       "      <td>8.424535</td>\n",
       "      <td>0.821870</td>\n",
       "      <td>67.198769</td>\n",
       "      <td>0.870603</td>\n",
       "      <td>0.086969</td>\n",
       "    </tr>\n",
       "    <tr>\n",
       "      <th>42</th>\n",
       "      <td>Nicaragua</td>\n",
       "      <td>Latin America and Caribbean</td>\n",
       "      <td>6.1371</td>\n",
       "      <td>8.493160</td>\n",
       "      <td>0.857497</td>\n",
       "      <td>67.507179</td>\n",
       "      <td>0.863903</td>\n",
       "      <td>0.020959</td>\n",
       "    </tr>\n",
       "    <tr>\n",
       "      <th>55</th>\n",
       "      <td>Bolivia</td>\n",
       "      <td>Latin America and Caribbean</td>\n",
       "      <td>5.7475</td>\n",
       "      <td>8.851115</td>\n",
       "      <td>0.803109</td>\n",
       "      <td>63.600471</td>\n",
       "      <td>0.875873</td>\n",
       "      <td>-0.091681</td>\n",
       "    </tr>\n",
       "    <tr>\n",
       "      <th>31</th>\n",
       "      <td>El Salvador</td>\n",
       "      <td>Latin America and Caribbean</td>\n",
       "      <td>6.3483</td>\n",
       "      <td>8.909076</td>\n",
       "      <td>0.806092</td>\n",
       "      <td>66.108261</td>\n",
       "      <td>0.833805</td>\n",
       "      <td>-0.121073</td>\n",
       "    </tr>\n",
       "    <tr>\n",
       "      <th>27</th>\n",
       "      <td>Guatemala</td>\n",
       "      <td>Latin America and Caribbean</td>\n",
       "      <td>6.3989</td>\n",
       "      <td>8.924806</td>\n",
       "      <td>0.816621</td>\n",
       "      <td>64.808945</td>\n",
       "      <td>0.908148</td>\n",
       "      <td>-0.042939</td>\n",
       "    </tr>\n",
       "    <tr>\n",
       "      <th>67</th>\n",
       "      <td>Morocco</td>\n",
       "      <td>Middle East and North Africa</td>\n",
       "      <td>5.0948</td>\n",
       "      <td>8.940313</td>\n",
       "      <td>0.592628</td>\n",
       "      <td>65.896240</td>\n",
       "      <td>0.772072</td>\n",
       "      <td>-0.240377</td>\n",
       "    </tr>\n",
       "    <tr>\n",
       "      <th>68</th>\n",
       "      <td>Venezuela</td>\n",
       "      <td>Latin America and Caribbean</td>\n",
       "      <td>5.0532</td>\n",
       "      <td>8.977794</td>\n",
       "      <td>0.890408</td>\n",
       "      <td>66.505341</td>\n",
       "      <td>0.623278</td>\n",
       "      <td>-0.169091</td>\n",
       "    </tr>\n",
       "  </tbody>\n",
       "</table>\n",
       "</div>"
      ],
      "text/plain": [
       "               Country name            Regional indicator  Happiness Score  \\\n",
       "78                    Haiti   Latin America and Caribbean           3.7208   \n",
       "79                    Yemen  Middle East and North Africa           3.5274   \n",
       "75  Palestinian Territories  Middle East and North Africa           4.5528   \n",
       "48                 Honduras   Latin America and Caribbean           5.9532   \n",
       "42                Nicaragua   Latin America and Caribbean           6.1371   \n",
       "55                  Bolivia   Latin America and Caribbean           5.7475   \n",
       "31              El Salvador   Latin America and Caribbean           6.3483   \n",
       "27                Guatemala   Latin America and Caribbean           6.3989   \n",
       "67                  Morocco  Middle East and North Africa           5.0948   \n",
       "68                Venezuela   Latin America and Caribbean           5.0532   \n",
       "\n",
       "    GDP per capita  Social support  Healthy life expectancy  \\\n",
       "78        7.411329        0.593248                55.598625   \n",
       "79        7.759683        0.817981                56.727283   \n",
       "75        8.389223        0.825296                62.250000   \n",
       "48        8.424535        0.821870                67.198769   \n",
       "42        8.493160        0.857497                67.507179   \n",
       "55        8.851115        0.803109                63.600471   \n",
       "31        8.909076        0.806092                66.108261   \n",
       "27        8.924806        0.816621                64.808945   \n",
       "67        8.940313        0.592628                65.896240   \n",
       "68        8.977794        0.890408                66.505341   \n",
       "\n",
       "    Freedom to make life choices  Generosity  \n",
       "78                      0.537825    0.400535  \n",
       "79                      0.599920   -0.157735  \n",
       "75                      0.645792   -0.162079  \n",
       "48                      0.870603    0.086969  \n",
       "42                      0.863903    0.020959  \n",
       "55                      0.875873   -0.091681  \n",
       "31                      0.833805   -0.121073  \n",
       "27                      0.908148   -0.042939  \n",
       "67                      0.772072   -0.240377  \n",
       "68                      0.623278   -0.169091  "
      ]
     },
     "execution_count": 37,
     "metadata": {},
     "output_type": "execute_result"
    }
   ],
   "source": [
    "# Select ten countries with the lowest GDP in all regions \n",
    "lowest_gdp = region_df_2020.sort_values(\"GDP per capita\")\n",
    "lowest_gdp = lowest_gdp.head(10)\n",
    "lowest_gdp"
   ]
  },
  {
   "cell_type": "code",
   "execution_count": 38,
   "metadata": {
    "scrolled": true
   },
   "outputs": [
    {
     "data": {
      "image/png": "[encoded data removed]",
      "text/plain": [
       "<Figure size 360x360 with 2 Axes>"
      ]
     },
     "metadata": {
      "needs_background": "light"
     },
     "output_type": "display_data"
    }
   ],
   "source": [
    "# Plot the results in the same chart\n",
    "f,ax = plt.subplots(1, 2, sharey=True, figsize=(5, 5))\n",
    "ax[0].boxplot(highest_gdp[\"Happiness Score\"], labels=[\"Countries with High GDP\"])\n",
    "ax[1].boxplot(lowest_gdp[\"Happiness Score\"], labels=[\"Countries with Low GDP\"])\n",
    "ax[0].grid()\n",
    "ax[1].grid()\n",
    "f.suptitle(\"High GDP vs Low GDP\")\n",
    "plt.savefig(\"Images/high_gdp_low_gdp.png\");"
   ]
  },
  {
   "cell_type": "markdown",
   "metadata": {},
   "source": [
    "### 4. What portion of high-GDP countries have low happiness levels?"
   ]
  },
  {
   "cell_type": "markdown",
   "metadata": {},
   "source": [
    "We used a pie chart to visualize the percentage of high-GDP countries with low happiness levels. We found that out of all of the countries listed, only 10% of them had both high-GDP and low happiness. Out of the high-GDP countries, only 18% had low happiness levels. Only eight countries with high GDP are considered low-happiness countries.\n"
   ]
  },
  {
   "cell_type": "markdown",
   "metadata": {},
   "source": [
    "Note: \n",
    "- Countries with a GDP under the average, will be considered low-GDP countries. \n",
    "- Countries with a happiness score under the average, will be considered low-happiness countries. "
   ]
  },
  {
   "cell_type": "code",
   "execution_count": 39,
   "metadata": {},
   "outputs": [],
   "source": [
    "# Stablish a dinamic mean for GPD\n",
    "mean_gdp = region_df_2020['GDP per capita'].mean()"
   ]
  },
  {
   "cell_type": "code",
   "execution_count": 40,
   "metadata": {},
   "outputs": [],
   "source": [
    "# Stablish a dinamic mean for happiness rate\n",
    "mean_happiness = region_df_2020['Happiness Score'].mean()"
   ]
  },
  {
   "cell_type": "code",
   "execution_count": 41,
   "metadata": {},
   "outputs": [
    {
     "data": {
      "text/html": [
       "<div>\n",
       "<style scoped>\n",
       "    .dataframe tbody tr th:only-of-type {\n",
       "        vertical-align: middle;\n",
       "    }\n",
       "\n",
       "    .dataframe tbody tr th {\n",
       "        vertical-align: top;\n",
       "    }\n",
       "\n",
       "    .dataframe thead th {\n",
       "        text-align: right;\n",
       "    }\n",
       "</style>\n",
       "<table border=\"1\" class=\"dataframe\">\n",
       "  <thead>\n",
       "    <tr style=\"text-align: right;\">\n",
       "      <th></th>\n",
       "      <th>Country name</th>\n",
       "      <th>Regional indicator</th>\n",
       "      <th>Happiness Score</th>\n",
       "      <th>GDP per capita</th>\n",
       "      <th>Social support</th>\n",
       "      <th>Healthy life expectancy</th>\n",
       "      <th>Freedom to make life choices</th>\n",
       "      <th>Generosity</th>\n",
       "    </tr>\n",
       "  </thead>\n",
       "  <tbody>\n",
       "    <tr>\n",
       "      <th>45</th>\n",
       "      <td>Estonia</td>\n",
       "      <td>Central and Eastern Europe</td>\n",
       "      <td>6.0218</td>\n",
       "      <td>10.340017</td>\n",
       "      <td>0.934730</td>\n",
       "      <td>68.604958</td>\n",
       "      <td>0.877709</td>\n",
       "      <td>-0.111698</td>\n",
       "    </tr>\n",
       "    <tr>\n",
       "      <th>46</th>\n",
       "      <td>Hungary</td>\n",
       "      <td>Central and Eastern Europe</td>\n",
       "      <td>6.0004</td>\n",
       "      <td>10.249244</td>\n",
       "      <td>0.921934</td>\n",
       "      <td>67.609970</td>\n",
       "      <td>0.718965</td>\n",
       "      <td>-0.194323</td>\n",
       "    </tr>\n",
       "    <tr>\n",
       "      <th>49</th>\n",
       "      <td>Latvia</td>\n",
       "      <td>Central and Eastern Europe</td>\n",
       "      <td>5.9500</td>\n",
       "      <td>10.175320</td>\n",
       "      <td>0.918289</td>\n",
       "      <td>66.807465</td>\n",
       "      <td>0.671238</td>\n",
       "      <td>-0.186889</td>\n",
       "    </tr>\n",
       "    <tr>\n",
       "      <th>51</th>\n",
       "      <td>Portugal</td>\n",
       "      <td>Western Europe</td>\n",
       "      <td>5.9109</td>\n",
       "      <td>10.263742</td>\n",
       "      <td>0.886591</td>\n",
       "      <td>72.402023</td>\n",
       "      <td>0.888748</td>\n",
       "      <td>-0.220714</td>\n",
       "    </tr>\n",
       "    <tr>\n",
       "      <th>60</th>\n",
       "      <td>North Cyprus</td>\n",
       "      <td>Western Europe</td>\n",
       "      <td>5.5355</td>\n",
       "      <td>10.405703</td>\n",
       "      <td>0.820357</td>\n",
       "      <td>73.702225</td>\n",
       "      <td>0.795294</td>\n",
       "      <td>0.000227</td>\n",
       "    </tr>\n",
       "    <tr>\n",
       "      <th>61</th>\n",
       "      <td>Greece</td>\n",
       "      <td>Western Europe</td>\n",
       "      <td>5.5150</td>\n",
       "      <td>10.132326</td>\n",
       "      <td>0.814380</td>\n",
       "      <td>72.405258</td>\n",
       "      <td>0.541345</td>\n",
       "      <td>-0.300907</td>\n",
       "    </tr>\n",
       "    <tr>\n",
       "      <th>62</th>\n",
       "      <td>Croatia</td>\n",
       "      <td>Central and Eastern Europe</td>\n",
       "      <td>5.5047</td>\n",
       "      <td>10.070875</td>\n",
       "      <td>0.874624</td>\n",
       "      <td>70.214905</td>\n",
       "      <td>0.714839</td>\n",
       "      <td>-0.128538</td>\n",
       "    </tr>\n",
       "    <tr>\n",
       "      <th>65</th>\n",
       "      <td>Turkey</td>\n",
       "      <td>Middle East and North Africa</td>\n",
       "      <td>5.1318</td>\n",
       "      <td>10.129419</td>\n",
       "      <td>0.826314</td>\n",
       "      <td>66.902817</td>\n",
       "      <td>0.608830</td>\n",
       "      <td>-0.171046</td>\n",
       "    </tr>\n",
       "  </tbody>\n",
       "</table>\n",
       "</div>"
      ],
      "text/plain": [
       "    Country name            Regional indicator  Happiness Score  \\\n",
       "45       Estonia    Central and Eastern Europe           6.0218   \n",
       "46       Hungary    Central and Eastern Europe           6.0004   \n",
       "49        Latvia    Central and Eastern Europe           5.9500   \n",
       "51      Portugal                Western Europe           5.9109   \n",
       "60  North Cyprus                Western Europe           5.5355   \n",
       "61        Greece                Western Europe           5.5150   \n",
       "62       Croatia    Central and Eastern Europe           5.5047   \n",
       "65        Turkey  Middle East and North Africa           5.1318   \n",
       "\n",
       "    GDP per capita  Social support  Healthy life expectancy  \\\n",
       "45       10.340017        0.934730                68.604958   \n",
       "46       10.249244        0.921934                67.609970   \n",
       "49       10.175320        0.918289                66.807465   \n",
       "51       10.263742        0.886591                72.402023   \n",
       "60       10.405703        0.820357                73.702225   \n",
       "61       10.132326        0.814380                72.405258   \n",
       "62       10.070875        0.874624                70.214905   \n",
       "65       10.129419        0.826314                66.902817   \n",
       "\n",
       "    Freedom to make life choices  Generosity  \n",
       "45                      0.877709   -0.111698  \n",
       "46                      0.718965   -0.194323  \n",
       "49                      0.671238   -0.186889  \n",
       "51                      0.888748   -0.220714  \n",
       "60                      0.795294    0.000227  \n",
       "61                      0.541345   -0.300907  \n",
       "62                      0.714839   -0.128538  \n",
       "65                      0.608830   -0.171046  "
      ]
     },
     "execution_count": 41,
     "metadata": {},
     "output_type": "execute_result"
    }
   ],
   "source": [
    "# Filter the countries which have a high GPD but low Happiness Score\n",
    "question_4 = region_df_2020.loc[(region_df_2020['GDP per capita']>=mean_gdp) & (region_df_2020['Happiness Score']<mean_happiness)]\n",
    "question_4"
   ]
  },
  {
   "cell_type": "code",
   "execution_count": 42,
   "metadata": {},
   "outputs": [
    {
     "data": {
      "image/png": "[encoded data removed]",
      "text/plain": [
       "<Figure size 504x504 with 1 Axes>"
      ]
     },
     "metadata": {},
     "output_type": "display_data"
    }
   ],
   "source": [
    "# High GDP countries with low happiness levels\n",
    "\n",
    "ru_region_group = question_4.groupby(\"Regional indicator\")\n",
    "ru_region_distribution = ru_region_group[\"Regional indicator\"].count()\n",
    "colors=('khaki', 'darkkhaki', 'beige')\n",
    "reach_unhappy_countries_pie = ru_region_distribution.plot(kind=\"pie\",autopct='%1.1f%%', colors=colors, figsize=(7, 7))\n",
    "reach_unhappy_countries_pie.set_title('High GDP countries with low happiness levels', fontsize=20)\n",
    "reach_unhappy_countries_pie.set_ylabel(\"\")\n",
    "plt.savefig(\"Images/question_4.png\");"
   ]
  },
  {
   "cell_type": "code",
   "execution_count": 43,
   "metadata": {},
   "outputs": [
    {
     "name": "stdout",
     "output_type": "stream",
     "text": [
      "10.0% of the total countries have high GDP have low happiness levels\n"
     ]
    }
   ],
   "source": [
    "# Calculate the % of High GDP countries with low happiness levels\n",
    "\n",
    "proportion_ru_countries = (question_4[\"Country name\"].count() / region_df_2020[\"Country name\"].count() ) * 100\n",
    "print(f\"{proportion_ru_countries}% of the total countries have high GDP have low happiness levels\")"
   ]
  },
  {
   "cell_type": "code",
   "execution_count": 44,
   "metadata": {},
   "outputs": [],
   "source": [
    "# Countries with high GDP\n",
    "question_4_rc = region_df_2020.loc[(region_df_2020['GDP per capita']>=mean_gdp)]"
   ]
  },
  {
   "cell_type": "code",
   "execution_count": 45,
   "metadata": {},
   "outputs": [
    {
     "name": "stdout",
     "output_type": "stream",
     "text": [
      "18.18% of the countries with high GDP have low happiness levels\n"
     ]
    }
   ],
   "source": [
    "# What percentage of the total high-GDP countries have low happiness levels?\n",
    "proportion_countries_rc = round(((question_4[\"Country name\"].count() / question_4_rc[\"Country name\"].count() ) * 100),2)\n",
    "print(f\"{proportion_countries_rc}% of the countries with high GDP have low happiness levels\")\n"
   ]
  },
  {
   "cell_type": "markdown",
   "metadata": {},
   "source": [
    "### 5.  What portion of low-GDP countries have high happiness levels?"
   ]
  },
  {
   "cell_type": "markdown",
   "metadata": {},
   "source": [
    "We decided to use a pie chart to visualize the percentage of low-GDP countries with high happiness levels. We found that 25% of the total countries with low GDP have high happiness levels. We also found that out of all countries listed, only 11% fit the criteria of being low-GDP countries with high happiness levels."
   ]
  },
  {
   "cell_type": "code",
   "execution_count": 46,
   "metadata": {},
   "outputs": [
    {
     "data": {
      "text/html": [
       "<div>\n",
       "<style scoped>\n",
       "    .dataframe tbody tr th:only-of-type {\n",
       "        vertical-align: middle;\n",
       "    }\n",
       "\n",
       "    .dataframe tbody tr th {\n",
       "        vertical-align: top;\n",
       "    }\n",
       "\n",
       "    .dataframe thead th {\n",
       "        text-align: right;\n",
       "    }\n",
       "</style>\n",
       "<table border=\"1\" class=\"dataframe\">\n",
       "  <thead>\n",
       "    <tr style=\"text-align: right;\">\n",
       "      <th></th>\n",
       "      <th>Country name</th>\n",
       "      <th>Regional indicator</th>\n",
       "      <th>Happiness Score</th>\n",
       "      <th>GDP per capita</th>\n",
       "      <th>Social support</th>\n",
       "      <th>Healthy life expectancy</th>\n",
       "      <th>Freedom to make life choices</th>\n",
       "      <th>Generosity</th>\n",
       "    </tr>\n",
       "  </thead>\n",
       "  <tbody>\n",
       "    <tr>\n",
       "      <th>14</th>\n",
       "      <td>Costa Rica</td>\n",
       "      <td>Latin America and Caribbean</td>\n",
       "      <td>7.1214</td>\n",
       "      <td>9.658156</td>\n",
       "      <td>0.901546</td>\n",
       "      <td>71.299850</td>\n",
       "      <td>0.934739</td>\n",
       "      <td>-0.102430</td>\n",
       "    </tr>\n",
       "    <tr>\n",
       "      <th>23</th>\n",
       "      <td>Mexico</td>\n",
       "      <td>Latin America and Caribbean</td>\n",
       "      <td>6.4650</td>\n",
       "      <td>9.797797</td>\n",
       "      <td>0.838665</td>\n",
       "      <td>68.299026</td>\n",
       "      <td>0.858709</td>\n",
       "      <td>-0.175267</td>\n",
       "    </tr>\n",
       "    <tr>\n",
       "      <th>24</th>\n",
       "      <td>Uruguay</td>\n",
       "      <td>Latin America and Caribbean</td>\n",
       "      <td>6.4401</td>\n",
       "      <td>9.948193</td>\n",
       "      <td>0.922811</td>\n",
       "      <td>69.002548</td>\n",
       "      <td>0.892395</td>\n",
       "      <td>-0.101103</td>\n",
       "    </tr>\n",
       "    <tr>\n",
       "      <th>27</th>\n",
       "      <td>Guatemala</td>\n",
       "      <td>Latin America and Caribbean</td>\n",
       "      <td>6.3989</td>\n",
       "      <td>8.924806</td>\n",
       "      <td>0.816621</td>\n",
       "      <td>64.808945</td>\n",
       "      <td>0.908148</td>\n",
       "      <td>-0.042939</td>\n",
       "    </tr>\n",
       "    <tr>\n",
       "      <th>29</th>\n",
       "      <td>Brazil</td>\n",
       "      <td>Latin America and Caribbean</td>\n",
       "      <td>6.3756</td>\n",
       "      <td>9.566435</td>\n",
       "      <td>0.896724</td>\n",
       "      <td>66.480164</td>\n",
       "      <td>0.799805</td>\n",
       "      <td>-0.101812</td>\n",
       "    </tr>\n",
       "    <tr>\n",
       "      <th>31</th>\n",
       "      <td>El Salvador</td>\n",
       "      <td>Latin America and Caribbean</td>\n",
       "      <td>6.3483</td>\n",
       "      <td>8.909076</td>\n",
       "      <td>0.806092</td>\n",
       "      <td>66.108261</td>\n",
       "      <td>0.833805</td>\n",
       "      <td>-0.121073</td>\n",
       "    </tr>\n",
       "    <tr>\n",
       "      <th>32</th>\n",
       "      <td>Kosovo</td>\n",
       "      <td>Central and Eastern Europe</td>\n",
       "      <td>6.3252</td>\n",
       "      <td>9.204430</td>\n",
       "      <td>0.820727</td>\n",
       "      <td>63.885555</td>\n",
       "      <td>0.861536</td>\n",
       "      <td>0.190934</td>\n",
       "    </tr>\n",
       "    <tr>\n",
       "      <th>40</th>\n",
       "      <td>Colombia</td>\n",
       "      <td>Latin America and Caribbean</td>\n",
       "      <td>6.1634</td>\n",
       "      <td>9.500369</td>\n",
       "      <td>0.884440</td>\n",
       "      <td>67.699585</td>\n",
       "      <td>0.836180</td>\n",
       "      <td>-0.161236</td>\n",
       "    </tr>\n",
       "    <tr>\n",
       "      <th>42</th>\n",
       "      <td>Nicaragua</td>\n",
       "      <td>Latin America and Caribbean</td>\n",
       "      <td>6.1371</td>\n",
       "      <td>8.493160</td>\n",
       "      <td>0.857497</td>\n",
       "      <td>67.507179</td>\n",
       "      <td>0.863903</td>\n",
       "      <td>0.020959</td>\n",
       "    </tr>\n",
       "  </tbody>\n",
       "</table>\n",
       "</div>"
      ],
      "text/plain": [
       "   Country name           Regional indicator  Happiness Score  GDP per capita  \\\n",
       "14   Costa Rica  Latin America and Caribbean           7.1214        9.658156   \n",
       "23       Mexico  Latin America and Caribbean           6.4650        9.797797   \n",
       "24      Uruguay  Latin America and Caribbean           6.4401        9.948193   \n",
       "27    Guatemala  Latin America and Caribbean           6.3989        8.924806   \n",
       "29       Brazil  Latin America and Caribbean           6.3756        9.566435   \n",
       "31  El Salvador  Latin America and Caribbean           6.3483        8.909076   \n",
       "32       Kosovo   Central and Eastern Europe           6.3252        9.204430   \n",
       "40     Colombia  Latin America and Caribbean           6.1634        9.500369   \n",
       "42    Nicaragua  Latin America and Caribbean           6.1371        8.493160   \n",
       "\n",
       "    Social support  Healthy life expectancy  Freedom to make life choices  \\\n",
       "14        0.901546                71.299850                      0.934739   \n",
       "23        0.838665                68.299026                      0.858709   \n",
       "24        0.922811                69.002548                      0.892395   \n",
       "27        0.816621                64.808945                      0.908148   \n",
       "29        0.896724                66.480164                      0.799805   \n",
       "31        0.806092                66.108261                      0.833805   \n",
       "32        0.820727                63.885555                      0.861536   \n",
       "40        0.884440                67.699585                      0.836180   \n",
       "42        0.857497                67.507179                      0.863903   \n",
       "\n",
       "    Generosity  \n",
       "14   -0.102430  \n",
       "23   -0.175267  \n",
       "24   -0.101103  \n",
       "27   -0.042939  \n",
       "29   -0.101812  \n",
       "31   -0.121073  \n",
       "32    0.190934  \n",
       "40   -0.161236  \n",
       "42    0.020959  "
      ]
     },
     "execution_count": 46,
     "metadata": {},
     "output_type": "execute_result"
    }
   ],
   "source": [
    "# Filter the countries which have a low GPD but high Happiness Score\n",
    "\n",
    "question_5 = region_df_2020.loc[(region_df_2020['GDP per capita']<mean_gdp) & (region_df_2020['Happiness Score']>=mean_happiness)]\n",
    "question_5"
   ]
  },
  {
   "cell_type": "code",
   "execution_count": 47,
   "metadata": {},
   "outputs": [],
   "source": [
    "# Countries with low GDP\n",
    "question_5_pc = region_df_2020.loc[(region_df_2020['GDP per capita']<mean_gdp)]"
   ]
  },
  {
   "cell_type": "code",
   "execution_count": 48,
   "metadata": {},
   "outputs": [
    {
     "name": "stdout",
     "output_type": "stream",
     "text": [
      "25.0% of the total countries with low GDP have high happiness levels\n"
     ]
    }
   ],
   "source": [
    "# What percentage of the total low-GDP countries have high happiness levels?\n",
    "proportion_countries_pc = (question_5[\"Country name\"].count() / question_5_pc[\"Country name\"].count() ) * 100\n",
    "print(f\"{proportion_countries_pc}% of the total countries with low GDP have high happiness levels\")"
   ]
  },
  {
   "cell_type": "code",
   "execution_count": 52,
   "metadata": {},
   "outputs": [
    {
     "data": {
      "image/png": "[encoded data removed]",
      "text/plain": [
       "<Figure size 504x504 with 1 Axes>"
      ]
     },
     "metadata": {},
     "output_type": "display_data"
    }
   ],
   "source": [
    "# Low-GDP countries with high happiness levels\n",
    "ph_region_group = question_5.groupby(\"Regional indicator\")\n",
    "ph_region_distribution = ph_region_group[\"Regional indicator\"].count()\n",
    "colors=('gold', 'orange')\n",
    "poor_happy_countries_pie = ph_region_distribution.plot(kind=\"pie\", autopct='%1.1f%%', colors=colors, figsize=(7, 7))\n",
    "poor_happy_countries_pie.set_title('Low-GDP countries with high happiness levels', fontsize=20)\n",
    "poor_happy_countries_pie.set_ylabel(\"\")\n",
    "plt.savefig(\"Images/question_5.png\");"
   ]
  },
  {
   "cell_type": "code",
   "execution_count": 53,
   "metadata": {},
   "outputs": [
    {
     "name": "stdout",
     "output_type": "stream",
     "text": [
      "11.25% of low-GDP countries have high happiness levels.\n"
     ]
    }
   ],
   "source": [
    "# Calculate the % of Low-GDP countries with have high happiness levels\n",
    "proportion_ph_countries = (question_5[\"Country name\"].count() / region_df_2020[\"Country name\"].count() ) * 100\n",
    "print(f\"{proportion_ph_countries}% of low-GDP countries have high happiness levels.\")"
   ]
  },
  {
   "cell_type": "markdown",
   "metadata": {},
   "source": [
    "### GDP Per Capita"
   ]
  },
  {
   "cell_type": "markdown",
   "metadata": {},
   "source": [
    "To understand the differences in GDP for different regions, we started by doing two independent t-test. \n",
    "\n",
    "Our first t-test is between Western Europe versus Latin America and Caribbean. According to our results, the 21 countries in Western Europe (M =10.688, SD =0.306) compared to 21 countries in Latin America and Caribbean (M = 9.303, SD = 0.671) demonstrated significantly higher Happiness scores, t(40) = 8.607, p  <0.001).\n",
    "\n",
    "Our other t-test is between Middle East and North Africa versus Central and Eastern Europe. According to the data, the 17 countries in Middle East and North Africa (M = 9.714, SD =0.927) are not demonstrating significantly different happiness scores, t(40) = 1.0712, p = 0.292 when compared to the 17 countries in Central and Eastern Europe (M = 9.998, SD = 0.397).\n",
    "\n",
    "A one-way ANOVA was conducted to compare GDP Per Capita in Western Europe, Latin America and Caribbean, Middle East and North Africa, Central and Eastern Europe, and North America and ANZ. We found a significant difference in mean GDP (F(4,86)=15.763, p < 0.001) between the regions."
   ]
  },
  {
   "cell_type": "markdown",
   "metadata": {},
   "source": [
    "#### **Independent T-test**"
   ]
  },
  {
   "cell_type": "code",
   "execution_count": 54,
   "metadata": {},
   "outputs": [
    {
     "data": {
      "text/plain": [
       "Ttest_indResult(statistic=8.607583083234514, pvalue=1.2098422060648664e-10)"
      ]
     },
     "execution_count": 54,
     "metadata": {},
     "output_type": "execute_result"
    }
   ],
   "source": [
    "#Independent t-test - GPD (WE vs LAC)\n",
    "g1 = region_df_2020[region_df_2020['Regional indicator'] == 'Western Europe'][\"GDP per capita\"]\n",
    "g2 = region_df_2020[region_df_2020['Regional indicator'] == 'Latin America and Caribbean'][\"GDP per capita\"]\n",
    "stats.ttest_ind(g1,g2)"
   ]
  },
  {
   "cell_type": "code",
   "execution_count": 55,
   "metadata": {},
   "outputs": [
    {
     "data": {
      "text/plain": [
       "Ttest_indResult(statistic=1.0712632140461713, pvalue=0.2920645407772715)"
      ]
     },
     "execution_count": 55,
     "metadata": {},
     "output_type": "execute_result"
    }
   ],
   "source": [
    "#Independent t-test - GPD (CEE vs MENA)\n",
    "g3 = region_df_2020[region_df_2020['Regional indicator'] == 'Central and Eastern Europe'][\"GDP per capita\"]\n",
    "g4 = region_df_2020[region_df_2020['Regional indicator'] == 'Middle East and North Africa'][\"GDP per capita\"]\n",
    "stats.ttest_ind(g3,g4)"
   ]
  },
  {
   "cell_type": "markdown",
   "metadata": {},
   "source": [
    "### ANOVA"
   ]
  },
  {
   "cell_type": "code",
   "execution_count": 56,
   "metadata": {},
   "outputs": [
    {
     "data": {
      "image/png": "[encoded data removed]",
      "text/plain": [
       "<Figure size 1440x720 with 1 Axes>"
      ]
     },
     "metadata": {
      "needs_background": "light"
     },
     "output_type": "display_data"
    }
   ],
   "source": [
    "# Create a boxplot to compare means - GDP \n",
    "boxprops = dict(linestyle='-', linewidth=3)\n",
    "flierprops = dict(marker='o', markerfacecolor='silver', markersize=15,\n",
    "                  linestyle='none')\n",
    "medianprops = dict(linestyle='-', linewidth=2.5)\n",
    "whiskerprops=dict(linestyle='-', linewidth=2)\n",
    "capprops=dict(linestyle='-', linewidth=2)\n",
    "color=dict(boxes='black', whiskers='black', medians='lime', caps='black')\n",
    "region_GDP = region_df_2020.boxplot(\"GDP per capita\", by=\"Regional indicator\", figsize=(20, 10), fontsize=13,\n",
    "                                             boxprops=boxprops, flierprops=flierprops, medianprops=medianprops, whiskerprops=whiskerprops,\n",
    "                                            capprops=capprops, color=color)\n",
    "region_GDP.set_title('GDP per Capita', fontsize=20)\n",
    "plt.savefig(\"Images/gdp_by_region.png\");"
   ]
  },
  {
   "cell_type": "code",
   "execution_count": 57,
   "metadata": {},
   "outputs": [],
   "source": [
    "# Extract individual groups - Happiness Score\n",
    "group1 = region_df_2020[region_df_2020['Regional indicator'] == 'Western Europe'][\"Happiness Score\"]\n",
    "group2 = region_df_2020[region_df_2020['Regional indicator'] == 'Latin America and Caribbean'][\"Happiness Score\"]\n",
    "group3 = region_df_2020[region_df_2020['Regional indicator'] == 'Central and Eastern Europe'][\"Happiness Score\"]\n",
    "group4 = region_df_2020[region_df_2020['Regional indicator'] == 'Middle East and North Africa'][\"Happiness Score\"]\n",
    "group5 = region_df_2020[region_df_2020['Regional indicator'] == 'North America and ANZ'][\"Happiness Score\"]"
   ]
  },
  {
   "cell_type": "code",
   "execution_count": 58,
   "metadata": {},
   "outputs": [
    {
     "data": {
      "text/plain": [
       "F_onewayResult(statistic=15.763410271316431, pvalue=2.095752329095272e-09)"
      ]
     },
     "execution_count": 58,
     "metadata": {},
     "output_type": "execute_result"
    }
   ],
   "source": [
    "# ANOVA\n",
    "stats.f_oneway(group1, group2, group3,group4,group5)"
   ]
  },
  {
   "cell_type": "markdown",
   "metadata": {},
   "source": [
    "### Happiness Score"
   ]
  },
  {
   "cell_type": "markdown",
   "metadata": {},
   "source": [
    "Similarly, to understand the differences in happiness score for different regions, we first conducted two independent t-tests. \n",
    "\n",
    "The first t-test is between Western Europe versus Latin America and Caribbean. According to our results, the 21 countries in Western Europe (M =6.899, SD =0.683) demonstrated significantly higher happiness scores, t(40)= 4.425, p = 0.0000724 (<0.05) when compared to 21 countries in Latin America and Caribbean (M = 5.982, SD = 0.660).\n",
    "\n",
    "Our other t-test is between Middle East and North Africa versus Central and Eastern Europe. According to the output, the 17 countries in Middle East and North Africa (M = 5.227, SD =0.988) demonstrated significantly lower happiness scores, t(40) = 2.421, p = .0213 (<0.05) when compared to 17 countries in Central and Eastern Europe (M = 5.884, SD = 0.523).\n",
    "\n",
    "Our t-tests gave us some insights in the systematic difference in two groups; it is beneficial to further compare if significant differences in happiness score exists in all five regions. A one-way ANOVA was conducted to compare happiness scores in Western Europe, Latin America and Caribbean, Middle East and North Africa, Central and Eastern Europe, and finally North America and ANZ. We found a significant difference in mean happiness scores based on region memberships, F(4,86) = 15.7634, p value=0.000000002095 (<.05). While ANOVA tests answer whether all group means are the same, we conducted a post hoc test to find out where the differences are. We used \n",
    "t-tests with an adjustment to account for testing multiple times, which is available in the package “scikit_posthocs”. As shown in the table of p values below, there are group differences where the p value is less than 0.05. "
   ]
  },
  {
   "cell_type": "markdown",
   "metadata": {},
   "source": [
    "### **Independent T-test**"
   ]
  },
  {
   "cell_type": "code",
   "execution_count": 60,
   "metadata": {},
   "outputs": [
    {
     "data": {
      "text/plain": [
       "Ttest_indResult(statistic=4.4250908280324674, pvalue=7.23946909272924e-05)"
      ]
     },
     "execution_count": 60,
     "metadata": {},
     "output_type": "execute_result"
    }
   ],
   "source": [
    "#Independent t-test - Happiness (WE vs LAC)\n",
    "g1 = region_df_2020[region_df_2020['Regional indicator'] == 'Western Europe'][\"Happiness Score\"]\n",
    "g2 = region_df_2020[region_df_2020['Regional indicator'] == 'Latin America and Caribbean'][\"Happiness Score\"]\n",
    "stats.ttest_ind(g1,g2)"
   ]
  },
  {
   "cell_type": "code",
   "execution_count": 61,
   "metadata": {},
   "outputs": [
    {
     "data": {
      "text/plain": [
       "Ttest_indResult(statistic=2.4211513991962854, pvalue=0.021319260714313337)"
      ]
     },
     "execution_count": 61,
     "metadata": {},
     "output_type": "execute_result"
    }
   ],
   "source": [
    "#Independent t-test - Happiness (CEE vs MENA)\n",
    "g3 = region_df_2020[region_df_2020['Regional indicator'] == 'Central and Eastern Europe'][\"Happiness Score\"]\n",
    "g4 = region_df_2020[region_df_2020['Regional indicator'] == 'Middle East and North Africa'][\"Happiness Score\"]\n",
    "stats.ttest_ind(g3,g4)"
   ]
  },
  {
   "cell_type": "code",
   "execution_count": 62,
   "metadata": {},
   "outputs": [
    {
     "data": {
      "image/png": "[encoded data removed]",
      "text/plain": [
       "<Figure size 1440x720 with 1 Axes>"
      ]
     },
     "metadata": {
      "needs_background": "light"
     },
     "output_type": "display_data"
    }
   ],
   "source": [
    "# Create a boxplot to compare means\n",
    "boxprops = dict(linestyle='-', linewidth=3)\n",
    "flierprops = dict(marker='o', markerfacecolor='mediumblue', markersize=15,\n",
    "                  linestyle='none')\n",
    "medianprops = dict(linestyle='-', linewidth=2.5)\n",
    "whiskerprops=dict(linestyle='-', linewidth=2)\n",
    "capprops=dict(linestyle='-', linewidth=2)\n",
    "color=dict(boxes='black', whiskers='black', medians='orange', caps='black')\n",
    "region_happinness = region_df_2020.boxplot(\"Happiness Score\", by=\"Regional indicator\", figsize=(20, 10), fontsize=13,\n",
    "                                             boxprops=boxprops, flierprops=flierprops, medianprops=medianprops, whiskerprops=whiskerprops,\n",
    "                                            capprops=capprops, color=color)\n",
    "region_happinness.set_title('Happiness Score', fontsize=20)\n",
    "plt.savefig(\"Images/happiness_score_by_region.png\");"
   ]
  },
  {
   "cell_type": "markdown",
   "metadata": {},
   "source": [
    "### ANOVA"
   ]
  },
  {
   "cell_type": "code",
   "execution_count": 63,
   "metadata": {},
   "outputs": [],
   "source": [
    "# Extract individual groups - GDP Score\n",
    "group1 = region_df_2020[region_df_2020['Regional indicator'] == 'Western Europe'][\"GDP per capita\"]\n",
    "group2 = region_df_2020[region_df_2020['Regional indicator'] == 'Latin America and Caribbean'][\"GDP per capita\"]\n",
    "group3 = region_df_2020[region_df_2020['Regional indicator'] == 'Central and Eastern Europe'][\"GDP per capita\"]\n",
    "group4 = region_df_2020[region_df_2020['Regional indicator'] == 'Middle East and North Africa'][\"GDP per capita\"]\n",
    "group5 = region_df_2020[region_df_2020['Regional indicator'] == 'North America and ANZ'][\"GDP per capita\"]"
   ]
  },
  {
   "cell_type": "code",
   "execution_count": 64,
   "metadata": {},
   "outputs": [
    {
     "data": {
      "text/plain": [
       "F_onewayResult(statistic=16.162613217293092, pvalue=1.379088612056574e-09)"
      ]
     },
     "execution_count": 64,
     "metadata": {},
     "output_type": "execute_result"
    }
   ],
   "source": [
    "stats.f_oneway(group1, group2, group3,group4, group5)"
   ]
  },
  {
   "cell_type": "markdown",
   "metadata": {},
   "source": [
    "### Posthocs"
   ]
  },
  {
   "cell_type": "code",
   "execution_count": 65,
   "metadata": {},
   "outputs": [],
   "source": [
    "#Dependencies\n",
    "import statsmodels.api as sa\n",
    "import statsmodels.formula.api as sfa\n",
    "import scikit_posthocs as sp"
   ]
  },
  {
   "cell_type": "code",
   "execution_count": 66,
   "metadata": {},
   "outputs": [
    {
     "data": {
      "text/plain": [
       "Index(['Country name', 'Regional indicator', 'Happiness Score',\n",
       "       'GDP per capita', 'Social support', 'Healthy life expectancy',\n",
       "       'Freedom to make life choices', 'Generosity'],\n",
       "      dtype='object')"
      ]
     },
     "execution_count": 66,
     "metadata": {},
     "output_type": "execute_result"
    }
   ],
   "source": [
    "region_df_2020.columns"
   ]
  },
  {
   "cell_type": "code",
   "execution_count": 67,
   "metadata": {},
   "outputs": [
    {
     "name": "stdout",
     "output_type": "stream",
     "text": [
      "            df     sum_sq   mean_sq         F        PR(>F)\n",
      "Region     4.0  32.062949  8.015737  15.76341  2.095752e-09\n",
      "Residual  75.0  38.137705  0.508503       NaN           NaN\n"
     ]
    },
    {
     "data": {
      "text/html": [
       "<div>\n",
       "<style scoped>\n",
       "    .dataframe tbody tr th:only-of-type {\n",
       "        vertical-align: middle;\n",
       "    }\n",
       "\n",
       "    .dataframe tbody tr th {\n",
       "        vertical-align: top;\n",
       "    }\n",
       "\n",
       "    .dataframe thead th {\n",
       "        text-align: right;\n",
       "    }\n",
       "</style>\n",
       "<table border=\"1\" class=\"dataframe\">\n",
       "  <thead>\n",
       "    <tr style=\"text-align: right;\">\n",
       "      <th></th>\n",
       "      <th>Western Europe</th>\n",
       "      <th>North America and ANZ</th>\n",
       "      <th>Middle East and North Africa</th>\n",
       "      <th>Latin America and Caribbean</th>\n",
       "      <th>Central and Eastern Europe</th>\n",
       "    </tr>\n",
       "  </thead>\n",
       "  <tbody>\n",
       "    <tr>\n",
       "      <th>Western Europe</th>\n",
       "      <td>1.000000</td>\n",
       "      <td>0.879772</td>\n",
       "      <td>0.000004</td>\n",
       "      <td>0.000579</td>\n",
       "      <td>0.000119</td>\n",
       "    </tr>\n",
       "    <tr>\n",
       "      <th>North America and ANZ</th>\n",
       "      <td>0.879772</td>\n",
       "      <td>1.000000</td>\n",
       "      <td>0.006432</td>\n",
       "      <td>0.008899</td>\n",
       "      <td>0.000892</td>\n",
       "    </tr>\n",
       "    <tr>\n",
       "      <th>Middle East and North Africa</th>\n",
       "      <td>0.000004</td>\n",
       "      <td>0.006432</td>\n",
       "      <td>1.000000</td>\n",
       "      <td>0.031610</td>\n",
       "      <td>0.063958</td>\n",
       "    </tr>\n",
       "    <tr>\n",
       "      <th>Latin America and Caribbean</th>\n",
       "      <td>0.000579</td>\n",
       "      <td>0.008899</td>\n",
       "      <td>0.031610</td>\n",
       "      <td>1.000000</td>\n",
       "      <td>0.879772</td>\n",
       "    </tr>\n",
       "    <tr>\n",
       "      <th>Central and Eastern Europe</th>\n",
       "      <td>0.000119</td>\n",
       "      <td>0.000892</td>\n",
       "      <td>0.063958</td>\n",
       "      <td>0.879772</td>\n",
       "      <td>1.000000</td>\n",
       "    </tr>\n",
       "  </tbody>\n",
       "</table>\n",
       "</div>"
      ],
      "text/plain": [
       "                              Western Europe  North America and ANZ  \\\n",
       "Western Europe                      1.000000               0.879772   \n",
       "North America and ANZ               0.879772               1.000000   \n",
       "Middle East and North Africa        0.000004               0.006432   \n",
       "Latin America and Caribbean         0.000579               0.008899   \n",
       "Central and Eastern Europe          0.000119               0.000892   \n",
       "\n",
       "                              Middle East and North Africa  \\\n",
       "Western Europe                                    0.000004   \n",
       "North America and ANZ                             0.006432   \n",
       "Middle East and North Africa                      1.000000   \n",
       "Latin America and Caribbean                       0.031610   \n",
       "Central and Eastern Europe                        0.063958   \n",
       "\n",
       "                              Latin America and Caribbean  \\\n",
       "Western Europe                                   0.000579   \n",
       "North America and ANZ                            0.008899   \n",
       "Middle East and North Africa                     0.031610   \n",
       "Latin America and Caribbean                      1.000000   \n",
       "Central and Eastern Europe                       0.879772   \n",
       "\n",
       "                              Central and Eastern Europe  \n",
       "Western Europe                                  0.000119  \n",
       "North America and ANZ                           0.000892  \n",
       "Middle East and North Africa                    0.063958  \n",
       "Latin America and Caribbean                     0.879772  \n",
       "Central and Eastern Europe                      1.000000  "
      ]
     },
     "execution_count": 67,
     "metadata": {},
     "output_type": "execute_result"
    }
   ],
   "source": [
    "# Posthocs Happinness \n",
    "region_df_2020.columns=['Country', 'Region', 'Happiness', 'GDP', 'SSupport',\n",
    "       'Health', 'Freedom', 'Generosity']\n",
    "lm = sfa.ols('Happiness ~ Region',data=region_df_2020).fit()\n",
    "anova = sa.stats.anova_lm(lm)\n",
    "print(anova)\n",
    "sp.posthoc_ttest(region_df_2020, val_col='Happiness', group_col='Region', p_adjust='holm')"
   ]
  },
  {
   "cell_type": "code",
   "execution_count": 68,
   "metadata": {},
   "outputs": [
    {
     "name": "stdout",
     "output_type": "stream",
     "text": [
      "            df     sum_sq   mean_sq         F        PR(>F)\n",
      "Region     4.0  32.062949  8.015737  15.76341  2.095752e-09\n",
      "Residual  75.0  38.137705  0.508503       NaN           NaN\n"
     ]
    },
    {
     "data": {
      "text/html": [
       "<div>\n",
       "<style scoped>\n",
       "    .dataframe tbody tr th:only-of-type {\n",
       "        vertical-align: middle;\n",
       "    }\n",
       "\n",
       "    .dataframe tbody tr th {\n",
       "        vertical-align: top;\n",
       "    }\n",
       "\n",
       "    .dataframe thead th {\n",
       "        text-align: right;\n",
       "    }\n",
       "</style>\n",
       "<table border=\"1\" class=\"dataframe\">\n",
       "  <thead>\n",
       "    <tr style=\"text-align: right;\">\n",
       "      <th></th>\n",
       "      <th>Western Europe</th>\n",
       "      <th>North America and ANZ</th>\n",
       "      <th>Middle East and North Africa</th>\n",
       "      <th>Latin America and Caribbean</th>\n",
       "      <th>Central and Eastern Europe</th>\n",
       "    </tr>\n",
       "  </thead>\n",
       "  <tbody>\n",
       "    <tr>\n",
       "      <th>Western Europe</th>\n",
       "      <td>1.000000e+00</td>\n",
       "      <td>0.893899</td>\n",
       "      <td>0.000493</td>\n",
       "      <td>1.209842e-09</td>\n",
       "      <td>0.000003</td>\n",
       "    </tr>\n",
       "    <tr>\n",
       "      <th>North America and ANZ</th>\n",
       "      <td>8.938988e-01</td>\n",
       "      <td>1.000000</td>\n",
       "      <td>0.196982</td>\n",
       "      <td>3.061168e-03</td>\n",
       "      <td>0.010502</td>\n",
       "    </tr>\n",
       "    <tr>\n",
       "      <th>Middle East and North Africa</th>\n",
       "      <td>4.926764e-04</td>\n",
       "      <td>0.196982</td>\n",
       "      <td>1.000000</td>\n",
       "      <td>3.663458e-01</td>\n",
       "      <td>0.584129</td>\n",
       "    </tr>\n",
       "    <tr>\n",
       "      <th>Latin America and Caribbean</th>\n",
       "      <td>1.209842e-09</td>\n",
       "      <td>0.003061</td>\n",
       "      <td>0.366346</td>\n",
       "      <td>1.000000e+00</td>\n",
       "      <td>0.005055</td>\n",
       "    </tr>\n",
       "    <tr>\n",
       "      <th>Central and Eastern Europe</th>\n",
       "      <td>2.954894e-06</td>\n",
       "      <td>0.010502</td>\n",
       "      <td>0.584129</td>\n",
       "      <td>5.055143e-03</td>\n",
       "      <td>1.000000</td>\n",
       "    </tr>\n",
       "  </tbody>\n",
       "</table>\n",
       "</div>"
      ],
      "text/plain": [
       "                              Western Europe  North America and ANZ  \\\n",
       "Western Europe                  1.000000e+00               0.893899   \n",
       "North America and ANZ           8.938988e-01               1.000000   \n",
       "Middle East and North Africa    4.926764e-04               0.196982   \n",
       "Latin America and Caribbean     1.209842e-09               0.003061   \n",
       "Central and Eastern Europe      2.954894e-06               0.010502   \n",
       "\n",
       "                              Middle East and North Africa  \\\n",
       "Western Europe                                    0.000493   \n",
       "North America and ANZ                             0.196982   \n",
       "Middle East and North Africa                      1.000000   \n",
       "Latin America and Caribbean                       0.366346   \n",
       "Central and Eastern Europe                        0.584129   \n",
       "\n",
       "                              Latin America and Caribbean  \\\n",
       "Western Europe                               1.209842e-09   \n",
       "North America and ANZ                        3.061168e-03   \n",
       "Middle East and North Africa                 3.663458e-01   \n",
       "Latin America and Caribbean                  1.000000e+00   \n",
       "Central and Eastern Europe                   5.055143e-03   \n",
       "\n",
       "                              Central and Eastern Europe  \n",
       "Western Europe                                  0.000003  \n",
       "North America and ANZ                           0.010502  \n",
       "Middle East and North Africa                    0.584129  \n",
       "Latin America and Caribbean                     0.005055  \n",
       "Central and Eastern Europe                      1.000000  "
      ]
     },
     "execution_count": 68,
     "metadata": {},
     "output_type": "execute_result"
    }
   ],
   "source": [
    "# Posthocs GDP\n",
    "region_df_2020.columns=['Country', 'Region', 'Happiness', 'GDP', 'SSupport',\n",
    "       'Health', 'Freedom', 'Generosity']\n",
    "lm = sfa.ols('Happiness ~ Region',data=region_df_2020).fit()\n",
    "anova = sa.stats.anova_lm(lm)\n",
    "print(anova)\n",
    "sp.posthoc_ttest(region_df_2020, val_col='GDP', group_col='Region', p_adjust='holm')"
   ]
  },
  {
   "cell_type": "code",
   "execution_count": 69,
   "metadata": {},
   "outputs": [],
   "source": [
    "# What is the correlation level between the variables and the happiness rank?\n",
    "def happiness(x_values, y_values):\n",
    "    (slope, intercept, rvalue, pvalue, stderr) = stats.linregress(x_values, y_values)\n",
    "    regress_values = x_values * slope + intercept\n",
    "    line_eq = \"y =\" + str(round(slope,2)) + \"x +\" + str(round(intercept,2))\n",
    "    plt.scatter(x_values, y_values, c=\"royalblue\", edgecolor=\"black\")\n",
    "    plt.plot(x_values, regress_values,\"springgreen\")\n",
    "    plt.xlabel(\"Happiness Score\")\n",
    "    plt.ylabel(y_values.name)\n",
    "    plt.show()\n",
    "    print(line_eq)\n",
    "    print(f\"The r-value is: {rvalue}\")"
   ]
  },
  {
   "cell_type": "code",
   "execution_count": null,
   "metadata": {},
   "outputs": [],
   "source": [
    "region_df_2020.columns"
   ]
  },
  {
   "cell_type": "code",
   "execution_count": null,
   "metadata": {},
   "outputs": [],
   "source": [
    "happiness(na_df[\"Happiness Score\"], na_df[\"GDP per capita\"])"
   ]
  }
 ],
 "metadata": {
  "kernelspec": {
   "display_name": "Python 3",
   "language": "python",
   "name": "python3"
  },
  "language_info": {
   "codemirror_mode": {
    "name": "ipython",
    "version": 3
   },
   "file_extension": ".py",
   "mimetype": "text/x-python",
   "name": "python",
   "nbconvert_exporter": "python",
   "pygments_lexer": "ipython3",
   "version": "3.7.6"
  }
 },
 "nbformat": 4,
 "nbformat_minor": 4
}
